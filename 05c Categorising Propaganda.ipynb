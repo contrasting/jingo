{
 "cells": [
  {
   "cell_type": "code",
   "execution_count": 1,
   "outputs": [],
   "source": [
    "import pandas as pd\n",
    "import pickle\n",
    "import matplotlib.pyplot as plt\n",
    "import seaborn as sns\n",
    "\n",
    "plt.rcParams['font.sans-serif']=['SimHei'] #Show Chinese label\n",
    "plt.rcParams['axes.unicode_minus']=False   #These two lines need to be set manually\n",
    "plt.rcParams['figure.figsize'] = (16, 9)"
   ],
   "metadata": {
    "collapsed": false,
    "pycharm": {
     "name": "#%%\n"
    }
   }
  },
  {
   "cell_type": "code",
   "execution_count": 2,
   "outputs": [
    {
     "data": {
      "text/plain": "         id       name  year  \\\n0  10344754      毒战 毒戰  2012   \n1  10355621  粉红女郎之爱人快跑  2013   \n2  10355633      绝命藏宝图  2012   \n4  10430281    七个隆咚锵咚锵  2012   \n5  10437802  武当少年 武當少年  2010   \n\n                                         description               genre  \\\n0  刚刚结束一次危险任务的津海市缉毒大队队长张雷（孙红雷 饰），在医院意外见到因车祸入院治疗的香...  ['剧情', '动作', '犯罪']   \n1  为了泡到一个男朋友，结婚狂（阿雅 饰）碰见魔术师高明（锦荣 饰）后，便告诉对方自己怀了他的孩...        ['喜剧', '爱情']   \n2  一对不食人间烟火的青年男女——彭少文和程雪珂狼狈地逃到余姚县城门口，他们身后有一群凶神恶煞的...        ['动作', '悬疑']   \n4  韩峰（韩兆 饰）在一天之内丢掉了工作和恋人，一无所有的他陷入了人生的低谷之中。然而，韩峰的运...        ['喜剧', '爱情']   \n5  主人公翔翔原本是一个天真浪漫，活泼好动的孩子，在一次观看武当武校在台湾的表演后，萌生了赴武当...        ['剧情', '儿童']   \n\n   ratingCount  bestRating  worstRating  ratingValue  directorMaxEffect  ...  \\\n0       210072          10            2          7.5              34235  ...   \n1         1826          10            2          3.2                 65  ...   \n2           78          10            2          3.2                 43  ...   \n4          506          10            2          4.9                115  ...   \n5           68          10            2          6.1                  2  ...   \n\n   y2014  y2015  y2016  y2017  y2018  y2019  y2020  y2021  y2022  dPropaganda  \n0      0      0      0      0      0      0      0      0      0            0  \n1      0      0      0      0      0      0      0      0      0            0  \n2      0      0      0      0      0      0      0      0      0            0  \n4      0      0      0      0      0      0      0      0      0            0  \n5      0      0      0      0      0      0      0      0      0            0  \n\n[5 rows x 52 columns]",
      "text/html": "<div>\n<style scoped>\n    .dataframe tbody tr th:only-of-type {\n        vertical-align: middle;\n    }\n\n    .dataframe tbody tr th {\n        vertical-align: top;\n    }\n\n    .dataframe thead th {\n        text-align: right;\n    }\n</style>\n<table border=\"1\" class=\"dataframe\">\n  <thead>\n    <tr style=\"text-align: right;\">\n      <th></th>\n      <th>id</th>\n      <th>name</th>\n      <th>year</th>\n      <th>description</th>\n      <th>genre</th>\n      <th>ratingCount</th>\n      <th>bestRating</th>\n      <th>worstRating</th>\n      <th>ratingValue</th>\n      <th>directorMaxEffect</th>\n      <th>...</th>\n      <th>y2014</th>\n      <th>y2015</th>\n      <th>y2016</th>\n      <th>y2017</th>\n      <th>y2018</th>\n      <th>y2019</th>\n      <th>y2020</th>\n      <th>y2021</th>\n      <th>y2022</th>\n      <th>dPropaganda</th>\n    </tr>\n  </thead>\n  <tbody>\n    <tr>\n      <th>0</th>\n      <td>10344754</td>\n      <td>毒战 毒戰</td>\n      <td>2012</td>\n      <td>刚刚结束一次危险任务的津海市缉毒大队队长张雷（孙红雷 饰），在医院意外见到因车祸入院治疗的香...</td>\n      <td>['剧情', '动作', '犯罪']</td>\n      <td>210072</td>\n      <td>10</td>\n      <td>2</td>\n      <td>7.5</td>\n      <td>34235</td>\n      <td>...</td>\n      <td>0</td>\n      <td>0</td>\n      <td>0</td>\n      <td>0</td>\n      <td>0</td>\n      <td>0</td>\n      <td>0</td>\n      <td>0</td>\n      <td>0</td>\n      <td>0</td>\n    </tr>\n    <tr>\n      <th>1</th>\n      <td>10355621</td>\n      <td>粉红女郎之爱人快跑</td>\n      <td>2013</td>\n      <td>为了泡到一个男朋友，结婚狂（阿雅 饰）碰见魔术师高明（锦荣 饰）后，便告诉对方自己怀了他的孩...</td>\n      <td>['喜剧', '爱情']</td>\n      <td>1826</td>\n      <td>10</td>\n      <td>2</td>\n      <td>3.2</td>\n      <td>65</td>\n      <td>...</td>\n      <td>0</td>\n      <td>0</td>\n      <td>0</td>\n      <td>0</td>\n      <td>0</td>\n      <td>0</td>\n      <td>0</td>\n      <td>0</td>\n      <td>0</td>\n      <td>0</td>\n    </tr>\n    <tr>\n      <th>2</th>\n      <td>10355633</td>\n      <td>绝命藏宝图</td>\n      <td>2012</td>\n      <td>一对不食人间烟火的青年男女——彭少文和程雪珂狼狈地逃到余姚县城门口，他们身后有一群凶神恶煞的...</td>\n      <td>['动作', '悬疑']</td>\n      <td>78</td>\n      <td>10</td>\n      <td>2</td>\n      <td>3.2</td>\n      <td>43</td>\n      <td>...</td>\n      <td>0</td>\n      <td>0</td>\n      <td>0</td>\n      <td>0</td>\n      <td>0</td>\n      <td>0</td>\n      <td>0</td>\n      <td>0</td>\n      <td>0</td>\n      <td>0</td>\n    </tr>\n    <tr>\n      <th>4</th>\n      <td>10430281</td>\n      <td>七个隆咚锵咚锵</td>\n      <td>2012</td>\n      <td>韩峰（韩兆 饰）在一天之内丢掉了工作和恋人，一无所有的他陷入了人生的低谷之中。然而，韩峰的运...</td>\n      <td>['喜剧', '爱情']</td>\n      <td>506</td>\n      <td>10</td>\n      <td>2</td>\n      <td>4.9</td>\n      <td>115</td>\n      <td>...</td>\n      <td>0</td>\n      <td>0</td>\n      <td>0</td>\n      <td>0</td>\n      <td>0</td>\n      <td>0</td>\n      <td>0</td>\n      <td>0</td>\n      <td>0</td>\n      <td>0</td>\n    </tr>\n    <tr>\n      <th>5</th>\n      <td>10437802</td>\n      <td>武当少年 武當少年</td>\n      <td>2010</td>\n      <td>主人公翔翔原本是一个天真浪漫，活泼好动的孩子，在一次观看武当武校在台湾的表演后，萌生了赴武当...</td>\n      <td>['剧情', '儿童']</td>\n      <td>68</td>\n      <td>10</td>\n      <td>2</td>\n      <td>6.1</td>\n      <td>2</td>\n      <td>...</td>\n      <td>0</td>\n      <td>0</td>\n      <td>0</td>\n      <td>0</td>\n      <td>0</td>\n      <td>0</td>\n      <td>0</td>\n      <td>0</td>\n      <td>0</td>\n      <td>0</td>\n    </tr>\n  </tbody>\n</table>\n<p>5 rows × 52 columns</p>\n</div>"
     },
     "execution_count": 2,
     "metadata": {},
     "output_type": "execute_result"
    }
   ],
   "source": [
    "movies = pd.read_csv(\"./data/movies_prop_df.csv\", index_col=0)\n",
    "movies.head()"
   ],
   "metadata": {
    "collapsed": false,
    "pycharm": {
     "name": "#%%\n"
    }
   }
  },
  {
   "cell_type": "code",
   "execution_count": 2,
   "outputs": [],
   "source": [
    "japan = {\n",
    "    10508901, 10553094, 10734527, 11589786, 19967789, 19975090, 19976099, 19995496, 19997896, 20458803, 23854117,\n",
    "    24383498, 24525721, 24854991, 25731086, 25761527, 25789352, 25808721, 25820616, 25874977, 25945369, 26005643,\n",
    "    26087446, 26316956, 26323542, 26331700, 26363291, 26378587, 26382797, 26389069, 26431412, 26438799, 26578123,\n",
    "    26605823, 26606018, 26643908, 26754233, 26769474, 26826571, 26827878, 26924066, 26974030, 26990713, 27063335,\n",
    "    27098619, 30283282, 30419063, 34845733, 34943661, 35123973, 35205446, 35295537, 35309666, 3562446, 35786349,\n",
    "    3792816, 4134631, 4825006, 4926002, 5045676, 5290697, 6080772, 6080801, 6118717, 6436755, 6436776, 6714125, 6815052, 6835239, 6984061, 26961119\n",
    "}\n",
    "# or revolution\n",
    "kmt = {\n",
    "    10527199, 10605577, 10746136, 21339522, 21359495, 24383521, 25743807, 26631304, 26822683, 30244759, 30345265,\n",
    "    30454698, 30463515, 4363034, 5338073, 5343383, 6041191, 6796186, 6801423, 11627081, 30261964, 6519563, 11627074,\n",
    "    35125443, 27180974, 6714122\n",
    "}\n",
    "# propaganda about the CCP or its \"hardworking, selfless\" officials, post 1949\n",
    "party = {\n",
    "    10738246, 11615437, 11627084, 19994974, 25927500, 25934932, 26452381, 26667646, 26769471, 26827508, 27067697,\n",
    "    27185404, 30291126, 30322432, 30481973, 4896295, 6519575\n",
    "}\n",
    "# stories about e.g., police, fireman, pilot, doctor\n",
    "public_service = {\n",
    "    10810268, 11627061, 20283521, 20376613, 20426973, 26658847, 26738642, 26898862, 26994736, 27104330, 27175974,\n",
    "    30185236, 34947776, 35087699, 30221757, 30295905, 11627083\n",
    "}\n",
    "# stories about the law, anti crime, drugs\n",
    "law_and_order = {\n",
    "    10833850, 20471346, 23115889, 24863241, 25746423, 25845384, 26304157, 26306671, 27086953, 27591144, 30210351,\n",
    "    34936468, 35164328, 35231414, 35611465, 4891917, 6519574, 30373723, 35172696, 30317706, 30327877\n",
    "}\n",
    "# propaganda about upstanding citizens \"Leifeng\"\n",
    "role_model = {\n",
    "    11632451, 11632726, 25931451, 26640841, 26877472, 30293828, 30347930, 34867956, 35061627, 6008428, 6013758\n",
    "}\n",
    "# people's lives, harmonious society\n",
    "societal = {\n",
    "    26384079, 26815182, 30402752, 34953868, 35051512, 35051512, 35096883, 35294995, 35303777, 35312437\n",
    "}\n",
    "# propaganda about the superiority of Chinese people/Chinese culture\n",
    "cultural = {\n",
    "    10478122, 10537987, 10573597, 10583890, 19965216, 19977901, 21327647, 24748879, 25980554, 26647899, 26796664,\n",
    "    26885074, 27040921, 30384234, 32659890, 35411088, 3578981, 4118068, 6041200, 6519585\n",
    "}\n",
    "# excessively militarist or foreign antagonist\n",
    "jingoistic = {\n",
    "    24530628, 24753810, 24863314, 25815034, 26266924, 26363254, 26616690, 26753020, 26861685, 27102739, 27596992,\n",
    "    30128916, 34833914, 3778238, 30413195\n",
    "}\n",
    "# propaganda about tibet, xinjiang, taiwan etc\n",
    "diplomatic = {\n",
    "    10810270, 25886523, 26607132, 26639463, 30175306, 30327768, 32491917, 34845519, 35624863, 4116937, 5045804, 6855101\n",
    "}\n",
    "anti_imperialist = {\n",
    "    24859460, 30207949, 30263962, 30393875, 35067563, 6514079,\n",
    "}\n",
    "korean_war = {\n",
    "    25845392, 25945350, 35155748, 35215390, 35225980, 35231379, 35613853\n",
    "}\n",
    "# this is egregious\n",
    "children = {\n",
    "    19977815, 19977818, 21323597, 24530508, 25869685, 26598990, 6394372\n",
    "}"
   ],
   "metadata": {
    "collapsed": false,
    "pycharm": {
     "name": "#%%\n"
    }
   }
  },
  {
   "cell_type": "code",
   "execution_count": 3,
   "outputs": [],
   "source": [
    "categories = {\n",
    "    \"Japan\": japan,\n",
    "    \"Revolution\": kmt,\n",
    "    \"Communist Party\": party,\n",
    "    \"Public Service\": public_service,\n",
    "    \"Law and Order\": law_and_order,\n",
    "    \"Role Model\": role_model,\n",
    "    \"Society\": societal,\n",
    "    \"Culture\": cultural,\n",
    "    \"Jingoistic\": jingoistic,\n",
    "    \"Diplomatic\": diplomatic,\n",
    "    \"Anti-imperialist\": anti_imperialist,\n",
    "    \"Korean War\": korean_war,\n",
    "    \"Children\": children,\n",
    "}"
   ],
   "metadata": {
    "collapsed": false,
    "pycharm": {
     "name": "#%%\n"
    }
   }
  },
  {
   "cell_type": "code",
   "execution_count": 5,
   "outputs": [
    {
     "data": {
      "text/plain": "239"
     },
     "execution_count": 5,
     "metadata": {},
     "output_type": "execute_result"
    }
   ],
   "source": [
    "# sanity check\n",
    "super_set = set()\n",
    "count = 0\n",
    "\n",
    "for c in categories.values():\n",
    "    for i in c:\n",
    "        count += 1\n",
    "        if i in super_set:\n",
    "            print(i)\n",
    "        else:\n",
    "            super_set.add(i)\n",
    "\n",
    "count"
   ],
   "metadata": {
    "collapsed": false,
    "pycharm": {
     "name": "#%%\n"
    }
   }
  },
  {
   "cell_type": "code",
   "execution_count": 6,
   "outputs": [
    {
     "data": {
      "text/plain": "239"
     },
     "execution_count": 6,
     "metadata": {},
     "output_type": "execute_result"
    }
   ],
   "source": [
    "movies.dPropaganda.sum()"
   ],
   "metadata": {
    "collapsed": false,
    "pycharm": {
     "name": "#%%\n"
    }
   }
  },
  {
   "cell_type": "code",
   "execution_count": 7,
   "outputs": [],
   "source": [
    "keywords = {\n",
    "    \"中国\", \"日军\", \"日本\", \"抗日\", \"人民\", \"英雄\", \"部队\", \"民族\", \"精神\", \"革命\", \"牺牲\", \"国民党\", \"红军\", \"中共\", \"祖国\", \"犯罪\", \"解放\", \"领导\", \"地下党\",\n",
    "    \"警察\", \"八路军\", \"主\", \"日寇\", \"西藏\", \"共产党\", \"同志\", \"新疆\", \"毛泽东\", \"爱国\", }"
   ],
   "metadata": {
    "collapsed": false,
    "pycharm": {
     "name": "#%%\n"
    }
   }
  },
  {
   "cell_type": "code",
   "execution_count": 8,
   "outputs": [],
   "source": [
    "with open(\"./data/details_dict.pkl\", \"rb\") as f:\n",
    "    details_dict = pickle.load(f)"
   ],
   "metadata": {
    "collapsed": false,
    "pycharm": {
     "name": "#%%\n"
    }
   }
  },
  {
   "cell_type": "code",
   "execution_count": 78,
   "outputs": [],
   "source": [
    "# write to nice html file\n",
    "with open(\"./categories.html\", \"w\", encoding=\"utf-8\") as f:\n",
    "    f.write(\"<style>\"\n",
    "            \"body { font-family: sans-serif; white-space: pre-line; max-width:900px; margin: auto }\"\n",
    "            \"</style>\")\n",
    "    f.write(\"<h1>Propaganda Movies by Categories</h1>\")\n",
    "    for k in categories:\n",
    "        f.write(f\"<a href='#{k}'>{k}</a><br>\")\n",
    "\n",
    "with open(\"./categories.html\", \"a\", encoding=\"utf-8\") as f:\n",
    "    for k, v in categories.items():\n",
    "        f.write(f\"<br><h1 id='{k}'>{k}</h1><br>\")\n",
    "        for index, row in movies[movies.id.isin(v)].iterrows():\n",
    "            f.write(f'<img src=\"{details_dict[str(row.id)][\"image\"]}\">')\n",
    "            f.write(f\"<p>https://movie.douban.com/subject/{row.id}/</p>\")\n",
    "            f.write(f\"<h2>{row['name']} ({row.year})</h2>\")\n",
    "            f.write(f\"<h3>{row.genre}</h3>\")\n",
    "            f.write(f\"<h3>Rating: {row.ratingValue}, count: {row.ratingCount}</h3>\")\n",
    "            desc = row.description\n",
    "            for k in keywords:\n",
    "                desc = desc.replace(k, \"<mark>\" + k + \"</mark>\")\n",
    "            f.write(f\"<p>{desc}</p>\")\n",
    "            f.write(\"<hr>\")"
   ],
   "metadata": {
    "collapsed": false,
    "pycharm": {
     "name": "#%%\n"
    }
   }
  },
  {
   "cell_type": "code",
   "execution_count": 6,
   "outputs": [
    {
     "data": {
      "text/plain": "<Figure size 1152x648 with 1 Axes>",
      "image/png": "[encoded data removed]"
     },
     "metadata": {},
     "output_type": "display_data"
    }
   ],
   "source": [
    "categories_freq = pd.Series({k: len(v) for k, v in categories.items()})\n",
    "plot = sns.barplot(x=categories_freq.index, y=categories_freq)"
   ],
   "metadata": {
    "collapsed": false,
    "pycharm": {
     "name": "#%%\n"
    }
   }
  },
  {
   "cell_type": "code",
   "execution_count": 9,
   "outputs": [],
   "source": [
    "plot.get_figure().savefig(\"./charts/propaganda_category.png\", dpi=150)"
   ],
   "metadata": {
    "collapsed": false,
    "pycharm": {
     "name": "#%%\n"
    }
   }
  },
  {
   "cell_type": "code",
   "execution_count": 7,
   "outputs": [],
   "source": [
    "movies.drop(columns=\"dPropaganda\", inplace=True)"
   ],
   "metadata": {
    "collapsed": false,
    "pycharm": {
     "name": "#%%\n"
    }
   }
  },
  {
   "cell_type": "code",
   "execution_count": 8,
   "outputs": [
    {
     "data": {
      "text/plain": "         id       name  year  \\\n0  10344754      毒战 毒戰  2012   \n1  10355621  粉红女郎之爱人快跑  2013   \n2  10355633      绝命藏宝图  2012   \n4  10430281    七个隆咚锵咚锵  2012   \n5  10437802  武当少年 武當少年  2010   \n\n                                         description               genre  \\\n0  刚刚结束一次危险任务的津海市缉毒大队队长张雷（孙红雷 饰），在医院意外见到因车祸入院治疗的香...  ['剧情', '动作', '犯罪']   \n1  为了泡到一个男朋友，结婚狂（阿雅 饰）碰见魔术师高明（锦荣 饰）后，便告诉对方自己怀了他的孩...        ['喜剧', '爱情']   \n2  一对不食人间烟火的青年男女——彭少文和程雪珂狼狈地逃到余姚县城门口，他们身后有一群凶神恶煞的...        ['动作', '悬疑']   \n4  韩峰（韩兆 饰）在一天之内丢掉了工作和恋人，一无所有的他陷入了人生的低谷之中。然而，韩峰的运...        ['喜剧', '爱情']   \n5  主人公翔翔原本是一个天真浪漫，活泼好动的孩子，在一次观看武当武校在台湾的表演后，萌生了赴武当...        ['剧情', '儿童']   \n\n   ratingCount  bestRating  worstRating  ratingValue  directorMaxEffect  ...  \\\n0       210072          10            2          7.5              34235  ...   \n1         1826          10            2          3.2                 65  ...   \n2           78          10            2          3.2                 43  ...   \n4          506          10            2          4.9                115  ...   \n5           68          10            2          6.1                  2  ...   \n\n   cPublic  cLaw  cRole  cSociety  cCulture  cJingoistic  cDiplomatic  cAnti  \\\n0        0     0      0         0         0            0            0      0   \n1        0     0      0         0         0            0            0      0   \n2        0     0      0         0         0            0            0      0   \n4        0     0      0         0         0            0            0      0   \n5        0     0      0         0         0            0            0      0   \n\n   cKorean  cChildren  \n0        0          0  \n1        0          0  \n2        0          0  \n4        0          0  \n5        0          0  \n\n[5 rows x 64 columns]",
      "text/html": "<div>\n<style scoped>\n    .dataframe tbody tr th:only-of-type {\n        vertical-align: middle;\n    }\n\n    .dataframe tbody tr th {\n        vertical-align: top;\n    }\n\n    .dataframe thead th {\n        text-align: right;\n    }\n</style>\n<table border=\"1\" class=\"dataframe\">\n  <thead>\n    <tr style=\"text-align: right;\">\n      <th></th>\n      <th>id</th>\n      <th>name</th>\n      <th>year</th>\n      <th>description</th>\n      <th>genre</th>\n      <th>ratingCount</th>\n      <th>bestRating</th>\n      <th>worstRating</th>\n      <th>ratingValue</th>\n      <th>directorMaxEffect</th>\n      <th>...</th>\n      <th>cPublic</th>\n      <th>cLaw</th>\n      <th>cRole</th>\n      <th>cSociety</th>\n      <th>cCulture</th>\n      <th>cJingoistic</th>\n      <th>cDiplomatic</th>\n      <th>cAnti</th>\n      <th>cKorean</th>\n      <th>cChildren</th>\n    </tr>\n  </thead>\n  <tbody>\n    <tr>\n      <th>0</th>\n      <td>10344754</td>\n      <td>毒战 毒戰</td>\n      <td>2012</td>\n      <td>刚刚结束一次危险任务的津海市缉毒大队队长张雷（孙红雷 饰），在医院意外见到因车祸入院治疗的香...</td>\n      <td>['剧情', '动作', '犯罪']</td>\n      <td>210072</td>\n      <td>10</td>\n      <td>2</td>\n      <td>7.5</td>\n      <td>34235</td>\n      <td>...</td>\n      <td>0</td>\n      <td>0</td>\n      <td>0</td>\n      <td>0</td>\n      <td>0</td>\n      <td>0</td>\n      <td>0</td>\n      <td>0</td>\n      <td>0</td>\n      <td>0</td>\n    </tr>\n    <tr>\n      <th>1</th>\n      <td>10355621</td>\n      <td>粉红女郎之爱人快跑</td>\n      <td>2013</td>\n      <td>为了泡到一个男朋友，结婚狂（阿雅 饰）碰见魔术师高明（锦荣 饰）后，便告诉对方自己怀了他的孩...</td>\n      <td>['喜剧', '爱情']</td>\n      <td>1826</td>\n      <td>10</td>\n      <td>2</td>\n      <td>3.2</td>\n      <td>65</td>\n      <td>...</td>\n      <td>0</td>\n      <td>0</td>\n      <td>0</td>\n      <td>0</td>\n      <td>0</td>\n      <td>0</td>\n      <td>0</td>\n      <td>0</td>\n      <td>0</td>\n      <td>0</td>\n    </tr>\n    <tr>\n      <th>2</th>\n      <td>10355633</td>\n      <td>绝命藏宝图</td>\n      <td>2012</td>\n      <td>一对不食人间烟火的青年男女——彭少文和程雪珂狼狈地逃到余姚县城门口，他们身后有一群凶神恶煞的...</td>\n      <td>['动作', '悬疑']</td>\n      <td>78</td>\n      <td>10</td>\n      <td>2</td>\n      <td>3.2</td>\n      <td>43</td>\n      <td>...</td>\n      <td>0</td>\n      <td>0</td>\n      <td>0</td>\n      <td>0</td>\n      <td>0</td>\n      <td>0</td>\n      <td>0</td>\n      <td>0</td>\n      <td>0</td>\n      <td>0</td>\n    </tr>\n    <tr>\n      <th>4</th>\n      <td>10430281</td>\n      <td>七个隆咚锵咚锵</td>\n      <td>2012</td>\n      <td>韩峰（韩兆 饰）在一天之内丢掉了工作和恋人，一无所有的他陷入了人生的低谷之中。然而，韩峰的运...</td>\n      <td>['喜剧', '爱情']</td>\n      <td>506</td>\n      <td>10</td>\n      <td>2</td>\n      <td>4.9</td>\n      <td>115</td>\n      <td>...</td>\n      <td>0</td>\n      <td>0</td>\n      <td>0</td>\n      <td>0</td>\n      <td>0</td>\n      <td>0</td>\n      <td>0</td>\n      <td>0</td>\n      <td>0</td>\n      <td>0</td>\n    </tr>\n    <tr>\n      <th>5</th>\n      <td>10437802</td>\n      <td>武当少年 武當少年</td>\n      <td>2010</td>\n      <td>主人公翔翔原本是一个天真浪漫，活泼好动的孩子，在一次观看武当武校在台湾的表演后，萌生了赴武当...</td>\n      <td>['剧情', '儿童']</td>\n      <td>68</td>\n      <td>10</td>\n      <td>2</td>\n      <td>6.1</td>\n      <td>2</td>\n      <td>...</td>\n      <td>0</td>\n      <td>0</td>\n      <td>0</td>\n      <td>0</td>\n      <td>0</td>\n      <td>0</td>\n      <td>0</td>\n      <td>0</td>\n      <td>0</td>\n      <td>0</td>\n    </tr>\n  </tbody>\n</table>\n<p>5 rows × 64 columns</p>\n</div>"
     },
     "execution_count": 8,
     "metadata": {},
     "output_type": "execute_result"
    }
   ],
   "source": [
    "# build category dummies\n",
    "for cat_name, cat in categories.items():\n",
    "    dummies = []\n",
    "    for i in movies.id:\n",
    "        dummies.append(1 if i in cat else 0)\n",
    "    movies.insert(len(movies.columns), f\"c{cat_name.replace('-', ' ').split(' ')[0]}\", dummies)\n",
    "\n",
    "movies.head()"
   ],
   "metadata": {
    "collapsed": false,
    "pycharm": {
     "name": "#%%\n"
    }
   }
  },
  {
   "cell_type": "code",
   "execution_count": 9,
   "outputs": [],
   "source": [
    "# DV trap\n",
    "movies.drop(columns=[\"cAnti\", ], inplace=True)"
   ],
   "metadata": {
    "collapsed": false,
    "pycharm": {
     "name": "#%%\n"
    }
   }
  },
  {
   "cell_type": "code",
   "execution_count": 10,
   "outputs": [],
   "source": [
    "movies.to_csv(\"./data/movies_cat_df.csv\")"
   ],
   "metadata": {
    "collapsed": false,
    "pycharm": {
     "name": "#%%\n"
    }
   }
  }
 ],
 "metadata": {
  "kernelspec": {
   "display_name": "Python 3",
   "language": "python",
   "name": "python3"
  },
  "language_info": {
   "codemirror_mode": {
    "name": "ipython",
    "version": 2
   },
   "file_extension": ".py",
   "mimetype": "text/x-python",
   "name": "python",
   "nbconvert_exporter": "python",
   "pygments_lexer": "ipython2",
   "version": "2.7.6"
  }
 },
 "nbformat": 4,
 "nbformat_minor": 0
}
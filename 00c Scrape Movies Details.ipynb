{
 "cells": [
  {
   "cell_type": "code",
   "execution_count": 1,
   "outputs": [],
   "source": [
    "import pickle"
   ],
   "metadata": {
    "collapsed": false,
    "pycharm": {
     "name": "#%%\n"
    }
   }
  },
  {
   "cell_type": "code",
   "execution_count": 10,
   "outputs": [
    {
     "name": "stdout",
     "output_type": "stream",
     "text": [
      "[{'directors': ['恩和'], 'rate': '', 'cover_x': 1134, 'star': '0', 'title': '展旦召', 'url': 'https://movie.douban.com/subject/5341862/', 'casts': ['乌兰其其格', '刘凯菲'], 'cover': 'https://img9.doubanio.com/view/photo/s_ratio_poster/public/p2517445748.jpg', 'id': '5341862', 'cover_y': 1606}, {'directors': ['姜文'], 'rate': '8.9', 'cover_x': 1500, 'star': '45', 'title': '让子弹飞', 'url': 'https://movie.douban.com/subject/3742360/', 'casts': ['姜文', '葛优', '周润发', '刘嘉玲', '陈坤'], 'cover': 'https://img9.doubanio.com/view/photo/s_ratio_poster/public/p1512562287.jpg', 'id': '3742360', 'cover_y': 2200}, {'directors': ['高群书'], 'rate': '6.1', 'cover_x': 1200, 'star': '30', 'title': '西风烈', 'url': 'https://movie.douban.com/subject/4082544/', 'casts': ['段奕宏', '倪大红', '吴京', '张立', '吴镇宇'], 'cover': 'https://img9.doubanio.com/view/photo/s_ratio_poster/public/p684366252.jpg', 'id': '4082544', 'cover_y': 1500}, {'directors': ['道尔巴'], 'rate': '', 'cover_x': 445, 'star': '0', 'title': '黄昏的默哀', 'url': 'https://movie.douban.com/subject/25724866/', 'casts': ['措毛', '旺加'], 'cover': 'https://img9.doubanio.com/view/photo/s_ratio_poster/public/p2155389142.jpg', 'id': '25724866', 'cover_y': 624}, {'directors': ['李蔚然'], 'rate': '6.1', 'cover_x': 1400, 'star': '30', 'title': '决战刹马镇', 'url': 'https://movie.douban.com/subject/4078562/', 'casts': ['孙红雷', '林志玲', '李立群', '黄海波', '甘薇'], 'cover': 'https://img9.doubanio.com/view/photo/s_ratio_poster/public/p580208004.jpg', 'id': '4078562', 'cover_y': 2004}]\n"
     ]
    }
   ],
   "source": [
    "with open(\"./data/list/西部_2010.pkl\", \"rb\") as f:\n",
    "    lol = pickle.load(f)\n",
    "    print(lol)"
   ],
   "metadata": {
    "collapsed": false,
    "pycharm": {
     "name": "#%%\n"
    }
   }
  }
 ],
 "metadata": {
  "kernelspec": {
   "display_name": "Python 3",
   "language": "python",
   "name": "python3"
  },
  "language_info": {
   "codemirror_mode": {
    "name": "ipython",
    "version": 2
   },
   "file_extension": ".py",
   "mimetype": "text/x-python",
   "name": "python",
   "nbconvert_exporter": "python",
   "pygments_lexer": "ipython2",
   "version": "2.7.6"
  }
 },
 "nbformat": 4,
 "nbformat_minor": 0
}
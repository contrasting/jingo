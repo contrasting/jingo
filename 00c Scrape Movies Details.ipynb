{
 "cells": [
  {
   "cell_type": "code",
   "execution_count": 1,
   "outputs": [],
   "source": [
    "import pickle\n",
    "import os"
   ],
   "metadata": {
    "collapsed": false,
    "pycharm": {
     "name": "#%%\n"
    }
   }
  },
  {
   "cell_type": "code",
   "execution_count": 2,
   "outputs": [],
   "source": [
    "path = \"./data/list\"\n",
    "\n",
    "uncleaned_count = 0\n",
    "\n",
    "movies_dict = {}\n",
    "\n",
    "for name in os.listdir(path):\n",
    "    with open(os.path.join(path, name), \"rb\") as f:\n",
    "        movies = pickle.load(f)\n",
    "        uncleaned_count += len(movies)\n",
    "        for m in movies:\n",
    "            movies_dict[m[\"id\"]] = m"
   ],
   "metadata": {
    "collapsed": false,
    "pycharm": {
     "name": "#%%\n"
    }
   }
  },
  {
   "cell_type": "code",
   "execution_count": 3,
   "outputs": [
    {
     "name": "stdout",
     "output_type": "stream",
     "text": [
      "Uncleaned count: 31467\n",
      "Duplicates removed count: 17594\n"
     ]
    }
   ],
   "source": [
    "print(f\"Uncleaned count: {uncleaned_count}\")\n",
    "print(f\"Duplicates removed count: {len(movies_dict)}\")"
   ],
   "metadata": {
    "collapsed": false,
    "pycharm": {
     "name": "#%%\n"
    }
   }
  },
  {
   "cell_type": "code",
   "execution_count": 4,
   "outputs": [
    {
     "name": "stdout",
     "output_type": "stream",
     "text": [
      "Cleaned count: 4289\n"
     ]
    }
   ],
   "source": [
    "# remove movies with no ratings, directors or actors\n",
    "\n",
    "to_remove = [k for k, v in movies_dict.items() if v[\"rate\"] == \"\" or len(v[\"directors\"]) == 0 or len(v[\"casts\"]) == 0]\n",
    "\n",
    "for i in to_remove:\n",
    "    del movies_dict[i]\n",
    "\n",
    "print(f\"Cleaned count: {len(movies_dict)}\")"
   ],
   "metadata": {
    "collapsed": false,
    "pycharm": {
     "name": "#%%\n"
    }
   }
  },
  {
   "cell_type": "code",
   "execution_count": 5,
   "outputs": [
    {
     "data": {
      "text/plain": "{'directors': ['韩延'],\n 'rate': '7.2',\n 'cover_x': 2999,\n 'star': '35',\n 'title': '动物世界',\n 'url': 'https://movie.douban.com/subject/26925317/',\n 'casts': ['李易峰', '迈克尔·道格拉斯', '周冬雨', '曹炳琨', '王戈'],\n 'cover': 'https://img9.doubanio.com/view/photo/s_ratio_poster/public/p2525528688.jpg',\n 'id': '26925317',\n 'cover_y': 4181}"
     },
     "execution_count": 5,
     "metadata": {},
     "output_type": "execute_result"
    }
   ],
   "source": [
    "movies_dict[\"26925317\"]"
   ],
   "metadata": {
    "collapsed": false,
    "pycharm": {
     "name": "#%%\n"
    }
   }
  },
  {
   "cell_type": "code",
   "execution_count": 6,
   "outputs": [],
   "source": [
    "# 4000 movies to scrape let's go\n",
    "\n",
    "import aiohttp\n",
    "from common import headers, proxies\n",
    "import random\n",
    "import time"
   ],
   "metadata": {
    "collapsed": false,
    "pycharm": {
     "name": "#%%\n"
    }
   }
  },
  {
   "cell_type": "code",
   "execution_count": 14,
   "outputs": [],
   "source": [
    "proxy_it = iter(proxies)\n",
    "\n",
    "def get_next_proxy():\n",
    "    return f\"http://{next(proxy_it)}\""
   ],
   "metadata": {
    "collapsed": false,
    "pycharm": {
     "name": "#%%\n"
    }
   }
  },
  {
   "cell_type": "code",
   "execution_count": 15,
   "outputs": [
    {
     "name": "stdout",
     "output_type": "stream",
     "text": [
      "[WinError 10054] An existing connection was forcibly closed by the remote host, switching proxy to http://106.75.86.177:80\n",
      "400, message='Bad Request', url=URL('http://106.75.86.177:80'), switching proxy to http://121.226.248.241:8118\n",
      "Cannot connect to host 121.226.248.241:8118 ssl:default [Connect call failed ('121.226.248.241', 8118)], switching proxy to http://219.138.229.131:9091\n",
      "400, message='Bad Request', url=URL('http://219.138.229.131:9091'), switching proxy to http://120.26.14.114:8888\n",
      "Response not 200, switching proxy to http://121.37.227.255:8888\n",
      "Scraped 止杀令, id 21357362, time elapsed 37.08364200592041, 3144 to go\n",
      "Scraped 旱地忽律朱贵, id 20432985, time elapsed 39.92454195022583, 3143 to go\n",
      "Scraped 爱情银行, id 11632586, time elapsed 43.007245779037476, 3142 to go\n",
      "Scraped 囧人之越挠越痒, id 10545947, time elapsed 46.194018840789795, 3141 to go\n",
      "Scraped 国徽, id 19965216, time elapsed 49.462395429611206, 3140 to go\n",
      "Scraped 红财神, id 21359495, time elapsed 52.9320228099823, 3139 to go\n",
      "Scraped 阆中之恋, id 20422192, time elapsed 55.515867948532104, 3138 to go\n",
      "Scraped 我的影子在奔跑, id 11615929, time elapsed 58.35655188560486, 3137 to go\n",
      "Scraped 全城高考, id 10759926, time elapsed 63.57779574394226, 3136 to go\n",
      "Scraped 健康树, id 22735668, time elapsed 65.725900888443, 3135 to go\n",
      "Scraped 衰鸟向前冲, id 21266940, time elapsed 68.70145606994629, 3134 to go\n",
      "Scraped 黑短寿, id 20453254, time elapsed 71.56779217720032, 3133 to go\n",
      "Scraped 童年的最后一个夏天, id 25847406, time elapsed 74.38580107688904, 3132 to go\n",
      "Scraped 梁知的精神世界, id 25917963, time elapsed 76.48181867599487, 3131 to go\n",
      "Scraped 创业三章, id 25972425, time elapsed 78.9396960735321, 3130 to go\n",
      "Scraped 热带, id 25849506, time elapsed 81.39718580245972, 3129 to go\n",
      "Scraped 一诺.千金, id 26946562, time elapsed 83.54840970039368, 3128 to go\n",
      "Scraped 归省, id 25907205, time elapsed 86.00586318969727, 3127 to go\n",
      "Scraped 爷爷的小戏文, id 26302549, time elapsed 88.87409782409668, 3126 to go\n",
      "Scraped 诺日吉玛, id 11527607, time elapsed 92.45371389389038, 3125 to go\n",
      "Scraped 深圳在路上, id 26261988, time elapsed 94.50290060043335, 3124 to go\n",
      "Scraped 五彩神箭, id 25741345, time elapsed 98.0283772945404, 3123 to go\n",
      "Scraped 系红裤带的女人, id 26306630, time elapsed 100.54692220687866, 3122 to go\n",
      "Scraped 水煮金蟾, id 25899692, time elapsed 102.70006775856018, 3121 to go\n",
      "Scraped 兔子先生, id 26433937, time elapsed 105.05183458328247, 3120 to go\n",
      "Scraped 少年棋王, id 25837721, time elapsed 107.2008695602417, 3119 to go\n",
      "Scraped 照见, id 26322807, time elapsed 110.27513647079468, 3118 to go\n",
      "Scraped 杨锅三的愤怒, id 26348154, time elapsed 112.93622994422913, 3117 to go\n",
      "Scraped 金鼓槌, id 26627695, time elapsed 115.39314079284668, 3116 to go\n",
      "Scraped 天下第一针, id 25803273, time elapsed 118.56907844543457, 3115 to go\n",
      "Scraped 心花怒放, id 26200657, time elapsed 120.41958451271057, 3114 to go\n",
      "Scraped 旁听生, id 26253590, time elapsed 122.56309509277344, 3113 to go\n",
      "Scraped 公主为奴, id 26627707, time elapsed 124.60980224609375, 3112 to go\n",
      "Scraped 水泥, id 26253596, time elapsed 127.06562185287476, 3111 to go\n",
      "Scraped 武痴, id 26631959, time elapsed 129.43624687194824, 3109 to go\n",
      "Scraped 丑郡马宣赞, id 26289449, time elapsed 131.55677914619446, 3108 to go\n",
      "Scraped 房子, id 26271929, time elapsed 132.80350375175476, 3107 to go\n",
      "Scraped 金钱豹子汤隆, id 25785280, time elapsed 135.0576856136322, 3106 to go\n",
      "Scraped 等你百年, id 25881598, time elapsed 137.92108488082886, 3105 to go\n",
      "Scraped 商谍2, id 26263418, time elapsed 140.3799660205841, 3104 to go\n",
      "Scraped 追爱·十年, id 26585785, time elapsed 142.53630900382996, 3103 to go\n",
      "Scraped 王牌, id 25743807, time elapsed 144.7860460281372, 3102 to go\n",
      "Scraped 年轻时代之女人心, id 25979638, time elapsed 146.52180886268616, 3101 to go\n",
      "Scraped 密室危机, id 26288979, time elapsed 148.67895340919495, 3100 to go\n",
      "Scraped 青春期4, id 22965771, time elapsed 151.43963408470154, 3099 to go\n",
      "Scraped 夫妻合伙人, id 25980221, time elapsed 154.002925157547, 3098 to go\n",
      "Scraped 泡上美女总裁, id 25868113, time elapsed 156.66637897491455, 3097 to go\n",
      "Scraped 魔法大逃亡, id 26252135, time elapsed 159.11652731895447, 3096 to go\n",
      "Scraped 美女来了, id 25848281, time elapsed 161.37625646591187, 3095 to go\n",
      "Scraped 偷窥女人心, id 25986724, time elapsed 163.2175943851471, 3094 to go\n",
      "Scraped 赌局风云之诈和, id 26285776, time elapsed 164.7564651966095, 3093 to go\n",
      "Scraped 量贩春光, id 25828812, time elapsed 167.1055510044098, 3092 to go\n",
      "Scraped 致青春兄弟篇, id 26265176, time elapsed 169.25806164741516, 3091 to go\n",
      "Scraped 瑰觅, id 26278102, time elapsed 171.6114900112152, 3090 to go\n",
      "Scraped 热武青春, id 26285152, time elapsed 173.76163816452026, 3089 to go\n",
      "Scraped 空姐, id 25839136, time elapsed 176.21917533874512, 3088 to go\n",
      "Scraped 谁的青春不叛逆, id 25962070, time elapsed 179.08972024917603, 3087 to go\n",
      "Scraped 一次性爱上2, id 25994654, time elapsed 180.8244411945343, 3086 to go\n",
      "Scraped 欲无罪, id 25870058, time elapsed 183.5949125289917, 3085 to go\n",
      "Scraped 我不是冯导, id 26271274, time elapsed 185.74390769004822, 3084 to go\n",
      "Scraped 屌丝小三, id 25817071, time elapsed 188.20163869857788, 3083 to go\n",
      "Scraped 那座山, id 26290814, time elapsed 190.48122096061707, 3082 to go\n",
      "Scraped 李贝拉的冬天, id 25839653, time elapsed 193.32685446739197, 3081 to go\n",
      "Scraped 一步之遥, id 6126442, time elapsed 195.4863588809967, 3080 to go\n",
      "Scraped 禁忌关系之双非, id 26283286, time elapsed 197.93020963668823, 3079 to go\n",
      "Scraped 谁动了我的梦想, id 21340764, time elapsed 200.65501308441162, 3078 to go\n",
      "Scraped 川剧往事, id 25922880, time elapsed 203.46202182769775, 3077 to go\n",
      "Scraped 黄克功案件, id 26005643, time elapsed 206.54581904411316, 3076 to go\n",
      "Scraped 太平轮(上), id 3078390, time elapsed 208.42329454421997, 3075 to go\n",
      "Scraped 生死船票, id 26274816, time elapsed 210.73357129096985, 3074 to go\n",
      "Scraped 美色时代, id 25923546, time elapsed 213.6707639694214, 3073 to go\n",
      "Scraped 诡计1940, id 26113785, time elapsed 215.77864170074463, 3072 to go\n",
      "Scraped 青春时光, id 25980432, time elapsed 218.4583704471588, 3071 to go\n",
      "Scraped 黄飞鸿之英雄有梦, id 25444447, time elapsed 222.40808963775635, 3070 to go\n",
      "Scraped 校花驾到之极品校花, id 25945624, time elapsed 225.80336618423462, 3069 to go\n",
      "Scraped 守望天湖, id 25773293, time elapsed 228.65035581588745, 3068 to go\n",
      "Scraped 一个勺子, id 25926267, time elapsed 234.594393491745, 3067 to go\n",
      "Scraped 少女哪吒, id 24753687, time elapsed 239.20005798339844, 3066 to go\n",
      "Scraped 天河, id 25972494, time elapsed 242.47572326660156, 3065 to go\n",
      "Scraped 街舞小子, id 26220966, time elapsed 244.1280620098114, 3064 to go\n",
      "Scraped 爱上女主播, id 25975241, time elapsed 246.4712200164795, 3063 to go\n",
      "Scraped 潜龙风云, id 25810920, time elapsed 249.44356155395508, 3062 to go\n",
      "Scraped 全城通缉, id 25849599, time elapsed 253.3351686000824, 3061 to go\n",
      "Scraped 家在水草丰茂的地方, id 11537965, time elapsed 255.99702191352844, 3060 to go\n",
      "Scraped 东北偏北, id 26061902, time elapsed 259.1712236404419, 3059 to go\n",
      "Scraped 佛山无影林凌七, id 26341726, time elapsed 262.33845710754395, 3058 to go\n",
      "Scraped 剑河, id 25762268, time elapsed 265.4129343032837, 3057 to go\n",
      "Scraped 青眼虎李云, id 26183021, time elapsed 267.56995391845703, 3056 to go\n",
      "Scraped 打工老板, id 25899691, time elapsed 270.63195753097534, 3055 to go\n",
      "Scraped 十二公民, id 24875534, time elapsed 284.96976947784424, 3054 to go\n",
      "Scraped 狂怒, id 23331914, time elapsed 287.2285692691803, 3053 to go\n",
      "Scraped 老腔, id 26337155, time elapsed 289.6018650531769, 3052 to go\n",
      "Scraped 毕业那年：分手季, id 25806660, time elapsed 291.7501459121704, 3051 to go\n",
      "Scraped 深情约定, id 25853042, time elapsed 293.98184299468994, 3050 to go\n",
      "Scraped 黄金日记, id 26147178, time elapsed 295.82526779174805, 3049 to go\n",
      "Scraped 不能说的夏天, id 25743833, time elapsed 299.9227714538574, 3048 to go\n",
      "Scraped 铠甲勇士之雅塔莱斯, id 24372055, time elapsed 302.99429392814636, 3047 to go\n",
      "Scraped 痞子英雄2：黎明升起, id 25709273, time elapsed 305.5556490421295, 3046 to go\n",
      "Scraped 杨家沟的天, id 20514929, time elapsed 307.81084060668945, 3045 to go\n",
      "Scraped 欲望保姆, id 26022027, time elapsed 310.2733745574951, 3044 to go\n",
      "Scraped 欲望歌手, id 26012110, time elapsed 312.00592494010925, 3043 to go\n",
      "Scraped 死亡派对, id 21941106, time elapsed 315.0774862766266, 3042 to go\n",
      "Scraped 环城七十里, id 24845637, time elapsed 318.1540057659149, 3041 to go\n",
      "Scraped 领养惊魂, id 25821664, time elapsed 321.1283349990845, 3040 to go\n",
      "Scraped 地下车库, id 26593739, time elapsed 323.16730666160583, 3039 to go\n",
      "Scraped 男人不可以穷, id 25824741, time elapsed 410.20711970329285, 3038 to go\n",
      "Server disconnected, switching proxy to http://182.103.254.196:8118\n",
      "Cannot connect to host 182.103.254.196:8118 ssl:default [Connect call failed ('182.103.254.196', 8118)], switching proxy to http://120.26.0.11:8880\n",
      "[WinError 10054] An existing connection was forcibly closed by the remote host, switching proxy to http://113.195.12.168:8085\n",
      "Cannot connect to host 113.195.12.168:8085 ssl:default [Connect call failed ('113.195.12.168', 8085)], switching proxy to http://171.110.10.40:8800\n",
      "Cannot connect to host 171.110.10.40:8800 ssl:default [Connect call failed ('171.110.10.40', 8800)], switching proxy to http://124.204.33.162:8000\n",
      "400, message='Bad Request', url=URL('http://124.204.33.162:8000'), switching proxy to http://58.221.193.74:8888\n",
      "Cannot connect to host 58.221.193.74:8888 ssl:default [Connect call failed ('58.221.193.74', 8888)], switching proxy to http://39.175.75.8:30001\n",
      "Server disconnected, switching proxy to http://39.175.92.35:30001\n",
      "Server disconnected, switching proxy to http://39.175.84.157:30001\n",
      "Server disconnected, switching proxy to http://39.175.75.144:30001\n",
      "Server disconnected, switching proxy to http://183.247.202.226:30001\n",
      "Server disconnected, switching proxy to http://183.247.194.121:30001\n",
      "400, message='Expected HTTP/', url=URL('http://183.247.194.121:30001'), switching proxy to http://39.175.75.15:30001\n",
      "[WinError 10054] An existing connection was forcibly closed by the remote host, switching proxy to http://120.196.179.73:9091\n",
      "400, message='Bad Request', url=URL('http://120.196.179.73:9091'), switching proxy to http://39.175.67.28:30001\n",
      "Server disconnected, switching proxy to http://183.247.202.208:30001\n",
      "Server disconnected, switching proxy to http://221.131.158.246:8888\n",
      "Cannot connect to host 221.131.158.246:8888 ssl:default [Connect call failed ('221.131.158.246', 8888)], switching proxy to http://183.247.194.229:30001\n",
      "Server disconnected, switching proxy to http://39.175.94.90:30001\n",
      "Server disconnected, switching proxy to http://183.247.199.131:30001\n",
      "400, message='Expected HTTP/', url=URL('http://183.247.199.131:30001'), switching proxy to http://218.201.71.75:8060\n",
      "Cannot connect to host 218.201.71.75:8060 ssl:default [Connect call failed ('218.201.71.75', 8060)], switching proxy to http://183.247.211.50:30001\n",
      "Server disconnected, switching proxy to http://183.247.199.215:30001\n",
      "Server disconnected, switching proxy to http://223.96.90.216:8085\n",
      "Cannot connect to host 223.96.90.216:8085 ssl:default [Connect call failed ('223.96.90.216', 8085)], switching proxy to http://27.220.136.254:8888\n",
      "Server disconnected, switching proxy to http://125.118.28.114:81\n",
      "Cannot connect to host 125.118.28.114:81 ssl:default [Connect call failed ('125.118.28.114', 81)], switching proxy to http://61.191.56.60:8085\n",
      "Cannot connect to host 61.191.56.60:8085 ssl:default [Connect call failed ('61.191.56.60', 8085)], switching proxy to http://49.7.19.74:80\n",
      "400, message='Bad Request', url=URL('http://49.7.19.74:80'), switching proxy to http://180.76.237.75:80\n"
     ]
    },
    {
     "ename": "RuntimeError",
     "evalue": "coroutine raised StopIteration",
     "output_type": "error",
     "traceback": [
      "\u001B[1;31m---------------------------------------------------------------------------\u001B[0m",
      "\u001B[1;31mClientOSError\u001B[0m                             Traceback (most recent call last)",
      "Input \u001B[1;32mIn [15]\u001B[0m, in \u001B[0;36m<cell line: 7>\u001B[1;34m()\u001B[0m\n\u001B[0;32m     17\u001B[0m \u001B[38;5;28;01mtry\u001B[39;00m:\n\u001B[1;32m---> 18\u001B[0m     \u001B[38;5;28;01masync\u001B[39;00m \u001B[38;5;28;01mwith\u001B[39;00m session\u001B[38;5;241m.\u001B[39mget(m[\u001B[38;5;124m\"\u001B[39m\u001B[38;5;124murl\u001B[39m\u001B[38;5;124m\"\u001B[39m], proxy\u001B[38;5;241m=\u001B[39mproxy) \u001B[38;5;28;01mas\u001B[39;00m resp:\n\u001B[0;32m     19\u001B[0m         \u001B[38;5;28;01mif\u001B[39;00m resp\u001B[38;5;241m.\u001B[39mstatus \u001B[38;5;241m==\u001B[39m \u001B[38;5;241m200\u001B[39m:\n",
      "File \u001B[1;32m~\\AppData\\Local\\Packages\\PythonSoftwareFoundation.Python.3.10_qbz5n2kfra8p0\\LocalCache\\local-packages\\Python310\\site-packages\\aiohttp\\client.py:1138\u001B[0m, in \u001B[0;36m_BaseRequestContextManager.__aenter__\u001B[1;34m(self)\u001B[0m\n\u001B[0;32m   1137\u001B[0m \u001B[38;5;28;01masync\u001B[39;00m \u001B[38;5;28;01mdef\u001B[39;00m \u001B[38;5;21m__aenter__\u001B[39m(\u001B[38;5;28mself\u001B[39m) \u001B[38;5;241m-\u001B[39m\u001B[38;5;241m>\u001B[39m _RetType:\n\u001B[1;32m-> 1138\u001B[0m     \u001B[38;5;28mself\u001B[39m\u001B[38;5;241m.\u001B[39m_resp \u001B[38;5;241m=\u001B[39m \u001B[38;5;28;01mawait\u001B[39;00m \u001B[38;5;28mself\u001B[39m\u001B[38;5;241m.\u001B[39m_coro\n\u001B[0;32m   1139\u001B[0m     \u001B[38;5;28;01mreturn\u001B[39;00m \u001B[38;5;28mself\u001B[39m\u001B[38;5;241m.\u001B[39m_resp\n",
      "File \u001B[1;32m~\\AppData\\Local\\Packages\\PythonSoftwareFoundation.Python.3.10_qbz5n2kfra8p0\\LocalCache\\local-packages\\Python310\\site-packages\\aiohttp\\client.py:535\u001B[0m, in \u001B[0;36mClientSession._request\u001B[1;34m(self, method, str_or_url, params, data, json, cookies, headers, skip_auto_headers, auth, allow_redirects, max_redirects, compress, chunked, expect100, raise_for_status, read_until_eof, proxy, proxy_auth, timeout, verify_ssl, fingerprint, ssl_context, ssl, proxy_headers, trace_request_ctx, read_bufsize)\u001B[0m\n\u001B[0;32m    534\u001B[0m         \u001B[38;5;28;01massert\u001B[39;00m \u001B[38;5;28mself\u001B[39m\u001B[38;5;241m.\u001B[39m_connector \u001B[38;5;129;01mis\u001B[39;00m \u001B[38;5;129;01mnot\u001B[39;00m \u001B[38;5;28;01mNone\u001B[39;00m\n\u001B[1;32m--> 535\u001B[0m         conn \u001B[38;5;241m=\u001B[39m \u001B[38;5;28;01mawait\u001B[39;00m \u001B[38;5;28mself\u001B[39m\u001B[38;5;241m.\u001B[39m_connector\u001B[38;5;241m.\u001B[39mconnect(\n\u001B[0;32m    536\u001B[0m             req, traces\u001B[38;5;241m=\u001B[39mtraces, timeout\u001B[38;5;241m=\u001B[39mreal_timeout\n\u001B[0;32m    537\u001B[0m         )\n\u001B[0;32m    538\u001B[0m \u001B[38;5;28;01mexcept\u001B[39;00m asyncio\u001B[38;5;241m.\u001B[39mTimeoutError \u001B[38;5;28;01mas\u001B[39;00m exc:\n",
      "File \u001B[1;32m~\\AppData\\Local\\Packages\\PythonSoftwareFoundation.Python.3.10_qbz5n2kfra8p0\\LocalCache\\local-packages\\Python310\\site-packages\\aiohttp\\connector.py:542\u001B[0m, in \u001B[0;36mBaseConnector.connect\u001B[1;34m(self, req, traces, timeout)\u001B[0m\n\u001B[0;32m    541\u001B[0m \u001B[38;5;28;01mtry\u001B[39;00m:\n\u001B[1;32m--> 542\u001B[0m     proto \u001B[38;5;241m=\u001B[39m \u001B[38;5;28;01mawait\u001B[39;00m \u001B[38;5;28mself\u001B[39m\u001B[38;5;241m.\u001B[39m_create_connection(req, traces, timeout)\n\u001B[0;32m    543\u001B[0m     \u001B[38;5;28;01mif\u001B[39;00m \u001B[38;5;28mself\u001B[39m\u001B[38;5;241m.\u001B[39m_closed:\n",
      "File \u001B[1;32m~\\AppData\\Local\\Packages\\PythonSoftwareFoundation.Python.3.10_qbz5n2kfra8p0\\LocalCache\\local-packages\\Python310\\site-packages\\aiohttp\\connector.py:905\u001B[0m, in \u001B[0;36mTCPConnector._create_connection\u001B[1;34m(self, req, traces, timeout)\u001B[0m\n\u001B[0;32m    904\u001B[0m \u001B[38;5;28;01mif\u001B[39;00m req\u001B[38;5;241m.\u001B[39mproxy:\n\u001B[1;32m--> 905\u001B[0m     _, proto \u001B[38;5;241m=\u001B[39m \u001B[38;5;28;01mawait\u001B[39;00m \u001B[38;5;28mself\u001B[39m\u001B[38;5;241m.\u001B[39m_create_proxy_connection(req, traces, timeout)\n\u001B[0;32m    906\u001B[0m \u001B[38;5;28;01melse\u001B[39;00m:\n",
      "File \u001B[1;32m~\\AppData\\Local\\Packages\\PythonSoftwareFoundation.Python.3.10_qbz5n2kfra8p0\\LocalCache\\local-packages\\Python310\\site-packages\\aiohttp\\connector.py:1275\u001B[0m, in \u001B[0;36mTCPConnector._create_proxy_connection\u001B[1;34m(self, req, traces, timeout)\u001B[0m\n\u001B[0;32m   1274\u001B[0m     protocol\u001B[38;5;241m.\u001B[39mset_response_params(read_until_eof\u001B[38;5;241m=\u001B[39mruntime_has_start_tls)\n\u001B[1;32m-> 1275\u001B[0m     resp \u001B[38;5;241m=\u001B[39m \u001B[38;5;28;01mawait\u001B[39;00m proxy_resp\u001B[38;5;241m.\u001B[39mstart(conn)\n\u001B[0;32m   1276\u001B[0m \u001B[38;5;28;01mexcept\u001B[39;00m \u001B[38;5;167;01mBaseException\u001B[39;00m:\n",
      "File \u001B[1;32m~\\AppData\\Local\\Packages\\PythonSoftwareFoundation.Python.3.10_qbz5n2kfra8p0\\LocalCache\\local-packages\\Python310\\site-packages\\aiohttp\\client_reqrep.py:898\u001B[0m, in \u001B[0;36mClientResponse.start\u001B[1;34m(self, connection)\u001B[0m\n\u001B[0;32m    897\u001B[0m     protocol \u001B[38;5;241m=\u001B[39m \u001B[38;5;28mself\u001B[39m\u001B[38;5;241m.\u001B[39m_protocol\n\u001B[1;32m--> 898\u001B[0m     message, payload \u001B[38;5;241m=\u001B[39m \u001B[38;5;28;01mawait\u001B[39;00m protocol\u001B[38;5;241m.\u001B[39mread()  \u001B[38;5;66;03m# type: ignore[union-attr]\u001B[39;00m\n\u001B[0;32m    899\u001B[0m \u001B[38;5;28;01mexcept\u001B[39;00m http\u001B[38;5;241m.\u001B[39mHttpProcessingError \u001B[38;5;28;01mas\u001B[39;00m exc:\n",
      "File \u001B[1;32m~\\AppData\\Local\\Packages\\PythonSoftwareFoundation.Python.3.10_qbz5n2kfra8p0\\LocalCache\\local-packages\\Python310\\site-packages\\aiohttp\\streams.py:616\u001B[0m, in \u001B[0;36mDataQueue.read\u001B[1;34m(self)\u001B[0m\n\u001B[0;32m    615\u001B[0m \u001B[38;5;28;01mtry\u001B[39;00m:\n\u001B[1;32m--> 616\u001B[0m     \u001B[38;5;28;01mawait\u001B[39;00m \u001B[38;5;28mself\u001B[39m\u001B[38;5;241m.\u001B[39m_waiter\n\u001B[0;32m    617\u001B[0m \u001B[38;5;28;01mexcept\u001B[39;00m (asyncio\u001B[38;5;241m.\u001B[39mCancelledError, asyncio\u001B[38;5;241m.\u001B[39mTimeoutError):\n",
      "\u001B[1;31mClientOSError\u001B[0m: [WinError 10054] An existing connection was forcibly closed by the remote host",
      "\nDuring handling of the above exception, another exception occurred:\n",
      "\u001B[1;31mStopIteration\u001B[0m                             Traceback (most recent call last)",
      "Input \u001B[1;32mIn [15]\u001B[0m, in \u001B[0;36m<cell line: 7>\u001B[1;34m()\u001B[0m\n\u001B[0;32m     27\u001B[0m \u001B[38;5;28;01mexcept\u001B[39;00m \u001B[38;5;167;01mException\u001B[39;00m \u001B[38;5;28;01mas\u001B[39;00m e:\n\u001B[1;32m---> 28\u001B[0m     proxy \u001B[38;5;241m=\u001B[39m get_next_proxy()\n\u001B[0;32m     29\u001B[0m     \u001B[38;5;28mprint\u001B[39m(\u001B[38;5;124mf\u001B[39m\u001B[38;5;124m\"\u001B[39m\u001B[38;5;132;01m{\u001B[39;00me\u001B[38;5;132;01m}\u001B[39;00m\u001B[38;5;124m, switching proxy to \u001B[39m\u001B[38;5;132;01m{\u001B[39;00mproxy\u001B[38;5;132;01m}\u001B[39;00m\u001B[38;5;124m\"\u001B[39m)\n",
      "Input \u001B[1;32mIn [14]\u001B[0m, in \u001B[0;36mget_next_proxy\u001B[1;34m()\u001B[0m\n\u001B[0;32m      3\u001B[0m \u001B[38;5;28;01mdef\u001B[39;00m \u001B[38;5;21mget_next_proxy\u001B[39m():\n\u001B[1;32m----> 4\u001B[0m     \u001B[38;5;28;01mreturn\u001B[39;00m \u001B[38;5;124mf\u001B[39m\u001B[38;5;124m\"\u001B[39m\u001B[38;5;124mhttp://\u001B[39m\u001B[38;5;132;01m{\u001B[39;00m\u001B[38;5;28mnext\u001B[39m(proxy_it)\u001B[38;5;132;01m}\u001B[39;00m\u001B[38;5;124m\"\u001B[39m\n",
      "\u001B[1;31mStopIteration\u001B[0m: ",
      "\nThe above exception was the direct cause of the following exception:\n",
      "\u001B[1;31mRuntimeError\u001B[0m                              Traceback (most recent call last)",
      "\u001B[1;31mRuntimeError\u001B[0m: coroutine raised StopIteration"
     ]
    }
   ],
   "source": [
    "# https://stackoverflow.com/questions/27092833/unicodeencodeerror-charmap-codec-cant-encode-characters\n",
    "\n",
    "proxy = get_next_proxy()\n",
    "start_time = time.time()\n",
    "count = 0\n",
    "\n",
    "async with aiohttp.ClientSession(headers=headers) as session:\n",
    "    for i, m in movies_dict.items():\n",
    "        name = f\"./data/detail/{i}.html\"\n",
    "        count += 1\n",
    "        if os.path.isfile(name):\n",
    "            continue\n",
    "\n",
    "        # try until no exception or response is 200\n",
    "        # yeah the nesting is pretty jank but whatever\n",
    "        while True:\n",
    "            try:\n",
    "                async with session.get(m[\"url\"], proxy=proxy) as resp:\n",
    "                    if resp.status == 200:\n",
    "                        result = await resp.text()\n",
    "                        if not result.startswith(\"<script>\"):\n",
    "                            with open(name, 'w', encoding=\"utf-8\") as f:\n",
    "                                f.write(result)\n",
    "                            break\n",
    "                    proxy = get_next_proxy()\n",
    "                    print(f\"Response not 200, switching proxy to {proxy}\")\n",
    "            except Exception as e:\n",
    "                proxy = get_next_proxy()\n",
    "                print(f\"{e}, switching proxy to {proxy}\")\n",
    "\n",
    "        print(f\"Scraped {m['title']}, id {i}, time elapsed {time.time() - start_time}, {len(movies_dict) - count} to go\")\n",
    "        time.sleep(random.random())"
   ],
   "metadata": {
    "collapsed": false,
    "pycharm": {
     "name": "#%%\n"
    }
   }
  },
  {
   "cell_type": "code",
   "execution_count": 15,
   "outputs": [
    {
     "data": {
      "text/plain": "1187"
     },
     "execution_count": 15,
     "metadata": {},
     "output_type": "execute_result"
    }
   ],
   "source": [
    "# check number of scraped files is correct\n",
    "_, _, files = next(os.walk(\"./data/detail\"))\n",
    "len(files)"
   ],
   "metadata": {
    "collapsed": false,
    "pycharm": {
     "name": "#%%\n"
    }
   }
  }
 ],
 "metadata": {
  "kernelspec": {
   "display_name": "Python 3",
   "language": "python",
   "name": "python3"
  },
  "language_info": {
   "codemirror_mode": {
    "name": "ipython",
    "version": 2
   },
   "file_extension": ".py",
   "mimetype": "text/x-python",
   "name": "python",
   "nbconvert_exporter": "python",
   "pygments_lexer": "ipython2",
   "version": "2.7.6"
  }
 },
 "nbformat": 4,
 "nbformat_minor": 0
}
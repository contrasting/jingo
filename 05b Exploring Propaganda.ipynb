{
 "cells": [
  {
   "cell_type": "code",
   "execution_count": 47,
   "outputs": [],
   "source": [
    "import pandas as pd\n",
    "import pickle\n",
    "import spacy\n",
    "import matplotlib.pyplot as plt\n",
    "import seaborn as sns\n",
    "\n",
    "plt.rcParams['font.sans-serif']=['SimHei'] #Show Chinese label\n",
    "plt.rcParams['axes.unicode_minus']=False   #These two lines need to be set manually\n",
    "plt.rcParams['figure.figsize'] = (16, 9)"
   ],
   "metadata": {
    "collapsed": false,
    "pycharm": {
     "name": "#%%\n"
    }
   }
  },
  {
   "cell_type": "code",
   "execution_count": 9,
   "outputs": [],
   "source": [
    "nlp = spacy.load('zh_core_web_lg')"
   ],
   "metadata": {
    "collapsed": false,
    "pycharm": {
     "name": "#%%\n"
    }
   }
  },
  {
   "cell_type": "code",
   "execution_count": 56,
   "outputs": [
    {
     "data": {
      "text/plain": "         id       name  year  \\\n0  10344754      毒战 毒戰  2012   \n1  10355621  粉红女郎之爱人快跑  2013   \n2  10355633      绝命藏宝图  2012   \n4  10430281    七个隆咚锵咚锵  2012   \n5  10437802  武当少年 武當少年  2010   \n\n                                         description               genre  \\\n0  刚刚结束一次危险任务的津海市缉毒大队队长张雷（孙红雷 饰），在医院意外见到因车祸入院治疗的香...  ['剧情', '动作', '犯罪']   \n1  为了泡到一个男朋友，结婚狂（阿雅 饰）碰见魔术师高明（锦荣 饰）后，便告诉对方自己怀了他的孩...        ['喜剧', '爱情']   \n2  一对不食人间烟火的青年男女——彭少文和程雪珂狼狈地逃到余姚县城门口，他们身后有一群凶神恶煞的...        ['动作', '悬疑']   \n4  韩峰（韩兆 饰）在一天之内丢掉了工作和恋人，一无所有的他陷入了人生的低谷之中。然而，韩峰的运...        ['喜剧', '爱情']   \n5  主人公翔翔原本是一个天真浪漫，活泼好动的孩子，在一次观看武当武校在台湾的表演后，萌生了赴武当...        ['剧情', '儿童']   \n\n   ratingCount  bestRating  worstRating  ratingValue  directorMaxEffect  ...  \\\n0       210072          10            2          7.5              34235  ...   \n1         1826          10            2          3.2                 65  ...   \n2           78          10            2          3.2                 43  ...   \n4          506          10            2          4.9                115  ...   \n5           68          10            2          6.1                  2  ...   \n\n   y2014  y2015  y2016  y2017  y2018  y2019  y2020  y2021  y2022  dPropaganda  \n0      0      0      0      0      0      0      0      0      0            0  \n1      0      0      0      0      0      0      0      0      0            0  \n2      0      0      0      0      0      0      0      0      0            0  \n4      0      0      0      0      0      0      0      0      0            0  \n5      0      0      0      0      0      0      0      0      0            0  \n\n[5 rows x 52 columns]",
      "text/html": "<div>\n<style scoped>\n    .dataframe tbody tr th:only-of-type {\n        vertical-align: middle;\n    }\n\n    .dataframe tbody tr th {\n        vertical-align: top;\n    }\n\n    .dataframe thead th {\n        text-align: right;\n    }\n</style>\n<table border=\"1\" class=\"dataframe\">\n  <thead>\n    <tr style=\"text-align: right;\">\n      <th></th>\n      <th>id</th>\n      <th>name</th>\n      <th>year</th>\n      <th>description</th>\n      <th>genre</th>\n      <th>ratingCount</th>\n      <th>bestRating</th>\n      <th>worstRating</th>\n      <th>ratingValue</th>\n      <th>directorMaxEffect</th>\n      <th>...</th>\n      <th>y2014</th>\n      <th>y2015</th>\n      <th>y2016</th>\n      <th>y2017</th>\n      <th>y2018</th>\n      <th>y2019</th>\n      <th>y2020</th>\n      <th>y2021</th>\n      <th>y2022</th>\n      <th>dPropaganda</th>\n    </tr>\n  </thead>\n  <tbody>\n    <tr>\n      <th>0</th>\n      <td>10344754</td>\n      <td>毒战 毒戰</td>\n      <td>2012</td>\n      <td>刚刚结束一次危险任务的津海市缉毒大队队长张雷（孙红雷 饰），在医院意外见到因车祸入院治疗的香...</td>\n      <td>['剧情', '动作', '犯罪']</td>\n      <td>210072</td>\n      <td>10</td>\n      <td>2</td>\n      <td>7.5</td>\n      <td>34235</td>\n      <td>...</td>\n      <td>0</td>\n      <td>0</td>\n      <td>0</td>\n      <td>0</td>\n      <td>0</td>\n      <td>0</td>\n      <td>0</td>\n      <td>0</td>\n      <td>0</td>\n      <td>0</td>\n    </tr>\n    <tr>\n      <th>1</th>\n      <td>10355621</td>\n      <td>粉红女郎之爱人快跑</td>\n      <td>2013</td>\n      <td>为了泡到一个男朋友，结婚狂（阿雅 饰）碰见魔术师高明（锦荣 饰）后，便告诉对方自己怀了他的孩...</td>\n      <td>['喜剧', '爱情']</td>\n      <td>1826</td>\n      <td>10</td>\n      <td>2</td>\n      <td>3.2</td>\n      <td>65</td>\n      <td>...</td>\n      <td>0</td>\n      <td>0</td>\n      <td>0</td>\n      <td>0</td>\n      <td>0</td>\n      <td>0</td>\n      <td>0</td>\n      <td>0</td>\n      <td>0</td>\n      <td>0</td>\n    </tr>\n    <tr>\n      <th>2</th>\n      <td>10355633</td>\n      <td>绝命藏宝图</td>\n      <td>2012</td>\n      <td>一对不食人间烟火的青年男女——彭少文和程雪珂狼狈地逃到余姚县城门口，他们身后有一群凶神恶煞的...</td>\n      <td>['动作', '悬疑']</td>\n      <td>78</td>\n      <td>10</td>\n      <td>2</td>\n      <td>3.2</td>\n      <td>43</td>\n      <td>...</td>\n      <td>0</td>\n      <td>0</td>\n      <td>0</td>\n      <td>0</td>\n      <td>0</td>\n      <td>0</td>\n      <td>0</td>\n      <td>0</td>\n      <td>0</td>\n      <td>0</td>\n    </tr>\n    <tr>\n      <th>4</th>\n      <td>10430281</td>\n      <td>七个隆咚锵咚锵</td>\n      <td>2012</td>\n      <td>韩峰（韩兆 饰）在一天之内丢掉了工作和恋人，一无所有的他陷入了人生的低谷之中。然而，韩峰的运...</td>\n      <td>['喜剧', '爱情']</td>\n      <td>506</td>\n      <td>10</td>\n      <td>2</td>\n      <td>4.9</td>\n      <td>115</td>\n      <td>...</td>\n      <td>0</td>\n      <td>0</td>\n      <td>0</td>\n      <td>0</td>\n      <td>0</td>\n      <td>0</td>\n      <td>0</td>\n      <td>0</td>\n      <td>0</td>\n      <td>0</td>\n    </tr>\n    <tr>\n      <th>5</th>\n      <td>10437802</td>\n      <td>武当少年 武當少年</td>\n      <td>2010</td>\n      <td>主人公翔翔原本是一个天真浪漫，活泼好动的孩子，在一次观看武当武校在台湾的表演后，萌生了赴武当...</td>\n      <td>['剧情', '儿童']</td>\n      <td>68</td>\n      <td>10</td>\n      <td>2</td>\n      <td>6.1</td>\n      <td>2</td>\n      <td>...</td>\n      <td>0</td>\n      <td>0</td>\n      <td>0</td>\n      <td>0</td>\n      <td>0</td>\n      <td>0</td>\n      <td>0</td>\n      <td>0</td>\n      <td>0</td>\n      <td>0</td>\n    </tr>\n  </tbody>\n</table>\n<p>5 rows × 52 columns</p>\n</div>"
     },
     "execution_count": 56,
     "metadata": {},
     "output_type": "execute_result"
    }
   ],
   "source": [
    "movies = pd.read_csv(\"./data/movies_prop_df.csv\", index_col=0)\n",
    "movies.head()"
   ],
   "metadata": {
    "collapsed": false,
    "pycharm": {
     "name": "#%%\n"
    }
   }
  },
  {
   "cell_type": "code",
   "execution_count": 57,
   "outputs": [
    {
     "data": {
      "text/plain": "          id           name  year  \\\n20  10478122  平壤之约 평양에서의 약속  2012   \n30  10508901             匹夫  2012   \n35  10527199         渡江！渡江！  2012   \n38  10537987           宗师卜六  2013   \n47  10553094           月色狰狞  2012   \n\n                                          description  \\\n20  中国青年舞蹈家王晓楠（刘冬 饰）在“民族舞蹈大赛”表演朝鲜舞蹈《铃铛》时，被总评审——奶奶陈...   \n30  抗日战争年代，一群亡命之徒集结在北方平原。他们在首领方有望（黄晓明 饰）带领下，建立了一个地...   \n35  国民党军营长黄怀恩（张笑君 饰）在解放军发起渡江战役前夕，率部撤离驻守的楚家渡口，退守江南。...   \n38  电影《宗师卜六》主要讲述民国时期一代跤王卜恩富的传奇故事。影视演员、著名打星吴樾在剧中饰演主...   \n47  地矿学家李教授带学生莫天良（邢佳栋 饰）和女儿月儿探寻矿源，获绘有金矿地势的羊皮图。盗匪赵无...   \n\n                       genre  ratingCount  bestRating  worstRating  \\\n20                    ['剧情']         1148          10            2   \n30  ['剧情', '动作', '战争', '西部']        26297          10            2   \n35              ['历史', '战争']          657          10            2   \n38        ['传记', '动作', '古装']          250          10            2   \n47              ['动作', '悬疑']          349          10            2   \n\n    ratingValue  directorMaxEffect  ...  y2014  y2015  y2016  y2017  y2018  \\\n20          4.1                212  ...      0      0      0      0      0   \n30          5.4                208  ...      0      0      0      0      0   \n35          3.0                  3  ...      0      0      0      0      0   \n38          4.1                 20  ...      0      0      0      0      0   \n47          3.4                 38  ...      0      0      0      0      0   \n\n    y2019  y2020  y2021  y2022  dPropaganda  \n20      0      0      0      0            1  \n30      0      0      0      0            1  \n35      0      0      0      0            1  \n38      0      0      0      0            1  \n47      0      0      0      0            1  \n\n[5 rows x 52 columns]",
      "text/html": "<div>\n<style scoped>\n    .dataframe tbody tr th:only-of-type {\n        vertical-align: middle;\n    }\n\n    .dataframe tbody tr th {\n        vertical-align: top;\n    }\n\n    .dataframe thead th {\n        text-align: right;\n    }\n</style>\n<table border=\"1\" class=\"dataframe\">\n  <thead>\n    <tr style=\"text-align: right;\">\n      <th></th>\n      <th>id</th>\n      <th>name</th>\n      <th>year</th>\n      <th>description</th>\n      <th>genre</th>\n      <th>ratingCount</th>\n      <th>bestRating</th>\n      <th>worstRating</th>\n      <th>ratingValue</th>\n      <th>directorMaxEffect</th>\n      <th>...</th>\n      <th>y2014</th>\n      <th>y2015</th>\n      <th>y2016</th>\n      <th>y2017</th>\n      <th>y2018</th>\n      <th>y2019</th>\n      <th>y2020</th>\n      <th>y2021</th>\n      <th>y2022</th>\n      <th>dPropaganda</th>\n    </tr>\n  </thead>\n  <tbody>\n    <tr>\n      <th>20</th>\n      <td>10478122</td>\n      <td>平壤之约 평양에서의 약속</td>\n      <td>2012</td>\n      <td>中国青年舞蹈家王晓楠（刘冬 饰）在“民族舞蹈大赛”表演朝鲜舞蹈《铃铛》时，被总评审——奶奶陈...</td>\n      <td>['剧情']</td>\n      <td>1148</td>\n      <td>10</td>\n      <td>2</td>\n      <td>4.1</td>\n      <td>212</td>\n      <td>...</td>\n      <td>0</td>\n      <td>0</td>\n      <td>0</td>\n      <td>0</td>\n      <td>0</td>\n      <td>0</td>\n      <td>0</td>\n      <td>0</td>\n      <td>0</td>\n      <td>1</td>\n    </tr>\n    <tr>\n      <th>30</th>\n      <td>10508901</td>\n      <td>匹夫</td>\n      <td>2012</td>\n      <td>抗日战争年代，一群亡命之徒集结在北方平原。他们在首领方有望（黄晓明 饰）带领下，建立了一个地...</td>\n      <td>['剧情', '动作', '战争', '西部']</td>\n      <td>26297</td>\n      <td>10</td>\n      <td>2</td>\n      <td>5.4</td>\n      <td>208</td>\n      <td>...</td>\n      <td>0</td>\n      <td>0</td>\n      <td>0</td>\n      <td>0</td>\n      <td>0</td>\n      <td>0</td>\n      <td>0</td>\n      <td>0</td>\n      <td>0</td>\n      <td>1</td>\n    </tr>\n    <tr>\n      <th>35</th>\n      <td>10527199</td>\n      <td>渡江！渡江！</td>\n      <td>2012</td>\n      <td>国民党军营长黄怀恩（张笑君 饰）在解放军发起渡江战役前夕，率部撤离驻守的楚家渡口，退守江南。...</td>\n      <td>['历史', '战争']</td>\n      <td>657</td>\n      <td>10</td>\n      <td>2</td>\n      <td>3.0</td>\n      <td>3</td>\n      <td>...</td>\n      <td>0</td>\n      <td>0</td>\n      <td>0</td>\n      <td>0</td>\n      <td>0</td>\n      <td>0</td>\n      <td>0</td>\n      <td>0</td>\n      <td>0</td>\n      <td>1</td>\n    </tr>\n    <tr>\n      <th>38</th>\n      <td>10537987</td>\n      <td>宗师卜六</td>\n      <td>2013</td>\n      <td>电影《宗师卜六》主要讲述民国时期一代跤王卜恩富的传奇故事。影视演员、著名打星吴樾在剧中饰演主...</td>\n      <td>['传记', '动作', '古装']</td>\n      <td>250</td>\n      <td>10</td>\n      <td>2</td>\n      <td>4.1</td>\n      <td>20</td>\n      <td>...</td>\n      <td>0</td>\n      <td>0</td>\n      <td>0</td>\n      <td>0</td>\n      <td>0</td>\n      <td>0</td>\n      <td>0</td>\n      <td>0</td>\n      <td>0</td>\n      <td>1</td>\n    </tr>\n    <tr>\n      <th>47</th>\n      <td>10553094</td>\n      <td>月色狰狞</td>\n      <td>2012</td>\n      <td>地矿学家李教授带学生莫天良（邢佳栋 饰）和女儿月儿探寻矿源，获绘有金矿地势的羊皮图。盗匪赵无...</td>\n      <td>['动作', '悬疑']</td>\n      <td>349</td>\n      <td>10</td>\n      <td>2</td>\n      <td>3.4</td>\n      <td>38</td>\n      <td>...</td>\n      <td>0</td>\n      <td>0</td>\n      <td>0</td>\n      <td>0</td>\n      <td>0</td>\n      <td>0</td>\n      <td>0</td>\n      <td>0</td>\n      <td>0</td>\n      <td>1</td>\n    </tr>\n  </tbody>\n</table>\n<p>5 rows × 52 columns</p>\n</div>"
     },
     "execution_count": 57,
     "metadata": {},
     "output_type": "execute_result"
    }
   ],
   "source": [
    "propaganda = movies[movies.dPropaganda == 1]\n",
    "propaganda.head()"
   ],
   "metadata": {
    "collapsed": false,
    "pycharm": {
     "name": "#%%\n"
    }
   }
  },
  {
   "cell_type": "markdown",
   "source": [
    "## Top Genres for Propaganda?"
   ],
   "metadata": {
    "collapsed": false,
    "pycharm": {
     "name": "#%% md\n"
    }
   }
  },
  {
   "cell_type": "code",
   "execution_count": 58,
   "outputs": [],
   "source": [
    "genres = {'传记', '儿童', '冒险', '剧情', '动作', '动画', '历史', '古装', '喜剧', '奇幻', '家庭', '恐怖', '悬疑', '惊悚', '战争', '歌舞', '武侠', '灾难',\n",
    "          '爱情', '犯罪', '科幻', '西部', '运动', '音乐'}"
   ],
   "metadata": {
    "collapsed": false,
    "pycharm": {
     "name": "#%%\n"
    }
   }
  },
  {
   "cell_type": "code",
   "execution_count": 59,
   "outputs": [],
   "source": [
    "genre_freq = dict.fromkeys(genres, 0)\n",
    "\n",
    "for genre in genres:\n",
    "    for g in propaganda.genre:\n",
    "        if genre in g:\n",
    "            genre_freq[genre] += 1\n",
    "\n",
    "genre_freq = pd.Series(genre_freq)"
   ],
   "metadata": {
    "collapsed": false,
    "pycharm": {
     "name": "#%%\n"
    }
   }
  },
  {
   "cell_type": "code",
   "execution_count": 60,
   "outputs": [
    {
     "data": {
      "text/plain": "<AxesSubplot:>"
     },
     "execution_count": 60,
     "metadata": {},
     "output_type": "execute_result"
    },
    {
     "data": {
      "text/plain": "<Figure size 1152x648 with 1 Axes>",
      "image/png": "[encoded data removed]"
     },
     "metadata": {
      "needs_background": "light"
     },
     "output_type": "display_data"
    }
   ],
   "source": [
    "sns.barplot(x=genre_freq.index, y=genre_freq)"
   ],
   "metadata": {
    "collapsed": false,
    "pycharm": {
     "name": "#%%\n"
    }
   }
  },
  {
   "cell_type": "markdown",
   "source": [
    "## Common Keywords?"
   ],
   "metadata": {
    "collapsed": false,
    "pycharm": {
     "name": "#%% md\n"
    }
   }
  },
  {
   "cell_type": "code",
   "execution_count": 61,
   "outputs": [
    {
     "data": {
      "text/plain": "中国     139\n青年      21\n舞蹈家      1\n王晓楠      3\n（      245\ndtype: int64"
     },
     "execution_count": 61,
     "metadata": {},
     "output_type": "execute_result"
    }
   ],
   "source": [
    "lexicon = {}\n",
    "\n",
    "for desc in propaganda.description:\n",
    "    for token in nlp(desc):\n",
    "        word = str(token)\n",
    "        if word in lexicon:\n",
    "            lexicon[word] += 1\n",
    "        else:\n",
    "            lexicon[word] = 1\n",
    "\n",
    "lexicon = pd.Series(lexicon)\n",
    "lexicon.head()"
   ],
   "metadata": {
    "collapsed": false,
    "pycharm": {
     "name": "#%%\n"
    }
   }
  },
  {
   "cell_type": "code",
   "execution_count": 62,
   "outputs": [
    {
     "data": {
      "text/plain": "，     2970\n的     2100\n。     1165\n了      649\n在      528\n      ... \n公安       9\n保护       9\n运动       9\n大学       9\n一战       9\nLength: 500, dtype: int64"
     },
     "execution_count": 62,
     "metadata": {},
     "output_type": "execute_result"
    }
   ],
   "source": [
    "lexicon.sort_values(ascending=False).iloc[:500]"
   ],
   "metadata": {
    "collapsed": false,
    "pycharm": {
     "name": "#%%\n"
    }
   }
  },
  {
   "cell_type": "code",
   "execution_count": 63,
   "outputs": [],
   "source": [
    "# pick out\n",
    "keywords = {\n",
    "    \"中国\",\n",
    "    \"日军\",\n",
    "    \"日本\",\n",
    "    \"抗日\",\n",
    "    \"人民\",\n",
    "    \"英雄\",\n",
    "    \"部队\",\n",
    "    \"民族\",\n",
    "    \"精神\",\n",
    "    \"革命\",\n",
    "    \"牺牲\",\n",
    "    \"国民党\",\n",
    "    \"红军\",\n",
    "    \"中共\",\n",
    "    \"祖国\",\n",
    "    \"犯罪\",\n",
    "    \"解放\",\n",
    "    \"领导\",\n",
    "    \"地下党\",\n",
    "    \"警察\",\n",
    "    \"八路军\",\n",
    "    \"主席\",\n",
    "    \"日寇\",\n",
    "    \"西藏\",\n",
    "    \"共产党\",\n",
    "    \"同志\",\n",
    "    \"新疆\",\n",
    "    \"毛泽东\",\n",
    "    \"爱国\",\n",
    "}"
   ],
   "metadata": {
    "collapsed": false,
    "pycharm": {
     "name": "#%%\n"
    }
   }
  },
  {
   "cell_type": "code",
   "execution_count": 64,
   "outputs": [],
   "source": [
    "keyword_freq = dict.fromkeys(keywords, 0)\n",
    "\n",
    "# number of movies which mention\n",
    "for desc in propaganda.description:\n",
    "    for k in keywords:\n",
    "        if k in desc:\n",
    "            keyword_freq[k] += 1\n",
    "\n",
    "keyword_freq = pd.Series(keyword_freq)"
   ],
   "metadata": {
    "collapsed": false,
    "pycharm": {
     "name": "#%%\n"
    }
   }
  },
  {
   "cell_type": "code",
   "execution_count": 65,
   "outputs": [
    {
     "data": {
      "text/plain": "<AxesSubplot:>"
     },
     "execution_count": 65,
     "metadata": {},
     "output_type": "execute_result"
    },
    {
     "data": {
      "text/plain": "<Figure size 1152x648 with 1 Axes>",
      "image/png": "[encoded data removed]"
     },
     "metadata": {
      "needs_background": "light"
     },
     "output_type": "display_data"
    }
   ],
   "source": [
    "sns.barplot(x=keyword_freq.index, y=keyword_freq)"
   ],
   "metadata": {
    "collapsed": false,
    "pycharm": {
     "name": "#%%\n"
    }
   }
  },
  {
   "cell_type": "markdown",
   "source": [
    "## Write to nice readable HTML"
   ],
   "metadata": {
    "collapsed": false,
    "pycharm": {
     "name": "#%% md\n"
    }
   }
  },
  {
   "cell_type": "code",
   "execution_count": 66,
   "outputs": [],
   "source": [
    "with open(\"./data/details_dict.pkl\", mode=\"rb\") as f:\n",
    "    details_dict = pickle.load(f)"
   ],
   "metadata": {
    "collapsed": false,
    "pycharm": {
     "name": "#%%\n"
    }
   }
  },
  {
   "cell_type": "code",
   "execution_count": 67,
   "outputs": [],
   "source": [
    "with open(\"./propaganda.html\", \"w\", encoding=\"utf-8\") as f:\n",
    "    f.write(\"<style>\"\n",
    "        \"body { font-family: sans-serif; white-space: pre-line; max-width:900px; margin: auto }\"\n",
    "        \"</style>\")\n",
    "    f.write(\"<h1>List of Movies Identified as Propaganda</h1>\")"
   ],
   "metadata": {
    "collapsed": false,
    "pycharm": {
     "name": "#%%\n"
    }
   }
  },
  {
   "cell_type": "code",
   "execution_count": 68,
   "outputs": [],
   "source": [
    "with open(\"./propaganda.html\", \"a\", encoding=\"utf-8\") as f:\n",
    "    for index, row in propaganda.iterrows():\n",
    "        f.write(f'<img src=\"{details_dict[str(row.id)][\"image\"]}\">')\n",
    "        f.write(f\"<p>https://movie.douban.com/subject/{row.id}/</p>\")\n",
    "        f.write(f\"<h2>{row['name']} ({row.year})</h2>\")\n",
    "        f.write(f\"<h3>{row.genre}</h3>\")\n",
    "        f.write(f\"<h3>Rating: {row.ratingValue}, count: {row.ratingCount}</h3>\")\n",
    "        desc = row.description\n",
    "        for k in keywords:\n",
    "            desc = desc.replace(k, \"<mark>\" + k + \"</mark>\")\n",
    "        f.write(f\"<p>{desc}</p>\")\n",
    "        f.write(\"<hr>\")"
   ],
   "metadata": {
    "collapsed": false,
    "pycharm": {
     "name": "#%%\n"
    }
   }
  }
 ],
 "metadata": {
  "kernelspec": {
   "display_name": "Python 3",
   "language": "python",
   "name": "python3"
  },
  "language_info": {
   "codemirror_mode": {
    "name": "ipython",
    "version": 2
   },
   "file_extension": ".py",
   "mimetype": "text/x-python",
   "name": "python",
   "nbconvert_exporter": "python",
   "pygments_lexer": "ipython2",
   "version": "2.7.6"
  }
 },
 "nbformat": 4,
 "nbformat_minor": 0
}
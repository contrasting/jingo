{
 "cells": [
  {
   "cell_type": "code",
   "execution_count": 2,
   "outputs": [],
   "source": [
    "import os\n",
    "import pandas as pd\n",
    "from bs4 import BeautifulSoup"
   ],
   "metadata": {
    "collapsed": false,
    "pycharm": {
     "name": "#%%\n"
    }
   }
  },
  {
   "cell_type": "code",
   "execution_count": 15,
   "outputs": [
    {
     "name": "stdout",
     "output_type": "stream",
     "text": [
      "Progress: 100\n",
      "Progress: 200\n",
      "Progress: 300\n",
      "Progress: 400\n",
      "Progress: 500\n",
      "Progress: 600\n",
      "Progress: 700\n",
      "Progress: 800\n",
      "Progress: 900\n",
      "Progress: 1000\n",
      "Progress: 1100\n",
      "Progress: 1200\n",
      "Progress: 1300\n",
      "Progress: 1400\n",
      "Progress: 1500\n",
      "Progress: 1600\n",
      "Progress: 1700\n",
      "Progress: 1800\n",
      "Progress: 1900\n",
      "Progress: 2000\n",
      "Progress: 2100\n",
      "Progress: 2200\n",
      "Progress: 2300\n",
      "Progress: 2400\n",
      "Progress: 2500\n",
      "Progress: 2600\n",
      "Progress: 2700\n",
      "Progress: 2800\n",
      "Progress: 2900\n",
      "Progress: 3000\n",
      "Progress: 3100\n",
      "Progress: 3200\n",
      "Progress: 3300\n",
      "Progress: 3400\n",
      "Progress: 3500\n",
      "Progress: 3600\n",
      "Progress: 3700\n",
      "Progress: 3800\n",
      "Progress: 3900\n",
      "Progress: 4000\n",
      "Progress: 4100\n",
      "Progress: 4200\n",
      "Progress: 4300\n",
      "Progress: 4400\n",
      "Progress: 4500\n",
      "Progress: 4600\n",
      "Progress: 4700\n",
      "Progress: 4800\n",
      "Progress: 4900\n",
      "Progress: 5000\n",
      "Progress: 5100\n",
      "Progress: 5200\n",
      "Progress: 5300\n",
      "Progress: 5400\n",
      "Progress: 5500\n",
      "Progress: 5600\n",
      "Progress: 5700\n",
      "Progress: 5800\n",
      "Progress: 5900\n",
      "Progress: 6000\n",
      "Progress: 6100\n",
      "Progress: 6200\n",
      "Progress: 6300\n",
      "Progress: 6400\n",
      "Progress: 6500\n",
      "Progress: 6600\n",
      "Progress: 6700\n",
      "Progress: 6800\n",
      "Progress: 6900\n",
      "Progress: 7000\n",
      "Progress: 7100\n",
      "Progress: 7200\n",
      "Progress: 7300\n",
      "Progress: 7400\n",
      "Progress: 7500\n",
      "Progress: 7600\n",
      "Progress: 7700\n",
      "Progress: 7800\n",
      "Progress: 7900\n",
      "Progress: 8000\n",
      "Progress: 8100\n",
      "Progress: 8200\n",
      "Progress: 8300\n",
      "Progress: 8400\n",
      "Progress: 8500\n",
      "Progress: 8600\n",
      "Progress: 8700\n",
      "Progress: 8800\n",
      "Progress: 8900\n",
      "Progress: 9000\n",
      "Progress: 9100\n",
      "Progress: 9200\n",
      "Progress: 9300\n",
      "Progress: 9400\n",
      "Progress: 9500\n",
      "Progress: 9600\n",
      "Progress: 9700\n",
      "Progress: 9800\n",
      "Progress: 9900\n",
      "Progress: 10000\n",
      "Progress: 10100\n",
      "Progress: 10200\n",
      "Progress: 10300\n",
      "Progress: 10400\n",
      "Progress: 10500\n",
      "Progress: 10600\n",
      "Progress: 10700\n",
      "Progress: 10800\n",
      "Progress: 10900\n",
      "Progress: 11000\n",
      "Progress: 11100\n",
      "Progress: 11200\n",
      "Progress: 11300\n",
      "Progress: 11400\n",
      "Progress: 11500\n",
      "Progress: 11600\n",
      "Progress: 11700\n",
      "Progress: 11800\n",
      "Progress: 11900\n",
      "Progress: 12000\n",
      "Progress: 12100\n",
      "Progress: 12200\n"
     ]
    }
   ],
   "source": [
    "path = \"./data/celeb/\"\n",
    "count = 0\n",
    "celebs_list = []\n",
    "\n",
    "for name in os.listdir(path):\n",
    "    count += 1\n",
    "    if count % 100 == 0:\n",
    "        print(f\"Progress: {count}\")\n",
    "\n",
    "    with open(os.path.join(path, name), 'r', encoding='utf-8') as f:\n",
    "        soup = BeautifulSoup(f)\n",
    "    new_entry = {\"id\": name.split(\".\")[0]}\n",
    "\n",
    "    # cf. 00a\n",
    "    content = soup.find(\"div\", id=\"content\")\n",
    "    new_entry[\"name\"] = content.find(\"h1\").string\n",
    "\n",
    "    fans = content.find(\"div\", id=\"fans\").find(\"h2\").contents[0]\n",
    "    new_entry[\"fans\"] = int(fans[fans.index(\"（\")+1:fans.index(\"）\")])\n",
    "\n",
    "    info = content.find(\"div\", class_=\"info\")\n",
    "    item = info.find(\"li\")\n",
    "\n",
    "    while item is not None:\n",
    "        new_entry[item.span.string] = item.span.next_sibling.strip(\":\\n \")\n",
    "        item = item.find_next_sibling()\n",
    "\n",
    "    celebs_list.append(new_entry)"
   ],
   "metadata": {
    "collapsed": false,
    "pycharm": {
     "name": "#%%\n"
    }
   }
  },
  {
   "cell_type": "code",
   "execution_count": 16,
   "outputs": [
    {
     "data": {
      "text/plain": "        id                        name   fans   性别   星座         出生日期  \\\n0  1000001       朱丽娅·斯蒂尔斯 Julia Stiles   3604    女  白羊座  1981年03月28日   \n1  1000014          艾什莉·贾德 Ashley Judd   3779    女  白羊座  1968年04月19日   \n2  1000015   米歇尔·莫纳汉 Michelle Monaghan   8057    女  白羊座  1976年03月23日   \n3  1000018      寇碧·史莫德斯 Cobie Smulders  11731    女  白羊座  1982年04月03日   \n4  1000029  亨利·伊安·库斯克 Henry Ian Cusick    201  NaN  白羊座  1967年04月17日   \n\n                 出生地            职业  \\\n0              美国,纽约  演员 / 导演 / 编剧   \n1  美国,加利福尼亚州,格拉纳达希尔斯  演员 / 配音 / 导演   \n2        美国,爱荷华,温思罗普       演员 / 配音   \n3    加拿大,不列颠哥伦比亚,温哥华       演员 / 配音   \n4            秘鲁,特鲁希略       演员 / 导演   \n\n                                               更多外文名  \\\n0                           Julia O'Hara Stiles (本名)   \n1  Ashley Tyler Ciminella (本名) / Sweet Pea (昵称) /...   \n2                        Michelle Lynn Monaghan (本名)   \n3               Jacoba Fransisca Maria Smulders (本名)   \n4                                  Henry Ian Cuisick   \n\n                                               更多中文名  \\\n0                                               none   \n1                                             阿什丽·贾德   \n2  米歇尔·莫娜汉 / 米雪·慕娜汉(港) / 米歇尔·琳恩·莫娜汉(本名) / 蜜雪儿·摩纳汉(台)   \n3                                           罗宾阿姨(昵称)   \n4                                                NaN   \n\n                              家庭成员 imdb编号 生卒日期 去世日期  \n0               Preston J. Cook(夫)         NaN  NaN  \n1  Naomi Judd(母) / Wynonna Judd(姐)         NaN  NaN  \n2                         彼得·怀特(夫)         NaN  NaN  \n3                       塔兰·基尔拉姆(夫)         NaN  NaN  \n4                              NaN         NaN  NaN  ",
      "text/html": "<div>\n<style scoped>\n    .dataframe tbody tr th:only-of-type {\n        vertical-align: middle;\n    }\n\n    .dataframe tbody tr th {\n        vertical-align: top;\n    }\n\n    .dataframe thead th {\n        text-align: right;\n    }\n</style>\n<table border=\"1\" class=\"dataframe\">\n  <thead>\n    <tr style=\"text-align: right;\">\n      <th></th>\n      <th>id</th>\n      <th>name</th>\n      <th>fans</th>\n      <th>性别</th>\n      <th>星座</th>\n      <th>出生日期</th>\n      <th>出生地</th>\n      <th>职业</th>\n      <th>更多外文名</th>\n      <th>更多中文名</th>\n      <th>家庭成员</th>\n      <th>imdb编号</th>\n      <th>生卒日期</th>\n      <th>去世日期</th>\n    </tr>\n  </thead>\n  <tbody>\n    <tr>\n      <th>0</th>\n      <td>1000001</td>\n      <td>朱丽娅·斯蒂尔斯 Julia Stiles</td>\n      <td>3604</td>\n      <td>女</td>\n      <td>白羊座</td>\n      <td>1981年03月28日</td>\n      <td>美国,纽约</td>\n      <td>演员 / 导演 / 编剧</td>\n      <td>Julia O'Hara Stiles (本名)</td>\n      <td>none</td>\n      <td>Preston J. Cook(夫)</td>\n      <td></td>\n      <td>NaN</td>\n      <td>NaN</td>\n    </tr>\n    <tr>\n      <th>1</th>\n      <td>1000014</td>\n      <td>艾什莉·贾德 Ashley Judd</td>\n      <td>3779</td>\n      <td>女</td>\n      <td>白羊座</td>\n      <td>1968年04月19日</td>\n      <td>美国,加利福尼亚州,格拉纳达希尔斯</td>\n      <td>演员 / 配音 / 导演</td>\n      <td>Ashley Tyler Ciminella (本名) / Sweet Pea (昵称) /...</td>\n      <td>阿什丽·贾德</td>\n      <td>Naomi Judd(母) / Wynonna Judd(姐)</td>\n      <td></td>\n      <td>NaN</td>\n      <td>NaN</td>\n    </tr>\n    <tr>\n      <th>2</th>\n      <td>1000015</td>\n      <td>米歇尔·莫纳汉 Michelle Monaghan</td>\n      <td>8057</td>\n      <td>女</td>\n      <td>白羊座</td>\n      <td>1976年03月23日</td>\n      <td>美国,爱荷华,温思罗普</td>\n      <td>演员 / 配音</td>\n      <td>Michelle Lynn Monaghan (本名)</td>\n      <td>米歇尔·莫娜汉 / 米雪·慕娜汉(港) / 米歇尔·琳恩·莫娜汉(本名) / 蜜雪儿·摩纳汉(台)</td>\n      <td>彼得·怀特(夫)</td>\n      <td></td>\n      <td>NaN</td>\n      <td>NaN</td>\n    </tr>\n    <tr>\n      <th>3</th>\n      <td>1000018</td>\n      <td>寇碧·史莫德斯 Cobie Smulders</td>\n      <td>11731</td>\n      <td>女</td>\n      <td>白羊座</td>\n      <td>1982年04月03日</td>\n      <td>加拿大,不列颠哥伦比亚,温哥华</td>\n      <td>演员 / 配音</td>\n      <td>Jacoba Fransisca Maria Smulders (本名)</td>\n      <td>罗宾阿姨(昵称)</td>\n      <td>塔兰·基尔拉姆(夫)</td>\n      <td></td>\n      <td>NaN</td>\n      <td>NaN</td>\n    </tr>\n    <tr>\n      <th>4</th>\n      <td>1000029</td>\n      <td>亨利·伊安·库斯克 Henry Ian Cusick</td>\n      <td>201</td>\n      <td>NaN</td>\n      <td>白羊座</td>\n      <td>1967年04月17日</td>\n      <td>秘鲁,特鲁希略</td>\n      <td>演员 / 导演</td>\n      <td>Henry Ian Cuisick</td>\n      <td>NaN</td>\n      <td>NaN</td>\n      <td></td>\n      <td>NaN</td>\n      <td>NaN</td>\n    </tr>\n  </tbody>\n</table>\n</div>"
     },
     "execution_count": 16,
     "metadata": {},
     "output_type": "execute_result"
    }
   ],
   "source": [
    "celebs = pd.json_normalize(celebs_list)\n",
    "celebs.head()"
   ],
   "metadata": {
    "collapsed": false,
    "pycharm": {
     "name": "#%%\n"
    }
   }
  },
  {
   "cell_type": "code",
   "execution_count": 17,
   "outputs": [
    {
     "data": {
      "text/plain": "                fans\ncount   12281.000000\nmean     1138.705399\nstd      6012.703258\nmin         0.000000\n25%         3.000000\n50%        24.000000\n75%       221.000000\nmax    294605.000000",
      "text/html": "<div>\n<style scoped>\n    .dataframe tbody tr th:only-of-type {\n        vertical-align: middle;\n    }\n\n    .dataframe tbody tr th {\n        vertical-align: top;\n    }\n\n    .dataframe thead th {\n        text-align: right;\n    }\n</style>\n<table border=\"1\" class=\"dataframe\">\n  <thead>\n    <tr style=\"text-align: right;\">\n      <th></th>\n      <th>fans</th>\n    </tr>\n  </thead>\n  <tbody>\n    <tr>\n      <th>count</th>\n      <td>12281.000000</td>\n    </tr>\n    <tr>\n      <th>mean</th>\n      <td>1138.705399</td>\n    </tr>\n    <tr>\n      <th>std</th>\n      <td>6012.703258</td>\n    </tr>\n    <tr>\n      <th>min</th>\n      <td>0.000000</td>\n    </tr>\n    <tr>\n      <th>25%</th>\n      <td>3.000000</td>\n    </tr>\n    <tr>\n      <th>50%</th>\n      <td>24.000000</td>\n    </tr>\n    <tr>\n      <th>75%</th>\n      <td>221.000000</td>\n    </tr>\n    <tr>\n      <th>max</th>\n      <td>294605.000000</td>\n    </tr>\n  </tbody>\n</table>\n</div>"
     },
     "execution_count": 17,
     "metadata": {},
     "output_type": "execute_result"
    }
   ],
   "source": [
    "celebs.describe()"
   ],
   "metadata": {
    "collapsed": false,
    "pycharm": {
     "name": "#%%\n"
    }
   }
  },
  {
   "cell_type": "code",
   "execution_count": 19,
   "outputs": [
    {
     "data": {
      "text/plain": "id                1360615\nname         肖战 Zhan Xiao\nfans               294605\n性别                      男\n星座                    天秤座\n出生日期          1991年10月05日\n出生地                 中国,重庆\n职业                     演员\n更多外文名           Sean Xiao\n更多中文名                 NaN\n家庭成员      爸爸 / 妈妈 / 坚果（猫）\nimdb编号                   \n生卒日期                  NaN\n去世日期                  NaN\nName: 8362, dtype: object"
     },
     "execution_count": 19,
     "metadata": {},
     "output_type": "execute_result"
    }
   ],
   "source": [
    "# who has the most fans?\n",
    "celebs.iloc[celebs.fans.argmax()]"
   ],
   "metadata": {
    "collapsed": false,
    "pycharm": {
     "name": "#%%\n"
    }
   }
  },
  {
   "cell_type": "code",
   "execution_count": 21,
   "outputs": [
    {
     "data": {
      "text/plain": "False    12281\nName: fans, dtype: int64"
     },
     "execution_count": 21,
     "metadata": {},
     "output_type": "execute_result"
    }
   ],
   "source": [
    "# check fans nan or null\n",
    "pd.isnull(celebs.fans).value_counts()"
   ],
   "metadata": {
    "collapsed": false,
    "pycharm": {
     "name": "#%%\n"
    }
   }
  },
  {
   "cell_type": "code",
   "execution_count": 26,
   "outputs": [
    {
     "name": "stderr",
     "output_type": "stream",
     "text": [
      "C:\\Users\\czy19\\AppData\\Local\\Temp\\ipykernel_2476\\624062965.py:2: FutureWarning: The frame.append method is deprecated and will be removed from pandas in a future version. Use pandas.concat instead.\n",
      "  celebs = celebs.append({\"id\":1314395, \"name\": \"霍青-Qing Huo\", \"性别\":\"男\", \"fans\":297}, ignore_index=True)\n",
      "C:\\Users\\czy19\\AppData\\Local\\Temp\\ipykernel_2476\\624062965.py:3: FutureWarning: The frame.append method is deprecated and will be removed from pandas in a future version. Use pandas.concat instead.\n",
      "  celebs = celebs.append({\"id\":1316349, \"name\": \"张承-Cheng Zhang\", \"fans\":76}, ignore_index=True)\n"
     ]
    },
    {
     "data": {
      "text/plain": "            id             name  fans   性别   星座 出生日期  出生地   职业 更多外文名 更多中文名  \\\n12278  1472496  崔靖涵 JINGHAN CUI     0    女  NaN  NaN  NaN   演员   NaN   NaN   \n12279  1472572               孙璐     1    女  NaN  NaN  NaN   演员   NaN   NaN   \n12280  1473222  张恩瀚 Enhan Zhang     2    男  NaN  NaN  NaN   演员   NaN   NaN   \n12281  1314395      霍青-Qing Huo   297    男  NaN  NaN  NaN  NaN   NaN   NaN   \n12282  1316349   张承-Cheng Zhang    76  NaN  NaN  NaN  NaN  NaN   NaN   NaN   \n\n      家庭成员 imdb编号 生卒日期 去世日期  \n12278  NaN    NaN  NaN  NaN  \n12279  NaN    NaN  NaN  NaN  \n12280  NaN    NaN  NaN  NaN  \n12281  NaN    NaN  NaN  NaN  \n12282  NaN    NaN  NaN  NaN  ",
      "text/html": "<div>\n<style scoped>\n    .dataframe tbody tr th:only-of-type {\n        vertical-align: middle;\n    }\n\n    .dataframe tbody tr th {\n        vertical-align: top;\n    }\n\n    .dataframe thead th {\n        text-align: right;\n    }\n</style>\n<table border=\"1\" class=\"dataframe\">\n  <thead>\n    <tr style=\"text-align: right;\">\n      <th></th>\n      <th>id</th>\n      <th>name</th>\n      <th>fans</th>\n      <th>性别</th>\n      <th>星座</th>\n      <th>出生日期</th>\n      <th>出生地</th>\n      <th>职业</th>\n      <th>更多外文名</th>\n      <th>更多中文名</th>\n      <th>家庭成员</th>\n      <th>imdb编号</th>\n      <th>生卒日期</th>\n      <th>去世日期</th>\n    </tr>\n  </thead>\n  <tbody>\n    <tr>\n      <th>12278</th>\n      <td>1472496</td>\n      <td>崔靖涵 JINGHAN CUI</td>\n      <td>0</td>\n      <td>女</td>\n      <td>NaN</td>\n      <td>NaN</td>\n      <td>NaN</td>\n      <td>演员</td>\n      <td>NaN</td>\n      <td>NaN</td>\n      <td>NaN</td>\n      <td>NaN</td>\n      <td>NaN</td>\n      <td>NaN</td>\n    </tr>\n    <tr>\n      <th>12279</th>\n      <td>1472572</td>\n      <td>孙璐</td>\n      <td>1</td>\n      <td>女</td>\n      <td>NaN</td>\n      <td>NaN</td>\n      <td>NaN</td>\n      <td>演员</td>\n      <td>NaN</td>\n      <td>NaN</td>\n      <td>NaN</td>\n      <td>NaN</td>\n      <td>NaN</td>\n      <td>NaN</td>\n    </tr>\n    <tr>\n      <th>12280</th>\n      <td>1473222</td>\n      <td>张恩瀚 Enhan Zhang</td>\n      <td>2</td>\n      <td>男</td>\n      <td>NaN</td>\n      <td>NaN</td>\n      <td>NaN</td>\n      <td>演员</td>\n      <td>NaN</td>\n      <td>NaN</td>\n      <td>NaN</td>\n      <td>NaN</td>\n      <td>NaN</td>\n      <td>NaN</td>\n    </tr>\n    <tr>\n      <th>12281</th>\n      <td>1314395</td>\n      <td>霍青-Qing Huo</td>\n      <td>297</td>\n      <td>男</td>\n      <td>NaN</td>\n      <td>NaN</td>\n      <td>NaN</td>\n      <td>NaN</td>\n      <td>NaN</td>\n      <td>NaN</td>\n      <td>NaN</td>\n      <td>NaN</td>\n      <td>NaN</td>\n      <td>NaN</td>\n    </tr>\n    <tr>\n      <th>12282</th>\n      <td>1316349</td>\n      <td>张承-Cheng Zhang</td>\n      <td>76</td>\n      <td>NaN</td>\n      <td>NaN</td>\n      <td>NaN</td>\n      <td>NaN</td>\n      <td>NaN</td>\n      <td>NaN</td>\n      <td>NaN</td>\n      <td>NaN</td>\n      <td>NaN</td>\n      <td>NaN</td>\n      <td>NaN</td>\n    </tr>\n  </tbody>\n</table>\n</div>"
     },
     "execution_count": 26,
     "metadata": {},
     "output_type": "execute_result"
    }
   ],
   "source": [
    "# there were entries which could not be scraped (HTTP 500). Add them manually:\n",
    "celebs = celebs.append({\"id\":1314395, \"name\": \"霍青-Qing Huo\", \"性别\":\"男\", \"fans\":297}, ignore_index=True)\n",
    "celebs = celebs.append({\"id\":1316349, \"name\": \"张承-Cheng Zhang\", \"fans\":76}, ignore_index=True)\n",
    "celebs.tail()"
   ],
   "metadata": {
    "collapsed": false,
    "pycharm": {
     "name": "#%%\n"
    }
   }
  },
  {
   "cell_type": "code",
   "execution_count": 27,
   "outputs": [
    {
     "data": {
      "text/plain": "12283"
     },
     "execution_count": 27,
     "metadata": {},
     "output_type": "execute_result"
    }
   ],
   "source": [
    "len(celebs)"
   ],
   "metadata": {
    "collapsed": false,
    "pycharm": {
     "name": "#%%\n"
    }
   }
  },
  {
   "cell_type": "code",
   "execution_count": 28,
   "outputs": [],
   "source": [
    "celebs.to_csv(\"./data/celebs_df.csv\")"
   ],
   "metadata": {
    "collapsed": false,
    "pycharm": {
     "name": "#%%\n"
    }
   }
  }
 ],
 "metadata": {
  "kernelspec": {
   "display_name": "Python 3",
   "language": "python",
   "name": "python3"
  },
  "language_info": {
   "codemirror_mode": {
    "name": "ipython",
    "version": 2
   },
   "file_extension": ".py",
   "mimetype": "text/x-python",
   "name": "python",
   "nbconvert_exporter": "python",
   "pygments_lexer": "ipython2",
   "version": "2.7.6"
  }
 },
 "nbformat": 4,
 "nbformat_minor": 0
}
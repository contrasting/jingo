{
 "cells": [
  {
   "cell_type": "code",
   "execution_count": 1,
   "outputs": [],
   "source": [
    "import pandas as pd\n",
    "from bs4 import BeautifulSoup\n",
    "import pickle"
   ],
   "metadata": {
    "collapsed": false,
    "pycharm": {
     "name": "#%%\n"
    }
   }
  },
  {
   "cell_type": "code",
   "execution_count": 2,
   "outputs": [
    {
     "data": {
      "text/plain": "         id       name  year               genre  ratingCount  bestRating  \\\n0  10344754      毒战 毒戰  2012  ['剧情', '动作', '犯罪']       210072          10   \n1  10355621  粉红女郎之爱人快跑  2013        ['喜剧', '爱情']         1826          10   \n2  10355633      绝命藏宝图  2012        ['动作', '悬疑']           78          10   \n4  10430281    七个隆咚锵咚锵  2012        ['喜剧', '爱情']          506          10   \n5  10437802  武当少年 武當少年  2010        ['剧情', '儿童']           68          10   \n\n   worstRating  ratingValue  directorMaxEffect  actorMaxEffect  ...  y2013  \\\n0            2          7.5              34235           27592  ...      0   \n1            2          3.2                 65            3861  ...      1   \n2            2          3.2                 43              43  ...      0   \n4            2          4.9                115             161  ...      0   \n5            2          6.1                  2             192  ...      0   \n\n   y2014  y2015  y2016  y2017  y2018  y2019  y2020  y2021  y2022  \n0      0      0      0      0      0      0      0      0      0  \n1      0      0      0      0      0      0      0      0      0  \n2      0      0      0      0      0      0      0      0      0  \n4      0      0      0      0      0      0      0      0      0  \n5      0      0      0      0      0      0      0      0      0  \n\n[5 rows x 50 columns]",
      "text/html": "<div>\n<style scoped>\n    .dataframe tbody tr th:only-of-type {\n        vertical-align: middle;\n    }\n\n    .dataframe tbody tr th {\n        vertical-align: top;\n    }\n\n    .dataframe thead th {\n        text-align: right;\n    }\n</style>\n<table border=\"1\" class=\"dataframe\">\n  <thead>\n    <tr style=\"text-align: right;\">\n      <th></th>\n      <th>id</th>\n      <th>name</th>\n      <th>year</th>\n      <th>genre</th>\n      <th>ratingCount</th>\n      <th>bestRating</th>\n      <th>worstRating</th>\n      <th>ratingValue</th>\n      <th>directorMaxEffect</th>\n      <th>actorMaxEffect</th>\n      <th>...</th>\n      <th>y2013</th>\n      <th>y2014</th>\n      <th>y2015</th>\n      <th>y2016</th>\n      <th>y2017</th>\n      <th>y2018</th>\n      <th>y2019</th>\n      <th>y2020</th>\n      <th>y2021</th>\n      <th>y2022</th>\n    </tr>\n  </thead>\n  <tbody>\n    <tr>\n      <th>0</th>\n      <td>10344754</td>\n      <td>毒战 毒戰</td>\n      <td>2012</td>\n      <td>['剧情', '动作', '犯罪']</td>\n      <td>210072</td>\n      <td>10</td>\n      <td>2</td>\n      <td>7.5</td>\n      <td>34235</td>\n      <td>27592</td>\n      <td>...</td>\n      <td>0</td>\n      <td>0</td>\n      <td>0</td>\n      <td>0</td>\n      <td>0</td>\n      <td>0</td>\n      <td>0</td>\n      <td>0</td>\n      <td>0</td>\n      <td>0</td>\n    </tr>\n    <tr>\n      <th>1</th>\n      <td>10355621</td>\n      <td>粉红女郎之爱人快跑</td>\n      <td>2013</td>\n      <td>['喜剧', '爱情']</td>\n      <td>1826</td>\n      <td>10</td>\n      <td>2</td>\n      <td>3.2</td>\n      <td>65</td>\n      <td>3861</td>\n      <td>...</td>\n      <td>1</td>\n      <td>0</td>\n      <td>0</td>\n      <td>0</td>\n      <td>0</td>\n      <td>0</td>\n      <td>0</td>\n      <td>0</td>\n      <td>0</td>\n      <td>0</td>\n    </tr>\n    <tr>\n      <th>2</th>\n      <td>10355633</td>\n      <td>绝命藏宝图</td>\n      <td>2012</td>\n      <td>['动作', '悬疑']</td>\n      <td>78</td>\n      <td>10</td>\n      <td>2</td>\n      <td>3.2</td>\n      <td>43</td>\n      <td>43</td>\n      <td>...</td>\n      <td>0</td>\n      <td>0</td>\n      <td>0</td>\n      <td>0</td>\n      <td>0</td>\n      <td>0</td>\n      <td>0</td>\n      <td>0</td>\n      <td>0</td>\n      <td>0</td>\n    </tr>\n    <tr>\n      <th>4</th>\n      <td>10430281</td>\n      <td>七个隆咚锵咚锵</td>\n      <td>2012</td>\n      <td>['喜剧', '爱情']</td>\n      <td>506</td>\n      <td>10</td>\n      <td>2</td>\n      <td>4.9</td>\n      <td>115</td>\n      <td>161</td>\n      <td>...</td>\n      <td>0</td>\n      <td>0</td>\n      <td>0</td>\n      <td>0</td>\n      <td>0</td>\n      <td>0</td>\n      <td>0</td>\n      <td>0</td>\n      <td>0</td>\n      <td>0</td>\n    </tr>\n    <tr>\n      <th>5</th>\n      <td>10437802</td>\n      <td>武当少年 武當少年</td>\n      <td>2010</td>\n      <td>['剧情', '儿童']</td>\n      <td>68</td>\n      <td>10</td>\n      <td>2</td>\n      <td>6.1</td>\n      <td>2</td>\n      <td>192</td>\n      <td>...</td>\n      <td>0</td>\n      <td>0</td>\n      <td>0</td>\n      <td>0</td>\n      <td>0</td>\n      <td>0</td>\n      <td>0</td>\n      <td>0</td>\n      <td>0</td>\n      <td>0</td>\n    </tr>\n  </tbody>\n</table>\n<p>5 rows × 50 columns</p>\n</div>"
     },
     "execution_count": 2,
     "metadata": {},
     "output_type": "execute_result"
    }
   ],
   "source": [
    "movies = pd.read_csv(\"./data/movies_reg_df.csv\", index_col=0)\n",
    "movies.head()"
   ],
   "metadata": {
    "collapsed": false,
    "pycharm": {
     "name": "#%%\n"
    }
   }
  },
  {
   "cell_type": "code",
   "execution_count": 3,
   "outputs": [],
   "source": [
    "# first append the description column\n",
    "description = []\n",
    "\n",
    "for i in movies.id:\n",
    "    with open(f\"./data/detail/{i}.html\", encoding=\"utf-8\") as f:\n",
    "        soup = BeautifulSoup(f)\n",
    "\n",
    "    try:\n",
    "        c = soup.find(\"span\", class_=\"all hidden\").contents\n",
    "    except AttributeError:\n",
    "        try:\n",
    "            c = soup.find(\"span\", property=\"v:summary\").contents\n",
    "        except AttributeError:\n",
    "            c = []\n",
    "\n",
    "    d = \"\"\n",
    "    for s in c:\n",
    "        try:\n",
    "            d += s.strip()\n",
    "        except TypeError:\n",
    "            d += \"\\n\\n\"\n",
    "\n",
    "    description.append(d)\n",
    "\n",
    "movies.insert(3, \"description\", description)"
   ],
   "metadata": {
    "collapsed": false,
    "pycharm": {
     "name": "#%%\n"
    }
   }
  },
  {
   "cell_type": "code",
   "execution_count": 4,
   "outputs": [
    {
     "data": {
      "text/plain": "         id       name  year  \\\n0  10344754      毒战 毒戰  2012   \n1  10355621  粉红女郎之爱人快跑  2013   \n2  10355633      绝命藏宝图  2012   \n4  10430281    七个隆咚锵咚锵  2012   \n5  10437802  武当少年 武當少年  2010   \n\n                                         description               genre  \\\n0  刚刚结束一次危险任务的津海市缉毒大队队长张雷（孙红雷 饰），在医院意外见到因车祸入院治疗的香...  ['剧情', '动作', '犯罪']   \n1  为了泡到一个男朋友，结婚狂（阿雅 饰）碰见魔术师高明（锦荣 饰）后，便告诉对方自己怀了他的孩...        ['喜剧', '爱情']   \n2  一对不食人间烟火的青年男女——彭少文和程雪珂狼狈地逃到余姚县城门口，他们身后有一群凶神恶煞的...        ['动作', '悬疑']   \n4  韩峰（韩兆 饰）在一天之内丢掉了工作和恋人，一无所有的他陷入了人生的低谷之中。然而，韩峰的运...        ['喜剧', '爱情']   \n5  主人公翔翔原本是一个天真浪漫，活泼好动的孩子，在一次观看武当武校在台湾的表演后，萌生了赴武当...        ['剧情', '儿童']   \n\n   ratingCount  bestRating  worstRating  ratingValue  directorMaxEffect  ...  \\\n0       210072          10            2          7.5              34235  ...   \n1         1826          10            2          3.2                 65  ...   \n2           78          10            2          3.2                 43  ...   \n4          506          10            2          4.9                115  ...   \n5           68          10            2          6.1                  2  ...   \n\n   y2013  y2014  y2015  y2016  y2017  y2018  y2019  y2020  y2021  y2022  \n0      0      0      0      0      0      0      0      0      0      0  \n1      1      0      0      0      0      0      0      0      0      0  \n2      0      0      0      0      0      0      0      0      0      0  \n4      0      0      0      0      0      0      0      0      0      0  \n5      0      0      0      0      0      0      0      0      0      0  \n\n[5 rows x 51 columns]",
      "text/html": "<div>\n<style scoped>\n    .dataframe tbody tr th:only-of-type {\n        vertical-align: middle;\n    }\n\n    .dataframe tbody tr th {\n        vertical-align: top;\n    }\n\n    .dataframe thead th {\n        text-align: right;\n    }\n</style>\n<table border=\"1\" class=\"dataframe\">\n  <thead>\n    <tr style=\"text-align: right;\">\n      <th></th>\n      <th>id</th>\n      <th>name</th>\n      <th>year</th>\n      <th>description</th>\n      <th>genre</th>\n      <th>ratingCount</th>\n      <th>bestRating</th>\n      <th>worstRating</th>\n      <th>ratingValue</th>\n      <th>directorMaxEffect</th>\n      <th>...</th>\n      <th>y2013</th>\n      <th>y2014</th>\n      <th>y2015</th>\n      <th>y2016</th>\n      <th>y2017</th>\n      <th>y2018</th>\n      <th>y2019</th>\n      <th>y2020</th>\n      <th>y2021</th>\n      <th>y2022</th>\n    </tr>\n  </thead>\n  <tbody>\n    <tr>\n      <th>0</th>\n      <td>10344754</td>\n      <td>毒战 毒戰</td>\n      <td>2012</td>\n      <td>刚刚结束一次危险任务的津海市缉毒大队队长张雷（孙红雷 饰），在医院意外见到因车祸入院治疗的香...</td>\n      <td>['剧情', '动作', '犯罪']</td>\n      <td>210072</td>\n      <td>10</td>\n      <td>2</td>\n      <td>7.5</td>\n      <td>34235</td>\n      <td>...</td>\n      <td>0</td>\n      <td>0</td>\n      <td>0</td>\n      <td>0</td>\n      <td>0</td>\n      <td>0</td>\n      <td>0</td>\n      <td>0</td>\n      <td>0</td>\n      <td>0</td>\n    </tr>\n    <tr>\n      <th>1</th>\n      <td>10355621</td>\n      <td>粉红女郎之爱人快跑</td>\n      <td>2013</td>\n      <td>为了泡到一个男朋友，结婚狂（阿雅 饰）碰见魔术师高明（锦荣 饰）后，便告诉对方自己怀了他的孩...</td>\n      <td>['喜剧', '爱情']</td>\n      <td>1826</td>\n      <td>10</td>\n      <td>2</td>\n      <td>3.2</td>\n      <td>65</td>\n      <td>...</td>\n      <td>1</td>\n      <td>0</td>\n      <td>0</td>\n      <td>0</td>\n      <td>0</td>\n      <td>0</td>\n      <td>0</td>\n      <td>0</td>\n      <td>0</td>\n      <td>0</td>\n    </tr>\n    <tr>\n      <th>2</th>\n      <td>10355633</td>\n      <td>绝命藏宝图</td>\n      <td>2012</td>\n      <td>一对不食人间烟火的青年男女——彭少文和程雪珂狼狈地逃到余姚县城门口，他们身后有一群凶神恶煞的...</td>\n      <td>['动作', '悬疑']</td>\n      <td>78</td>\n      <td>10</td>\n      <td>2</td>\n      <td>3.2</td>\n      <td>43</td>\n      <td>...</td>\n      <td>0</td>\n      <td>0</td>\n      <td>0</td>\n      <td>0</td>\n      <td>0</td>\n      <td>0</td>\n      <td>0</td>\n      <td>0</td>\n      <td>0</td>\n      <td>0</td>\n    </tr>\n    <tr>\n      <th>4</th>\n      <td>10430281</td>\n      <td>七个隆咚锵咚锵</td>\n      <td>2012</td>\n      <td>韩峰（韩兆 饰）在一天之内丢掉了工作和恋人，一无所有的他陷入了人生的低谷之中。然而，韩峰的运...</td>\n      <td>['喜剧', '爱情']</td>\n      <td>506</td>\n      <td>10</td>\n      <td>2</td>\n      <td>4.9</td>\n      <td>115</td>\n      <td>...</td>\n      <td>0</td>\n      <td>0</td>\n      <td>0</td>\n      <td>0</td>\n      <td>0</td>\n      <td>0</td>\n      <td>0</td>\n      <td>0</td>\n      <td>0</td>\n      <td>0</td>\n    </tr>\n    <tr>\n      <th>5</th>\n      <td>10437802</td>\n      <td>武当少年 武當少年</td>\n      <td>2010</td>\n      <td>主人公翔翔原本是一个天真浪漫，活泼好动的孩子，在一次观看武当武校在台湾的表演后，萌生了赴武当...</td>\n      <td>['剧情', '儿童']</td>\n      <td>68</td>\n      <td>10</td>\n      <td>2</td>\n      <td>6.1</td>\n      <td>2</td>\n      <td>...</td>\n      <td>0</td>\n      <td>0</td>\n      <td>0</td>\n      <td>0</td>\n      <td>0</td>\n      <td>0</td>\n      <td>0</td>\n      <td>0</td>\n      <td>0</td>\n      <td>0</td>\n    </tr>\n  </tbody>\n</table>\n<p>5 rows × 51 columns</p>\n</div>"
     },
     "execution_count": 4,
     "metadata": {},
     "output_type": "execute_result"
    }
   ],
   "source": [
    "movies.head()"
   ],
   "metadata": {
    "collapsed": false,
    "pycharm": {
     "name": "#%%\n"
    }
   }
  },
  {
   "cell_type": "code",
   "execution_count": 5,
   "outputs": [
    {
     "data": {
      "text/plain": "            id                    name  year description                genre  \\\n296   20284951                    遍地黄金  2012                     ['喜剧', '爱情']   \n1080  26296026                在勾引中学会爱2  2016               ['剧情', '爱情', '同性']   \n1760  26869124                   最忆是杭州  2016                           ['歌舞']   \n2650  35603036  湾区升明月——2021大湾区中秋电影音乐晚会  2021              ['音乐', '歌舞', '真人秀']   \n\n      ratingCount  bestRating  worstRating  ratingValue  directorMaxEffect  \\\n296           255          10            2          5.8                254   \n1080         2132          10            2          7.9                 43   \n1760         2182          10            2          8.2              38211   \n2650         1425          10            2          7.2                  8   \n\n      ...  y2013  y2014  y2015  y2016  y2017  y2018  y2019  y2020  y2021  \\\n296   ...      0      0      0      0      0      0      0      0      0   \n1080  ...      0      0      0      1      0      0      0      0      0   \n1760  ...      0      0      0      1      0      0      0      0      0   \n2650  ...      0      0      0      0      0      0      0      0      1   \n\n      y2022  \n296       0  \n1080      0  \n1760      0  \n2650      0  \n\n[4 rows x 51 columns]",
      "text/html": "<div>\n<style scoped>\n    .dataframe tbody tr th:only-of-type {\n        vertical-align: middle;\n    }\n\n    .dataframe tbody tr th {\n        vertical-align: top;\n    }\n\n    .dataframe thead th {\n        text-align: right;\n    }\n</style>\n<table border=\"1\" class=\"dataframe\">\n  <thead>\n    <tr style=\"text-align: right;\">\n      <th></th>\n      <th>id</th>\n      <th>name</th>\n      <th>year</th>\n      <th>description</th>\n      <th>genre</th>\n      <th>ratingCount</th>\n      <th>bestRating</th>\n      <th>worstRating</th>\n      <th>ratingValue</th>\n      <th>directorMaxEffect</th>\n      <th>...</th>\n      <th>y2013</th>\n      <th>y2014</th>\n      <th>y2015</th>\n      <th>y2016</th>\n      <th>y2017</th>\n      <th>y2018</th>\n      <th>y2019</th>\n      <th>y2020</th>\n      <th>y2021</th>\n      <th>y2022</th>\n    </tr>\n  </thead>\n  <tbody>\n    <tr>\n      <th>296</th>\n      <td>20284951</td>\n      <td>遍地黄金</td>\n      <td>2012</td>\n      <td></td>\n      <td>['喜剧', '爱情']</td>\n      <td>255</td>\n      <td>10</td>\n      <td>2</td>\n      <td>5.8</td>\n      <td>254</td>\n      <td>...</td>\n      <td>0</td>\n      <td>0</td>\n      <td>0</td>\n      <td>0</td>\n      <td>0</td>\n      <td>0</td>\n      <td>0</td>\n      <td>0</td>\n      <td>0</td>\n      <td>0</td>\n    </tr>\n    <tr>\n      <th>1080</th>\n      <td>26296026</td>\n      <td>在勾引中学会爱2</td>\n      <td>2016</td>\n      <td></td>\n      <td>['剧情', '爱情', '同性']</td>\n      <td>2132</td>\n      <td>10</td>\n      <td>2</td>\n      <td>7.9</td>\n      <td>43</td>\n      <td>...</td>\n      <td>0</td>\n      <td>0</td>\n      <td>0</td>\n      <td>1</td>\n      <td>0</td>\n      <td>0</td>\n      <td>0</td>\n      <td>0</td>\n      <td>0</td>\n      <td>0</td>\n    </tr>\n    <tr>\n      <th>1760</th>\n      <td>26869124</td>\n      <td>最忆是杭州</td>\n      <td>2016</td>\n      <td></td>\n      <td>['歌舞']</td>\n      <td>2182</td>\n      <td>10</td>\n      <td>2</td>\n      <td>8.2</td>\n      <td>38211</td>\n      <td>...</td>\n      <td>0</td>\n      <td>0</td>\n      <td>0</td>\n      <td>1</td>\n      <td>0</td>\n      <td>0</td>\n      <td>0</td>\n      <td>0</td>\n      <td>0</td>\n      <td>0</td>\n    </tr>\n    <tr>\n      <th>2650</th>\n      <td>35603036</td>\n      <td>湾区升明月——2021大湾区中秋电影音乐晚会</td>\n      <td>2021</td>\n      <td></td>\n      <td>['音乐', '歌舞', '真人秀']</td>\n      <td>1425</td>\n      <td>10</td>\n      <td>2</td>\n      <td>7.2</td>\n      <td>8</td>\n      <td>...</td>\n      <td>0</td>\n      <td>0</td>\n      <td>0</td>\n      <td>0</td>\n      <td>0</td>\n      <td>0</td>\n      <td>0</td>\n      <td>0</td>\n      <td>1</td>\n      <td>0</td>\n    </tr>\n  </tbody>\n</table>\n<p>4 rows × 51 columns</p>\n</div>"
     },
     "execution_count": 5,
     "metadata": {},
     "output_type": "execute_result"
    }
   ],
   "source": [
    "movies[movies.description == \"\"]\n",
    "# only four movies with no description."
   ],
   "metadata": {
    "collapsed": false,
    "pycharm": {
     "name": "#%%\n"
    }
   }
  },
  {
   "cell_type": "code",
   "execution_count": 6,
   "outputs": [],
   "source": [
    "# examples of jingoistic movies:\n",
    "\n",
    "# https://www.douban.com/tag/红色电影/movie\n",
    "# https://www.douban.com/tag/爱国电影/movie\n",
    "\n",
    "# https://movie.douban.com/subject/21323597/ \"我爱我的祖国！\"\n",
    "# https://movie.douban.com/subject/6433911/ \"半睡半醒中看见国军的钢盔一枪一个洞，共军找个脸盆、木板就可以有效挡子弹了，吹牛逼可专业了，我服。\"\n",
    "# https://movie.douban.com/subject/26822683/\n",
    "# https://movie.douban.com/subject/1907464/ \"中国的电影导演，跟高考考场上在那使着劲儿编作文的考生一样，都是戴着枷锁跳舞啊！ 能跳成这样，其实已经算不错的了！\"\n",
    "# https://movie.douban.com/subject/6011805/\n",
    "# https://movie.douban.com/subject/11615437/\n",
    "\n",
    "keywords = [\"日本\",\n",
    "            \"抗日\",\n",
    "            \"抗战\",\n",
    "            \"日军\",\n",
    "            \"二战\",\n",
    "            \"第二次世界大战\",\n",
    "            \"抗美援朝\",\n",
    "            \"党\",\n",
    "            # \"中央\",\n",
    "            \"中共\",\n",
    "            \"国家\",\n",
    "            \"中国\",\n",
    "            \"祖国\",\n",
    "            \"我国\",\n",
    "            \"国民\",\n",
    "            \"革命\",\n",
    "            \"部队\",\n",
    "            \"红军\",\n",
    "            \"八路\",\n",
    "            \"解放\",\n",
    "            \"中华\",\n",
    "            \"民族\",\n",
    "            \"华人\",\n",
    "            \"毛泽东\",\n",
    "            \"邓小平\",\n",
    "            \"习近平\",\n",
    "            \"主席\",\n",
    "            \"宣传\",\n",
    "            \"公安\",\n",
    "            \"书记\",\n",
    "            \"社会主义\",\n",
    "            \"领导\",\n",
    "            \"干部\",\n",
    "            \"志愿\",]"
   ],
   "metadata": {
    "collapsed": false,
    "pycharm": {
     "name": "#%%\n"
    }
   }
  },
  {
   "cell_type": "code",
   "execution_count": 7,
   "outputs": [
    {
     "data": {
      "text/plain": "{'日本': 99,\n '抗日': 46,\n '抗战': 19,\n '日军': 51,\n '二战': 2,\n '第二次世界大战': 5,\n '抗美援朝': 8,\n '党': 91,\n '中共': 13,\n '国家': 46,\n '中国': 239,\n '祖国': 23,\n '我国': 11,\n '国民': 28,\n '革命': 44,\n '部队': 45,\n '红军': 17,\n '八路': 13,\n '解放': 24,\n '中华': 29,\n '民族': 46,\n '华人': 17,\n '毛泽东': 4,\n '邓小平': 3,\n '习近平': 1,\n '主席': 15,\n '宣传': 24,\n '公安': 17,\n '书记': 18,\n '社会主义': 3,\n '领导': 30,\n '干部': 17,\n '志愿': 11}"
     },
     "execution_count": 7,
     "metadata": {},
     "output_type": "execute_result"
    }
   ],
   "source": [
    "possible = set()\n",
    "freq = dict.fromkeys(keywords, 0)\n",
    "\n",
    "for index, row in movies.iterrows():\n",
    "    for k in keywords:\n",
    "        if k in row.description:\n",
    "            possible.add(index)\n",
    "            freq[k] += 1\n",
    "\n",
    "freq"
   ],
   "metadata": {
    "collapsed": false,
    "pycharm": {
     "name": "#%%\n"
    }
   }
  },
  {
   "cell_type": "code",
   "execution_count": 8,
   "outputs": [
    {
     "data": {
      "text/plain": "582"
     },
     "execution_count": 8,
     "metadata": {},
     "output_type": "execute_result"
    }
   ],
   "source": [
    "len(possible)"
   ],
   "metadata": {
    "collapsed": false,
    "pycharm": {
     "name": "#%%\n"
    }
   }
  },
  {
   "cell_type": "code",
   "execution_count": 9,
   "outputs": [],
   "source": [
    "with open(\"./data/details_dict.pkl\", mode=\"rb\") as f:\n",
    "    details_dict = pickle.load(f)"
   ],
   "metadata": {
    "collapsed": false,
    "pycharm": {
     "name": "#%%\n"
    }
   }
  },
  {
   "cell_type": "code",
   "execution_count": 80,
   "outputs": [],
   "source": [
    "# clear the file, if necessary\n",
    "with open(\"./possibles.html\", \"w\", encoding=\"utf-8\") as f:\n",
    "    f.write(\"<style>\"\n",
    "            \"body { font-family: sans-serif; white-space: pre-line; max-width:900px }\"\n",
    "            \"</style>\")\n",
    "    # https://stackoverflow.com/questions/4471401/getting-value-of-html-checkbox-from-onclick-onchange-events\n",
    "    f.write(\"<script>\"\n",
    "            \"const possibles = new Set();\"\n",
    "            \"function onCheck(cb, id) {\"\n",
    "                \"if (cb.checked) {possibles.add(id)} else {possibles.delete(id)}\"\n",
    "            \"}\"\n",
    "            \"</script>\")\n",
    "    f.write(\"<h1>List of Movies that are Possibly Propaganda</h1>\")"
   ],
   "metadata": {
    "collapsed": false,
    "pycharm": {
     "name": "#%%\n"
    }
   }
  },
  {
   "cell_type": "code",
   "execution_count": 81,
   "outputs": [],
   "source": [
    "with open(\"./possibles.html\", \"a\", encoding=\"utf-8\") as f:\n",
    "    for index, row in movies.loc[sorted(possible)].iterrows():\n",
    "        f.write(f'<img src=\"{details_dict[str(row.id)][\"image\"]}\">')\n",
    "        f.write(f\"<p>https://movie.douban.com/subject/{row.id}/</p>\")\n",
    "        f.write(f\"<h2>{row['name']}</h2>\")\n",
    "        f.write(f\"<h3>{row.genre}</h3>\")\n",
    "        f.write(f\"<h3>Rating: {row.ratingValue}, count: {row.ratingCount}</h3>\")\n",
    "        desc = row.description\n",
    "        # highlight\n",
    "        for k in keywords:\n",
    "            desc = desc.replace(k, \"<mark>\" + k + \"</mark>\")\n",
    "        f.write(f\"<p>{desc}</p>\")\n",
    "        f.write(f'<input type=\"checkbox\" id={row.id} onclick=\"onCheck(this, {row.id})\">Propaganda?</input>')\n",
    "        f.write(\"<hr>\")"
   ],
   "metadata": {
    "collapsed": false,
    "pycharm": {
     "name": "#%%\n"
    }
   }
  }
 ],
 "metadata": {
  "kernelspec": {
   "display_name": "Python 3",
   "language": "python",
   "name": "python3"
  },
  "language_info": {
   "codemirror_mode": {
    "name": "ipython",
    "version": 2
   },
   "file_extension": ".py",
   "mimetype": "text/x-python",
   "name": "python",
   "nbconvert_exporter": "python",
   "pygments_lexer": "ipython2",
   "version": "2.7.6"
  }
 },
 "nbformat": 4,
 "nbformat_minor": 0
}
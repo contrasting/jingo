{
 "cells": [
  {
   "cell_type": "code",
   "execution_count": 1,
   "outputs": [],
   "source": [
    "import pandas as pd\n",
    "from bs4 import BeautifulSoup\n",
    "import pickle"
   ],
   "metadata": {
    "collapsed": false,
    "pycharm": {
     "name": "#%%\n"
    }
   }
  },
  {
   "cell_type": "code",
   "execution_count": 2,
   "outputs": [
    {
     "data": {
      "text/plain": "         id       name  year               genre  ratingCount  bestRating  \\\n0  10344754      毒战 毒戰  2012  ['剧情', '动作', '犯罪']       210072          10   \n1  10355621  粉红女郎之爱人快跑  2013        ['喜剧', '爱情']         1826          10   \n2  10355633      绝命藏宝图  2012        ['动作', '悬疑']           78          10   \n4  10430281    七个隆咚锵咚锵  2012        ['喜剧', '爱情']          506          10   \n5  10437802  武当少年 武當少年  2010        ['剧情', '儿童']           68          10   \n\n   worstRating  ratingValue  directorMaxEffect  actorMaxEffect  ...  y2013  \\\n0            2          7.5              34235           27592  ...      0   \n1            2          3.2                 65            3861  ...      1   \n2            2          3.2                 43              43  ...      0   \n4            2          4.9                115             161  ...      0   \n5            2          6.1                  2             192  ...      0   \n\n   y2014  y2015  y2016  y2017  y2018  y2019  y2020  y2021  y2022  \n0      0      0      0      0      0      0      0      0      0  \n1      0      0      0      0      0      0      0      0      0  \n2      0      0      0      0      0      0      0      0      0  \n4      0      0      0      0      0      0      0      0      0  \n5      0      0      0      0      0      0      0      0      0  \n\n[5 rows x 50 columns]",
      "text/html": "<div>\n<style scoped>\n    .dataframe tbody tr th:only-of-type {\n        vertical-align: middle;\n    }\n\n    .dataframe tbody tr th {\n        vertical-align: top;\n    }\n\n    .dataframe thead th {\n        text-align: right;\n    }\n</style>\n<table border=\"1\" class=\"dataframe\">\n  <thead>\n    <tr style=\"text-align: right;\">\n      <th></th>\n      <th>id</th>\n      <th>name</th>\n      <th>year</th>\n      <th>genre</th>\n      <th>ratingCount</th>\n      <th>bestRating</th>\n      <th>worstRating</th>\n      <th>ratingValue</th>\n      <th>directorMaxEffect</th>\n      <th>actorMaxEffect</th>\n      <th>...</th>\n      <th>y2013</th>\n      <th>y2014</th>\n      <th>y2015</th>\n      <th>y2016</th>\n      <th>y2017</th>\n      <th>y2018</th>\n      <th>y2019</th>\n      <th>y2020</th>\n      <th>y2021</th>\n      <th>y2022</th>\n    </tr>\n  </thead>\n  <tbody>\n    <tr>\n      <th>0</th>\n      <td>10344754</td>\n      <td>毒战 毒戰</td>\n      <td>2012</td>\n      <td>['剧情', '动作', '犯罪']</td>\n      <td>210072</td>\n      <td>10</td>\n      <td>2</td>\n      <td>7.5</td>\n      <td>34235</td>\n      <td>27592</td>\n      <td>...</td>\n      <td>0</td>\n      <td>0</td>\n      <td>0</td>\n      <td>0</td>\n      <td>0</td>\n      <td>0</td>\n      <td>0</td>\n      <td>0</td>\n      <td>0</td>\n      <td>0</td>\n    </tr>\n    <tr>\n      <th>1</th>\n      <td>10355621</td>\n      <td>粉红女郎之爱人快跑</td>\n      <td>2013</td>\n      <td>['喜剧', '爱情']</td>\n      <td>1826</td>\n      <td>10</td>\n      <td>2</td>\n      <td>3.2</td>\n      <td>65</td>\n      <td>3861</td>\n      <td>...</td>\n      <td>1</td>\n      <td>0</td>\n      <td>0</td>\n      <td>0</td>\n      <td>0</td>\n      <td>0</td>\n      <td>0</td>\n      <td>0</td>\n      <td>0</td>\n      <td>0</td>\n    </tr>\n    <tr>\n      <th>2</th>\n      <td>10355633</td>\n      <td>绝命藏宝图</td>\n      <td>2012</td>\n      <td>['动作', '悬疑']</td>\n      <td>78</td>\n      <td>10</td>\n      <td>2</td>\n      <td>3.2</td>\n      <td>43</td>\n      <td>43</td>\n      <td>...</td>\n      <td>0</td>\n      <td>0</td>\n      <td>0</td>\n      <td>0</td>\n      <td>0</td>\n      <td>0</td>\n      <td>0</td>\n      <td>0</td>\n      <td>0</td>\n      <td>0</td>\n    </tr>\n    <tr>\n      <th>4</th>\n      <td>10430281</td>\n      <td>七个隆咚锵咚锵</td>\n      <td>2012</td>\n      <td>['喜剧', '爱情']</td>\n      <td>506</td>\n      <td>10</td>\n      <td>2</td>\n      <td>4.9</td>\n      <td>115</td>\n      <td>161</td>\n      <td>...</td>\n      <td>0</td>\n      <td>0</td>\n      <td>0</td>\n      <td>0</td>\n      <td>0</td>\n      <td>0</td>\n      <td>0</td>\n      <td>0</td>\n      <td>0</td>\n      <td>0</td>\n    </tr>\n    <tr>\n      <th>5</th>\n      <td>10437802</td>\n      <td>武当少年 武當少年</td>\n      <td>2010</td>\n      <td>['剧情', '儿童']</td>\n      <td>68</td>\n      <td>10</td>\n      <td>2</td>\n      <td>6.1</td>\n      <td>2</td>\n      <td>192</td>\n      <td>...</td>\n      <td>0</td>\n      <td>0</td>\n      <td>0</td>\n      <td>0</td>\n      <td>0</td>\n      <td>0</td>\n      <td>0</td>\n      <td>0</td>\n      <td>0</td>\n      <td>0</td>\n    </tr>\n  </tbody>\n</table>\n<p>5 rows × 50 columns</p>\n</div>"
     },
     "execution_count": 2,
     "metadata": {},
     "output_type": "execute_result"
    }
   ],
   "source": [
    "movies = pd.read_csv(\"./data/movies_reg_df.csv\", index_col=0)\n",
    "movies.head()"
   ],
   "metadata": {
    "collapsed": false,
    "pycharm": {
     "name": "#%%\n"
    }
   }
  },
  {
   "cell_type": "code",
   "execution_count": 3,
   "outputs": [],
   "source": [
    "# first append the description column\n",
    "description = []\n",
    "\n",
    "for i in movies.id:\n",
    "    with open(f\"./data/detail/{i}.html\", encoding=\"utf-8\") as f:\n",
    "        soup = BeautifulSoup(f)\n",
    "\n",
    "    try:\n",
    "        c = soup.find(\"span\", class_=\"all hidden\").contents\n",
    "    except AttributeError:\n",
    "        try:\n",
    "            c = soup.find(\"span\", property=\"v:summary\").contents\n",
    "        except AttributeError:\n",
    "            c = []\n",
    "\n",
    "    d = \"\"\n",
    "    for s in c:\n",
    "        try:\n",
    "            d += s.strip()\n",
    "        except TypeError:\n",
    "            d += \"\\n\\n\"\n",
    "\n",
    "    description.append(d)\n",
    "\n",
    "movies.insert(3, \"description\", description)"
   ],
   "metadata": {
    "collapsed": false,
    "pycharm": {
     "name": "#%%\n"
    }
   }
  },
  {
   "cell_type": "code",
   "execution_count": 5,
   "outputs": [
    {
     "data": {
      "text/plain": "         id       name  year  \\\n0  10344754      毒战 毒戰  2012   \n1  10355621  粉红女郎之爱人快跑  2013   \n2  10355633      绝命藏宝图  2012   \n4  10430281    七个隆咚锵咚锵  2012   \n5  10437802  武当少年 武當少年  2010   \n\n                                         description               genre  \\\n0  刚刚结束一次危险任务的津海市缉毒大队队长张雷（孙红雷 饰），在医院意外见到因车祸入院治疗的香...  ['剧情', '动作', '犯罪']   \n1  为了泡到一个男朋友，结婚狂（阿雅 饰）碰见魔术师高明（锦荣 饰）后，便告诉对方自己怀了他的孩...        ['喜剧', '爱情']   \n2  一对不食人间烟火的青年男女——彭少文和程雪珂狼狈地逃到余姚县城门口，他们身后有一群凶神恶煞的...        ['动作', '悬疑']   \n4  韩峰（韩兆 饰）在一天之内丢掉了工作和恋人，一无所有的他陷入了人生的低谷之中。然而，韩峰的运...        ['喜剧', '爱情']   \n5  主人公翔翔原本是一个天真浪漫，活泼好动的孩子，在一次观看武当武校在台湾的表演后，萌生了赴武当...        ['剧情', '儿童']   \n\n   ratingCount  bestRating  worstRating  ratingValue  directorMaxEffect  ...  \\\n0       210072          10            2          7.5              34235  ...   \n1         1826          10            2          3.2                 65  ...   \n2           78          10            2          3.2                 43  ...   \n4          506          10            2          4.9                115  ...   \n5           68          10            2          6.1                  2  ...   \n\n   y2013  y2014  y2015  y2016  y2017  y2018  y2019  y2020  y2021  y2022  \n0      0      0      0      0      0      0      0      0      0      0  \n1      1      0      0      0      0      0      0      0      0      0  \n2      0      0      0      0      0      0      0      0      0      0  \n4      0      0      0      0      0      0      0      0      0      0  \n5      0      0      0      0      0      0      0      0      0      0  \n\n[5 rows x 51 columns]",
      "text/html": "<div>\n<style scoped>\n    .dataframe tbody tr th:only-of-type {\n        vertical-align: middle;\n    }\n\n    .dataframe tbody tr th {\n        vertical-align: top;\n    }\n\n    .dataframe thead th {\n        text-align: right;\n    }\n</style>\n<table border=\"1\" class=\"dataframe\">\n  <thead>\n    <tr style=\"text-align: right;\">\n      <th></th>\n      <th>id</th>\n      <th>name</th>\n      <th>year</th>\n      <th>description</th>\n      <th>genre</th>\n      <th>ratingCount</th>\n      <th>bestRating</th>\n      <th>worstRating</th>\n      <th>ratingValue</th>\n      <th>directorMaxEffect</th>\n      <th>...</th>\n      <th>y2013</th>\n      <th>y2014</th>\n      <th>y2015</th>\n      <th>y2016</th>\n      <th>y2017</th>\n      <th>y2018</th>\n      <th>y2019</th>\n      <th>y2020</th>\n      <th>y2021</th>\n      <th>y2022</th>\n    </tr>\n  </thead>\n  <tbody>\n    <tr>\n      <th>0</th>\n      <td>10344754</td>\n      <td>毒战 毒戰</td>\n      <td>2012</td>\n      <td>刚刚结束一次危险任务的津海市缉毒大队队长张雷（孙红雷 饰），在医院意外见到因车祸入院治疗的香...</td>\n      <td>['剧情', '动作', '犯罪']</td>\n      <td>210072</td>\n      <td>10</td>\n      <td>2</td>\n      <td>7.5</td>\n      <td>34235</td>\n      <td>...</td>\n      <td>0</td>\n      <td>0</td>\n      <td>0</td>\n      <td>0</td>\n      <td>0</td>\n      <td>0</td>\n      <td>0</td>\n      <td>0</td>\n      <td>0</td>\n      <td>0</td>\n    </tr>\n    <tr>\n      <th>1</th>\n      <td>10355621</td>\n      <td>粉红女郎之爱人快跑</td>\n      <td>2013</td>\n      <td>为了泡到一个男朋友，结婚狂（阿雅 饰）碰见魔术师高明（锦荣 饰）后，便告诉对方自己怀了他的孩...</td>\n      <td>['喜剧', '爱情']</td>\n      <td>1826</td>\n      <td>10</td>\n      <td>2</td>\n      <td>3.2</td>\n      <td>65</td>\n      <td>...</td>\n      <td>1</td>\n      <td>0</td>\n      <td>0</td>\n      <td>0</td>\n      <td>0</td>\n      <td>0</td>\n      <td>0</td>\n      <td>0</td>\n      <td>0</td>\n      <td>0</td>\n    </tr>\n    <tr>\n      <th>2</th>\n      <td>10355633</td>\n      <td>绝命藏宝图</td>\n      <td>2012</td>\n      <td>一对不食人间烟火的青年男女——彭少文和程雪珂狼狈地逃到余姚县城门口，他们身后有一群凶神恶煞的...</td>\n      <td>['动作', '悬疑']</td>\n      <td>78</td>\n      <td>10</td>\n      <td>2</td>\n      <td>3.2</td>\n      <td>43</td>\n      <td>...</td>\n      <td>0</td>\n      <td>0</td>\n      <td>0</td>\n      <td>0</td>\n      <td>0</td>\n      <td>0</td>\n      <td>0</td>\n      <td>0</td>\n      <td>0</td>\n      <td>0</td>\n    </tr>\n    <tr>\n      <th>4</th>\n      <td>10430281</td>\n      <td>七个隆咚锵咚锵</td>\n      <td>2012</td>\n      <td>韩峰（韩兆 饰）在一天之内丢掉了工作和恋人，一无所有的他陷入了人生的低谷之中。然而，韩峰的运...</td>\n      <td>['喜剧', '爱情']</td>\n      <td>506</td>\n      <td>10</td>\n      <td>2</td>\n      <td>4.9</td>\n      <td>115</td>\n      <td>...</td>\n      <td>0</td>\n      <td>0</td>\n      <td>0</td>\n      <td>0</td>\n      <td>0</td>\n      <td>0</td>\n      <td>0</td>\n      <td>0</td>\n      <td>0</td>\n      <td>0</td>\n    </tr>\n    <tr>\n      <th>5</th>\n      <td>10437802</td>\n      <td>武当少年 武當少年</td>\n      <td>2010</td>\n      <td>主人公翔翔原本是一个天真浪漫，活泼好动的孩子，在一次观看武当武校在台湾的表演后，萌生了赴武当...</td>\n      <td>['剧情', '儿童']</td>\n      <td>68</td>\n      <td>10</td>\n      <td>2</td>\n      <td>6.1</td>\n      <td>2</td>\n      <td>...</td>\n      <td>0</td>\n      <td>0</td>\n      <td>0</td>\n      <td>0</td>\n      <td>0</td>\n      <td>0</td>\n      <td>0</td>\n      <td>0</td>\n      <td>0</td>\n      <td>0</td>\n    </tr>\n  </tbody>\n</table>\n<p>5 rows × 51 columns</p>\n</div>"
     },
     "execution_count": 5,
     "metadata": {},
     "output_type": "execute_result"
    }
   ],
   "source": [
    "movies.head()"
   ],
   "metadata": {
    "collapsed": false,
    "pycharm": {
     "name": "#%%\n"
    }
   }
  },
  {
   "cell_type": "code",
   "execution_count": 6,
   "outputs": [
    {
     "data": {
      "text/plain": "            id                    name  year description                genre  \\\n296   20284951                    遍地黄金  2012                     ['喜剧', '爱情']   \n1080  26296026                在勾引中学会爱2  2016               ['剧情', '爱情', '同性']   \n1760  26869124                   最忆是杭州  2016                           ['歌舞']   \n2650  35603036  湾区升明月——2021大湾区中秋电影音乐晚会  2021              ['音乐', '歌舞', '真人秀']   \n\n      ratingCount  bestRating  worstRating  ratingValue  directorMaxEffect  \\\n296           255          10            2          5.8                254   \n1080         2132          10            2          7.9                 43   \n1760         2182          10            2          8.2              38211   \n2650         1425          10            2          7.2                  8   \n\n      ...  y2013  y2014  y2015  y2016  y2017  y2018  y2019  y2020  y2021  \\\n296   ...      0      0      0      0      0      0      0      0      0   \n1080  ...      0      0      0      1      0      0      0      0      0   \n1760  ...      0      0      0      1      0      0      0      0      0   \n2650  ...      0      0      0      0      0      0      0      0      1   \n\n      y2022  \n296       0  \n1080      0  \n1760      0  \n2650      0  \n\n[4 rows x 51 columns]",
      "text/html": "<div>\n<style scoped>\n    .dataframe tbody tr th:only-of-type {\n        vertical-align: middle;\n    }\n\n    .dataframe tbody tr th {\n        vertical-align: top;\n    }\n\n    .dataframe thead th {\n        text-align: right;\n    }\n</style>\n<table border=\"1\" class=\"dataframe\">\n  <thead>\n    <tr style=\"text-align: right;\">\n      <th></th>\n      <th>id</th>\n      <th>name</th>\n      <th>year</th>\n      <th>description</th>\n      <th>genre</th>\n      <th>ratingCount</th>\n      <th>bestRating</th>\n      <th>worstRating</th>\n      <th>ratingValue</th>\n      <th>directorMaxEffect</th>\n      <th>...</th>\n      <th>y2013</th>\n      <th>y2014</th>\n      <th>y2015</th>\n      <th>y2016</th>\n      <th>y2017</th>\n      <th>y2018</th>\n      <th>y2019</th>\n      <th>y2020</th>\n      <th>y2021</th>\n      <th>y2022</th>\n    </tr>\n  </thead>\n  <tbody>\n    <tr>\n      <th>296</th>\n      <td>20284951</td>\n      <td>遍地黄金</td>\n      <td>2012</td>\n      <td></td>\n      <td>['喜剧', '爱情']</td>\n      <td>255</td>\n      <td>10</td>\n      <td>2</td>\n      <td>5.8</td>\n      <td>254</td>\n      <td>...</td>\n      <td>0</td>\n      <td>0</td>\n      <td>0</td>\n      <td>0</td>\n      <td>0</td>\n      <td>0</td>\n      <td>0</td>\n      <td>0</td>\n      <td>0</td>\n      <td>0</td>\n    </tr>\n    <tr>\n      <th>1080</th>\n      <td>26296026</td>\n      <td>在勾引中学会爱2</td>\n      <td>2016</td>\n      <td></td>\n      <td>['剧情', '爱情', '同性']</td>\n      <td>2132</td>\n      <td>10</td>\n      <td>2</td>\n      <td>7.9</td>\n      <td>43</td>\n      <td>...</td>\n      <td>0</td>\n      <td>0</td>\n      <td>0</td>\n      <td>1</td>\n      <td>0</td>\n      <td>0</td>\n      <td>0</td>\n      <td>0</td>\n      <td>0</td>\n      <td>0</td>\n    </tr>\n    <tr>\n      <th>1760</th>\n      <td>26869124</td>\n      <td>最忆是杭州</td>\n      <td>2016</td>\n      <td></td>\n      <td>['歌舞']</td>\n      <td>2182</td>\n      <td>10</td>\n      <td>2</td>\n      <td>8.2</td>\n      <td>38211</td>\n      <td>...</td>\n      <td>0</td>\n      <td>0</td>\n      <td>0</td>\n      <td>1</td>\n      <td>0</td>\n      <td>0</td>\n      <td>0</td>\n      <td>0</td>\n      <td>0</td>\n      <td>0</td>\n    </tr>\n    <tr>\n      <th>2650</th>\n      <td>35603036</td>\n      <td>湾区升明月——2021大湾区中秋电影音乐晚会</td>\n      <td>2021</td>\n      <td></td>\n      <td>['音乐', '歌舞', '真人秀']</td>\n      <td>1425</td>\n      <td>10</td>\n      <td>2</td>\n      <td>7.2</td>\n      <td>8</td>\n      <td>...</td>\n      <td>0</td>\n      <td>0</td>\n      <td>0</td>\n      <td>0</td>\n      <td>0</td>\n      <td>0</td>\n      <td>0</td>\n      <td>0</td>\n      <td>1</td>\n      <td>0</td>\n    </tr>\n  </tbody>\n</table>\n<p>4 rows × 51 columns</p>\n</div>"
     },
     "execution_count": 6,
     "metadata": {},
     "output_type": "execute_result"
    }
   ],
   "source": [
    "movies[movies.description == \"\"]\n",
    "# only four movies with no description."
   ],
   "metadata": {
    "collapsed": false,
    "pycharm": {
     "name": "#%%\n"
    }
   }
  },
  {
   "cell_type": "code",
   "execution_count": 135,
   "outputs": [],
   "source": [
    "# examples of jingoistic movies:\n",
    "\n",
    "# https://www.douban.com/tag/红色电影/movie\n",
    "# https://www.douban.com/tag/爱国电影/movie\n",
    "\n",
    "# https://movie.douban.com/subject/21323597/ \"我爱我的祖国！\"\n",
    "# https://movie.douban.com/subject/6433911/ \"半睡半醒中看见国军的钢盔一枪一个洞，共军找个脸盆、木板就可以有效挡子弹了，吹牛逼可专业了，我服。\"\n",
    "# https://movie.douban.com/subject/26822683/\n",
    "# https://movie.douban.com/subject/1907464/ \"中国的电影导演，跟高考考场上在那使着劲儿编作文的考生一样，都是戴着枷锁跳舞啊！ 能跳成这样，其实已经算不错的了！\"\n",
    "# https://movie.douban.com/subject/6011805/\n",
    "# https://movie.douban.com/subject/11615437/\n",
    "\n",
    "keywords = [\"日本\",\n",
    "            \"抗日\",\n",
    "            \"抗战\",\n",
    "            \"日军\",\n",
    "            \"日寇\",\n",
    "            \"二战\",\n",
    "            \"第二次世界大战\",\n",
    "            \"抗美援朝\",\n",
    "            \"共产\",\n",
    "            \"党\",\n",
    "            \"中央\",\n",
    "            \"中共\",\n",
    "            \"国家\",\n",
    "            \"中国\",\n",
    "            \"祖国\",\n",
    "            \"我国\",\n",
    "            \"爱国\",\n",
    "            \"全国\",\n",
    "            \"国民\",\n",
    "            \"革命\",\n",
    "            \"部队\",\n",
    "            \"红军\",\n",
    "            \"八路\",\n",
    "            \"解放\",\n",
    "            \"中华\",\n",
    "            \"民族\",\n",
    "            \"华人\",\n",
    "            \"毛泽东\",\n",
    "            \"邓小平\",\n",
    "            \"习近平\",\n",
    "            \"主席\",\n",
    "            \"宣传\",\n",
    "            \"公安\",\n",
    "            \"书记\",\n",
    "            \"社会主义\",\n",
    "            \"领导\",\n",
    "            \"干部\",\n",
    "            \"志愿\",\n",
    "            \"政府\",\n",
    "            \"岗位\",\n",
    "            \"尽职\",\n",
    "            \"人民\",\n",
    "            \"为民\",\n",
    "            \"为国\",\n",
    "            \"百姓\",\n",
    "            \"模范\",\n",
    "            \"帝国\",\n",
    "            \"复兴\",\n",
    "            \"公益\",\n",
    "            \"贡献\",\n",
    "            \"奉献\",\n",
    "            \"牺牲\",\n",
    "            \"报国\",\n",
    "            \"新时代\",\n",
    "            \"蒋介石\",\n",
    "            \"红旗\",\n",
    "            \"脱贫\",\n",
    "            \"腐败\",\n",
    "            \"敌方\",\n",
    "            # \"台湾\",\n",
    "            ]"
   ],
   "metadata": {
    "collapsed": false,
    "pycharm": {
     "name": "#%%\n"
    }
   }
  },
  {
   "cell_type": "code",
   "execution_count": 136,
   "outputs": [
    {
     "data": {
      "text/plain": "{'日本': 99,\n '抗日': 46,\n '抗战': 19,\n '日军': 51,\n '日寇': 12,\n '二战': 2,\n '第二次世界大战': 5,\n '抗美援朝': 8,\n '共产': 21,\n '党': 91,\n '中央': 29,\n '中共': 13,\n '国家': 46,\n '中国': 239,\n '祖国': 23,\n '我国': 11,\n '爱国': 18,\n '全国': 45,\n '国民': 28,\n '革命': 44,\n '部队': 45,\n '红军': 17,\n '八路': 13,\n '解放': 24,\n '中华': 29,\n '民族': 46,\n '华人': 17,\n '毛泽东': 4,\n '邓小平': 3,\n '习近平': 1,\n '主席': 15,\n '宣传': 24,\n '公安': 17,\n '书记': 18,\n '社会主义': 3,\n '领导': 30,\n '干部': 17,\n '志愿': 11,\n '政府': 43,\n '岗位': 7,\n '尽职': 4,\n '人民': 44,\n '为民': 9,\n '为国': 17,\n '百姓': 58,\n '模范': 4,\n '帝国': 14,\n '复兴': 4,\n '公益': 7,\n '贡献': 9,\n '奉献': 19,\n '牺牲': 60,\n '报国': 5,\n '新时代': 5,\n '蒋介石': 4,\n '红旗': 8,\n '脱贫': 4,\n '腐败': 6,\n '敌方': 4}"
     },
     "execution_count": 136,
     "metadata": {},
     "output_type": "execute_result"
    }
   ],
   "source": [
    "possible = set()\n",
    "freq = dict.fromkeys(keywords, 0)\n",
    "\n",
    "for index, row in movies.iterrows():\n",
    "    for k in keywords:\n",
    "        if k in row.description:\n",
    "            possible.add(index)\n",
    "            freq[k] += 1\n",
    "\n",
    "freq"
   ],
   "metadata": {
    "collapsed": false,
    "pycharm": {
     "name": "#%%\n"
    }
   }
  },
  {
   "cell_type": "code",
   "execution_count": 137,
   "outputs": [
    {
     "data": {
      "text/plain": "751"
     },
     "execution_count": 137,
     "metadata": {},
     "output_type": "execute_result"
    }
   ],
   "source": [
    "len(possible)"
   ],
   "metadata": {
    "collapsed": false,
    "pycharm": {
     "name": "#%%\n"
    }
   }
  },
  {
   "cell_type": "code",
   "execution_count": 17,
   "outputs": [],
   "source": [
    "with open(\"./data/details_dict.pkl\", mode=\"rb\") as f:\n",
    "    details_dict = pickle.load(f)"
   ],
   "metadata": {
    "collapsed": false,
    "pycharm": {
     "name": "#%%\n"
    }
   }
  },
  {
   "cell_type": "code",
   "execution_count": 138,
   "outputs": [],
   "source": [
    "# clear the file, if necessary\n",
    "with open(\"./possibles.html\", \"w\", encoding=\"utf-8\") as f:\n",
    "    f.write(\"<style>\"\n",
    "            \"body { font-family: sans-serif; white-space: pre-line; max-width:900px; margin: auto }\"\n",
    "            \"</style>\")\n",
    "    # https://stackoverflow.com/questions/4471401/getting-value-of-html-checkbox-from-onclick-onchange-events\n",
    "    f.write(\"<script>\"\n",
    "            f\"const propaganda = new Set({propaganda});\"\n",
    "            \"function onCheck(cb, id) {\"\n",
    "                \"if (cb.checked) {propaganda.add(id)} else {propaganda.delete(id)}\"\n",
    "            \"}\"\n",
    "            \"</script>\")\n",
    "    f.write(\"<h1>List of Movies that are Possibly Propaganda</h1>\")"
   ],
   "metadata": {
    "collapsed": false,
    "pycharm": {
     "name": "#%%\n"
    }
   }
  },
  {
   "cell_type": "code",
   "execution_count": 139,
   "outputs": [],
   "source": [
    "with open(\"./possibles.html\", \"a\", encoding=\"utf-8\") as f:\n",
    "    for index, row in movies.loc[sorted(possible)].iterrows():\n",
    "        f.write(f'<img src=\"{details_dict[str(row.id)][\"image\"]}\">')\n",
    "        f.write(f\"<p>https://movie.douban.com/subject/{row.id}/</p>\")\n",
    "        f.write(f\"<h2>{row['name']} ({row.year})</h2>\")\n",
    "        f.write(f\"<h3>{row.genre}</h3>\")\n",
    "        f.write(f\"<h3>Rating: {row.ratingValue}, count: {row.ratingCount}</h3>\")\n",
    "        desc = row.description\n",
    "        # highlight\n",
    "        for k in keywords:\n",
    "            desc = desc.replace(k, \"<mark>\" + k + \"</mark>\")\n",
    "        f.write(f\"<p>{desc}</p>\")\n",
    "        f.write(f'<input type=\"checkbox\" id={row.id} onclick=\"onCheck(this, {row.id})\">Propaganda?</input>')\n",
    "        f.write(\"<hr>\")\n",
    "    f.write(\"<script>\"\n",
    "        \"for (i of propaganda) { document.getElementById(i).checked = true; }\"\n",
    "    \"</script>\")"
   ],
   "metadata": {
    "collapsed": false,
    "pycharm": {
     "name": "#%%\n"
    }
   }
  },
  {
   "cell_type": "code",
   "execution_count": 141,
   "outputs": [
    {
     "data": {
      "text/plain": "240"
     },
     "execution_count": 141,
     "metadata": {},
     "output_type": "execute_result"
    }
   ],
   "source": [
    "# manually verified by reading possibles.html\n",
    "# difficult to identify propaganda - good propaganda is very subtle.\n",
    "# what even is propaganda? To promote an agenda\n",
    "# ignore e.g. love story set in minguo https://movie.douban.com/subject/26821304/\n",
    "# descriptions are sometimes skewed towards propaganda\n",
    "\n",
    "propaganda = [\n",
    "    10478122,\n",
    "    10508901,\n",
    "    10527199,\n",
    "    10537987,\n",
    "    10553094,\n",
    "    10573597,\n",
    "    10583890,\n",
    "    10605577,\n",
    "    10734527,\n",
    "    10738246,\n",
    "    10746136,\n",
    "    10810268,\n",
    "    10810270,\n",
    "    10833850,\n",
    "    10864754,\n",
    "    11589786,\n",
    "    11615437,\n",
    "    11627074,\n",
    "    11627081,\n",
    "    11627084,\n",
    "    11632451,\n",
    "    11632726,\n",
    "    19965216,\n",
    "    19967789,\n",
    "    19975090,\n",
    "    19976099,\n",
    "    19977815,\n",
    "    19977818,\n",
    "    19977901,\n",
    "    19994974,\n",
    "    19995496,\n",
    "    19997896,\n",
    "    20376613,\n",
    "    11627061,\n",
    "    20283521,\n",
    "    20426973,\n",
    "    20458803,\n",
    "    20471346,\n",
    "    21323597,\n",
    "    21327647,\n",
    "    21339522,\n",
    "    21359495,\n",
    "    23854117,\n",
    "    24383498,\n",
    "    24383521,\n",
    "    24525721,\n",
    "    24530508,\n",
    "    24530628,\n",
    "    24748879,\n",
    "    24753810,\n",
    "    24854991,\n",
    "    24859460,\n",
    "    24863314,\n",
    "    25731086,\n",
    "    25743807,\n",
    "    25761527,\n",
    "    25789352,\n",
    "    25808721,\n",
    "    25815034,\n",
    "    25820616,\n",
    "    25845384,\n",
    "    25845392,\n",
    "    25869685,\n",
    "    25874977,\n",
    "    25886523,\n",
    "    25927500,\n",
    "    25931451,\n",
    "    25934932,\n",
    "    25945350,\n",
    "    25945369,\n",
    "    26005643,\n",
    "    26087446,\n",
    "    26266924,\n",
    "    26304157,\n",
    "    26306671,\n",
    "    26316956,\n",
    "    26323542,\n",
    "    26331700,\n",
    "    26363254,\n",
    "    26363291,\n",
    "    26378587,\n",
    "    26382797,\n",
    "    26389069,\n",
    "    26431412,\n",
    "    26438799,\n",
    "    26452381,\n",
    "    26578123,\n",
    "    26598990,\n",
    "    26605823,\n",
    "    26606018,\n",
    "    26607132,\n",
    "    26616690,\n",
    "    26631304,\n",
    "    26639463,\n",
    "    26640841,\n",
    "    26643908,\n",
    "    26647899,\n",
    "    26658847,\n",
    "    26667646,\n",
    "    26738642,\n",
    "    26753020,\n",
    "    26754233,\n",
    "    26769471,\n",
    "    26769474,\n",
    "    26796664,\n",
    "    26815182,\n",
    "    26384079,\n",
    "    26384719,\n",
    "    23115889,\n",
    "    26822683,\n",
    "    26827508,\n",
    "    26827878,\n",
    "    26861685,\n",
    "    26877472,\n",
    "    26885074,\n",
    "    26898862,\n",
    "    26924066,\n",
    "    26974030,\n",
    "    26990713,\n",
    "    26994736,\n",
    "    27040921,\n",
    "    27063335,\n",
    "    27067697,\n",
    "    27098619,\n",
    "    27102739,\n",
    "    27104330,\n",
    "    27148198,\n",
    "    27175974,\n",
    "    27180974,\n",
    "    27185404,\n",
    "    27608425,\n",
    "    30128916,\n",
    "    30175306,\n",
    "    30185236,\n",
    "    30207949,\n",
    "    30210351,\n",
    "    30244759,\n",
    "    30261964,\n",
    "    30263962,\n",
    "    30283282,\n",
    "    30291126,\n",
    "    30293828,\n",
    "    30322432,\n",
    "    30327768,\n",
    "    30327877,\n",
    "    30345265,\n",
    "    25980554,\n",
    "    30347930,\n",
    "    30384234,\n",
    "    30393875,\n",
    "    30402752,\n",
    "    30419063,\n",
    "    30454698,\n",
    "    30463515,\n",
    "    30481973,\n",
    "    32491917,\n",
    "    32659890,\n",
    "    33973066,\n",
    "    34833914,\n",
    "    34845519,\n",
    "    34845733,\n",
    "    34867956,\n",
    "    34936468,\n",
    "    34943661,\n",
    "    34947776,\n",
    "    34953868,\n",
    "    35051512,\n",
    "    35061627,\n",
    "    24863241,\n",
    "    26826571,\n",
    "    27086953,\n",
    "    27591144,\n",
    "    27596992,\n",
    "    35067563,\n",
    "    35087699,\n",
    "    35096883,\n",
    "    35123973,\n",
    "    35125443,\n",
    "    35155748,\n",
    "    35164328,\n",
    "    25746423,\n",
    "    35205446,\n",
    "    35215390,\n",
    "    35225980,\n",
    "    35231379,\n",
    "    35231414,\n",
    "    35294995,\n",
    "    35295537,\n",
    "    35303777,\n",
    "    35309666,\n",
    "    35312437,\n",
    "    35411088,\n",
    "    35611465,\n",
    "    35613853,\n",
    "    3562446,\n",
    "    35624863,\n",
    "    35786349,\n",
    "    3578981,\n",
    "    3778238,\n",
    "    3792816,\n",
    "    3874981,\n",
    "    4116937,\n",
    "    4118068,\n",
    "    4134631,\n",
    "    4212172,\n",
    "    4363034,\n",
    "    4825006,\n",
    "    4891917,\n",
    "    4896295,\n",
    "    4896305,\n",
    "    4926002,\n",
    "    5045676,\n",
    "    5045804,\n",
    "    5290697,\n",
    "    5338073,\n",
    "    5343383,\n",
    "    6008428,\n",
    "    6011806,\n",
    "    6013758,\n",
    "    6041191,\n",
    "    6041200,\n",
    "    6080772,\n",
    "    6080801,\n",
    "    6118717,\n",
    "    6394372,\n",
    "    6436755,\n",
    "    6436776,\n",
    "    6514079,\n",
    "    6519563,\n",
    "    6519574,\n",
    "    6519575,\n",
    "    6519585,\n",
    "    6714122,\n",
    "    6714125,\n",
    "    6796186,\n",
    "    6801423,\n",
    "    6815052,\n",
    "    6835239,\n",
    "    6855101,\n",
    "    6984061,\n",
    "]\n",
    "\n",
    "len(propaganda)"
   ],
   "metadata": {
    "collapsed": false,
    "pycharm": {
     "name": "#%%\n"
    }
   }
  },
  {
   "cell_type": "code",
   "execution_count": 145,
   "outputs": [],
   "source": [
    "# add propaganda dummy\n",
    "\n",
    "dummy = []\n",
    "\n",
    "for i in movies.id:\n",
    "    dummy.append(1 if i in propaganda else 0)\n",
    "\n",
    "movies = movies.assign(dPropaganda = dummy)"
   ],
   "metadata": {
    "collapsed": false,
    "pycharm": {
     "name": "#%%\n"
    }
   }
  },
  {
   "cell_type": "code",
   "execution_count": 146,
   "outputs": [
    {
     "data": {
      "text/plain": "            id           name  year  \\\n20    10478122  平壤之约 평양에서의 약속  2012   \n30    10508901             匹夫  2012   \n35    10527199         渡江！渡江！  2012   \n38    10537987           宗师卜六  2013   \n47    10553094           月色狰狞  2012   \n...        ...            ...   ...   \n3092   6801423             女王  2011   \n3100   6815052          朵儿的战争  2011   \n3105   6835239           密林追击  2011   \n3112   6855101            先遣连  2011   \n3157   6984061          笑功震武林  2013   \n\n                                            description  \\\n20    中国青年舞蹈家王晓楠（刘冬 饰）在“民族舞蹈大赛”表演朝鲜舞蹈《铃铛》时，被总评审——奶奶陈...   \n30    抗日战争年代，一群亡命之徒集结在北方平原。他们在首领方有望（黄晓明 饰）带领下，建立了一个地...   \n35    国民党军营长黄怀恩（张笑君 饰）在解放军发起渡江战役前夕，率部撤离驻守的楚家渡口，退守江南。...   \n38    电影《宗师卜六》主要讲述民国时期一代跤王卜恩富的传奇故事。影视演员、著名打星吴樾在剧中饰演主...   \n47    地矿学家李教授带学生莫天良（邢佳栋 饰）和女儿月儿探寻矿源，获绘有金矿地势的羊皮图。盗匪赵无...   \n...                                                 ...   \n3092  系辽宁卫视新节目《北方影院》打造的自制电影，全片共90分钟。\\n\\n讲述的是在解放战争时期，...   \n3100  朵儿出身于皇室家族，声名显赫。她的父亲云龙鹤辛亥革命后赴日留学，主修建筑，是一个隧道工程师，...   \n3105  辽沈战役打响之前，王顺拿着爹画给他的一张图纸上萝北县城找爹的好友“赵山东”。因为街头发生的一...   \n3112  《先遣连》是以当年新疆军区独立骑兵师一团一连进军西藏阿里的先遣连为原形的电影。\\n\\n195...   \n3157  民国初年，东北地区形势复杂，军阀、土匪、日本特务势力交错，各占地盘，民不聊生。军阀林国栋虽无...   \n\n                         genre  ratingCount  bestRating  worstRating  \\\n20                      ['剧情']         1148          10            2   \n30    ['剧情', '动作', '战争', '西部']        26297          10            2   \n35                ['历史', '战争']          657          10            2   \n38          ['传记', '动作', '古装']          250          10            2   \n47                ['动作', '悬疑']          349          10            2   \n...                        ...          ...         ...          ...   \n3092                    ['剧情']          256          10            2   \n3100              ['剧情', '喜剧']          955          10            2   \n3105                    ['战争']          124          10            2   \n3112              ['剧情', '历史']          196          10            2   \n3157              ['喜剧', '动作']        19247          10            2   \n\n      ratingValue  directorMaxEffect  ...  y2014  y2015  y2016  y2017  y2018  \\\n20            4.1                212  ...      0      0      0      0      0   \n30            5.4                208  ...      0      0      0      0      0   \n35            3.0                  3  ...      0      0      0      0      0   \n38            4.1                 20  ...      0      0      0      0      0   \n47            3.4                 38  ...      0      0      0      0      0   \n...           ...                ...  ...    ...    ...    ...    ...    ...   \n3092          7.3                 27  ...      0      0      0      0      0   \n3100          7.6                  0  ...      0      0      0      0      0   \n3105          4.7                 45  ...      0      0      0      0      0   \n3112          6.8                 71  ...      0      0      0      0      0   \n3157          4.7               8403  ...      0      0      0      0      0   \n\n      y2019  y2020  y2021  y2022  dPropaganda  \n20        0      0      0      0            1  \n30        0      0      0      0            1  \n35        0      0      0      0            1  \n38        0      0      0      0            1  \n47        0      0      0      0            1  \n...     ...    ...    ...    ...          ...  \n3092      0      0      0      0            1  \n3100      0      0      0      0            1  \n3105      0      0      0      0            1  \n3112      0      0      0      0            1  \n3157      0      0      0      0            1  \n\n[240 rows x 52 columns]",
      "text/html": "<div>\n<style scoped>\n    .dataframe tbody tr th:only-of-type {\n        vertical-align: middle;\n    }\n\n    .dataframe tbody tr th {\n        vertical-align: top;\n    }\n\n    .dataframe thead th {\n        text-align: right;\n    }\n</style>\n<table border=\"1\" class=\"dataframe\">\n  <thead>\n    <tr style=\"text-align: right;\">\n      <th></th>\n      <th>id</th>\n      <th>name</th>\n      <th>year</th>\n      <th>description</th>\n      <th>genre</th>\n      <th>ratingCount</th>\n      <th>bestRating</th>\n      <th>worstRating</th>\n      <th>ratingValue</th>\n      <th>directorMaxEffect</th>\n      <th>...</th>\n      <th>y2014</th>\n      <th>y2015</th>\n      <th>y2016</th>\n      <th>y2017</th>\n      <th>y2018</th>\n      <th>y2019</th>\n      <th>y2020</th>\n      <th>y2021</th>\n      <th>y2022</th>\n      <th>dPropaganda</th>\n    </tr>\n  </thead>\n  <tbody>\n    <tr>\n      <th>20</th>\n      <td>10478122</td>\n      <td>平壤之约 평양에서의 약속</td>\n      <td>2012</td>\n      <td>中国青年舞蹈家王晓楠（刘冬 饰）在“民族舞蹈大赛”表演朝鲜舞蹈《铃铛》时，被总评审——奶奶陈...</td>\n      <td>['剧情']</td>\n      <td>1148</td>\n      <td>10</td>\n      <td>2</td>\n      <td>4.1</td>\n      <td>212</td>\n      <td>...</td>\n      <td>0</td>\n      <td>0</td>\n      <td>0</td>\n      <td>0</td>\n      <td>0</td>\n      <td>0</td>\n      <td>0</td>\n      <td>0</td>\n      <td>0</td>\n      <td>1</td>\n    </tr>\n    <tr>\n      <th>30</th>\n      <td>10508901</td>\n      <td>匹夫</td>\n      <td>2012</td>\n      <td>抗日战争年代，一群亡命之徒集结在北方平原。他们在首领方有望（黄晓明 饰）带领下，建立了一个地...</td>\n      <td>['剧情', '动作', '战争', '西部']</td>\n      <td>26297</td>\n      <td>10</td>\n      <td>2</td>\n      <td>5.4</td>\n      <td>208</td>\n      <td>...</td>\n      <td>0</td>\n      <td>0</td>\n      <td>0</td>\n      <td>0</td>\n      <td>0</td>\n      <td>0</td>\n      <td>0</td>\n      <td>0</td>\n      <td>0</td>\n      <td>1</td>\n    </tr>\n    <tr>\n      <th>35</th>\n      <td>10527199</td>\n      <td>渡江！渡江！</td>\n      <td>2012</td>\n      <td>国民党军营长黄怀恩（张笑君 饰）在解放军发起渡江战役前夕，率部撤离驻守的楚家渡口，退守江南。...</td>\n      <td>['历史', '战争']</td>\n      <td>657</td>\n      <td>10</td>\n      <td>2</td>\n      <td>3.0</td>\n      <td>3</td>\n      <td>...</td>\n      <td>0</td>\n      <td>0</td>\n      <td>0</td>\n      <td>0</td>\n      <td>0</td>\n      <td>0</td>\n      <td>0</td>\n      <td>0</td>\n      <td>0</td>\n      <td>1</td>\n    </tr>\n    <tr>\n      <th>38</th>\n      <td>10537987</td>\n      <td>宗师卜六</td>\n      <td>2013</td>\n      <td>电影《宗师卜六》主要讲述民国时期一代跤王卜恩富的传奇故事。影视演员、著名打星吴樾在剧中饰演主...</td>\n      <td>['传记', '动作', '古装']</td>\n      <td>250</td>\n      <td>10</td>\n      <td>2</td>\n      <td>4.1</td>\n      <td>20</td>\n      <td>...</td>\n      <td>0</td>\n      <td>0</td>\n      <td>0</td>\n      <td>0</td>\n      <td>0</td>\n      <td>0</td>\n      <td>0</td>\n      <td>0</td>\n      <td>0</td>\n      <td>1</td>\n    </tr>\n    <tr>\n      <th>47</th>\n      <td>10553094</td>\n      <td>月色狰狞</td>\n      <td>2012</td>\n      <td>地矿学家李教授带学生莫天良（邢佳栋 饰）和女儿月儿探寻矿源，获绘有金矿地势的羊皮图。盗匪赵无...</td>\n      <td>['动作', '悬疑']</td>\n      <td>349</td>\n      <td>10</td>\n      <td>2</td>\n      <td>3.4</td>\n      <td>38</td>\n      <td>...</td>\n      <td>0</td>\n      <td>0</td>\n      <td>0</td>\n      <td>0</td>\n      <td>0</td>\n      <td>0</td>\n      <td>0</td>\n      <td>0</td>\n      <td>0</td>\n      <td>1</td>\n    </tr>\n    <tr>\n      <th>...</th>\n      <td>...</td>\n      <td>...</td>\n      <td>...</td>\n      <td>...</td>\n      <td>...</td>\n      <td>...</td>\n      <td>...</td>\n      <td>...</td>\n      <td>...</td>\n      <td>...</td>\n      <td>...</td>\n      <td>...</td>\n      <td>...</td>\n      <td>...</td>\n      <td>...</td>\n      <td>...</td>\n      <td>...</td>\n      <td>...</td>\n      <td>...</td>\n      <td>...</td>\n      <td>...</td>\n    </tr>\n    <tr>\n      <th>3092</th>\n      <td>6801423</td>\n      <td>女王</td>\n      <td>2011</td>\n      <td>系辽宁卫视新节目《北方影院》打造的自制电影，全片共90分钟。\\n\\n讲述的是在解放战争时期，...</td>\n      <td>['剧情']</td>\n      <td>256</td>\n      <td>10</td>\n      <td>2</td>\n      <td>7.3</td>\n      <td>27</td>\n      <td>...</td>\n      <td>0</td>\n      <td>0</td>\n      <td>0</td>\n      <td>0</td>\n      <td>0</td>\n      <td>0</td>\n      <td>0</td>\n      <td>0</td>\n      <td>0</td>\n      <td>1</td>\n    </tr>\n    <tr>\n      <th>3100</th>\n      <td>6815052</td>\n      <td>朵儿的战争</td>\n      <td>2011</td>\n      <td>朵儿出身于皇室家族，声名显赫。她的父亲云龙鹤辛亥革命后赴日留学，主修建筑，是一个隧道工程师，...</td>\n      <td>['剧情', '喜剧']</td>\n      <td>955</td>\n      <td>10</td>\n      <td>2</td>\n      <td>7.6</td>\n      <td>0</td>\n      <td>...</td>\n      <td>0</td>\n      <td>0</td>\n      <td>0</td>\n      <td>0</td>\n      <td>0</td>\n      <td>0</td>\n      <td>0</td>\n      <td>0</td>\n      <td>0</td>\n      <td>1</td>\n    </tr>\n    <tr>\n      <th>3105</th>\n      <td>6835239</td>\n      <td>密林追击</td>\n      <td>2011</td>\n      <td>辽沈战役打响之前，王顺拿着爹画给他的一张图纸上萝北县城找爹的好友“赵山东”。因为街头发生的一...</td>\n      <td>['战争']</td>\n      <td>124</td>\n      <td>10</td>\n      <td>2</td>\n      <td>4.7</td>\n      <td>45</td>\n      <td>...</td>\n      <td>0</td>\n      <td>0</td>\n      <td>0</td>\n      <td>0</td>\n      <td>0</td>\n      <td>0</td>\n      <td>0</td>\n      <td>0</td>\n      <td>0</td>\n      <td>1</td>\n    </tr>\n    <tr>\n      <th>3112</th>\n      <td>6855101</td>\n      <td>先遣连</td>\n      <td>2011</td>\n      <td>《先遣连》是以当年新疆军区独立骑兵师一团一连进军西藏阿里的先遣连为原形的电影。\\n\\n195...</td>\n      <td>['剧情', '历史']</td>\n      <td>196</td>\n      <td>10</td>\n      <td>2</td>\n      <td>6.8</td>\n      <td>71</td>\n      <td>...</td>\n      <td>0</td>\n      <td>0</td>\n      <td>0</td>\n      <td>0</td>\n      <td>0</td>\n      <td>0</td>\n      <td>0</td>\n      <td>0</td>\n      <td>0</td>\n      <td>1</td>\n    </tr>\n    <tr>\n      <th>3157</th>\n      <td>6984061</td>\n      <td>笑功震武林</td>\n      <td>2013</td>\n      <td>民国初年，东北地区形势复杂，军阀、土匪、日本特务势力交错，各占地盘，民不聊生。军阀林国栋虽无...</td>\n      <td>['喜剧', '动作']</td>\n      <td>19247</td>\n      <td>10</td>\n      <td>2</td>\n      <td>4.7</td>\n      <td>8403</td>\n      <td>...</td>\n      <td>0</td>\n      <td>0</td>\n      <td>0</td>\n      <td>0</td>\n      <td>0</td>\n      <td>0</td>\n      <td>0</td>\n      <td>0</td>\n      <td>0</td>\n      <td>1</td>\n    </tr>\n  </tbody>\n</table>\n<p>240 rows × 52 columns</p>\n</div>"
     },
     "execution_count": 146,
     "metadata": {},
     "output_type": "execute_result"
    }
   ],
   "source": [
    "movies[movies.dPropaganda == 1]"
   ],
   "metadata": {
    "collapsed": false,
    "pycharm": {
     "name": "#%%\n"
    }
   }
  },
  {
   "cell_type": "code",
   "execution_count": 147,
   "outputs": [],
   "source": [
    "movies.to_csv(\"./data/movies_prop_df.csv\")"
   ],
   "metadata": {
    "collapsed": false,
    "pycharm": {
     "name": "#%%\n"
    }
   }
  }
 ],
 "metadata": {
  "kernelspec": {
   "display_name": "Python 3",
   "language": "python",
   "name": "python3"
  },
  "language_info": {
   "codemirror_mode": {
    "name": "ipython",
    "version": 2
   },
   "file_extension": ".py",
   "mimetype": "text/x-python",
   "name": "python",
   "nbconvert_exporter": "python",
   "pygments_lexer": "ipython2",
   "version": "2.7.6"
  }
 },
 "nbformat": 4,
 "nbformat_minor": 0
}
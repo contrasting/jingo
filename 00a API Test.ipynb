{
 "cells": [
  {
   "cell_type": "markdown",
   "source": [
    "# API Test\n",
    "\n",
    "This notebook probes the endpoints exposed by `movie.douban.com` and their sample responses.\n",
    "\n",
    "The endpoints were discovered from chrome devtools."
   ],
   "metadata": {
    "collapsed": false,
    "pycharm": {
     "name": "#%% md\n"
    }
   }
  },
  {
   "cell_type": "code",
   "execution_count": 1,
   "outputs": [],
   "source": [
    "import requests\n",
    "import json\n",
    "from common import headers, get_new_proxy"
   ],
   "metadata": {
    "collapsed": false,
    "pycharm": {
     "name": "#%%\n"
    }
   }
  },
  {
   "cell_type": "code",
   "execution_count": 2,
   "outputs": [
    {
     "data": {
      "text/plain": "'{\"subjects\":[{\"episodes_info\":\"\",\"rate\":\"7.0\",\"cover_x\":992,\"title\":\"目中无人\",\"url\":\"https:\\\\/\\\\/movie.douban.com\\\\/subject\\\\/35295405\\\\/\",\"playable\":true,\"cover\":\"https://img9.doubanio.com\\\\/view\\\\/photo\\\\/s_ratio_poster\\\\/public\\\\/p2873818227.jpg\",\"id\":\"35295405\",\"cover_y\":1389,\"is_new\":true},{\"episodes_info\":\"\",\"rate\":\"6.5\",\"cover_x\":2200,\"title\":\"山村狐妻\",\"url\":\"https:\\\\/\\\\/movie.douban.com\\\\/subject\\\\/35914264\\\\/\",\"playable\":false,\"cover\":\"https://img9.doubanio.com\\\\/view\\\\/photo\\\\/s_ratio_poster\\\\/public\\\\/p2874192380.jpg\",\"id\":\"35914264\",\"cover_y\":3911,\"is_new\":true},{\"episodes_info\":\"\",\"rate\":\"5.5\",\"cover_x\":1080,\"title\":\"盲战\",\"url\":\"https:\\\\/\\\\/movie.douban.com\\\\/subject\\\\/35604619\\\\/\",\"playable\":true,\"cover\":\"https://img9.doubanio.com\\\\/view\\\\/photo\\\\/s_ratio_poster\\\\/public\\\\/p2872304316.jpg\",\"id\":\"35604619\",\"cover_y\":1921,\"is_new\":false},{\"episodes_info\":\"\",\"rate\":\"4.6\",\"cover_x\":3000,\"title\":\"我是真的讨厌异地恋\",\"url\":\"https:\\\\/\\\\/movie.douban.com\\\\/subject\\\\/35057107\\\\/\",\"playable\":true,\"cover\":\"https://img9.doubanio.com\\\\/view\\\\/photo\\\\/s_ratio_poster\\\\/public\\\\/p2870257091.jpg\",\"id\":\"35057107\",\"cover_y\":4200,\"is_new\":false},{\"episodes_info\":\"\",\"rate\":\"5.9\",\"cover_x\":2953,\"title\":\"东北告别天团\",\"url\":\"https:\\\\/\\\\/movie.douban.com\\\\/subject\\\\/35871767\\\\/\",\"playable\":true,\"cover\":\"https://img9.doubanio.com\\\\/view\\\\/photo\\\\/s_ratio_poster\\\\/public\\\\/p2872048832.jpg\",\"id\":\"35871767\",\"cover_y\":4724,\"is_new\":false},{\"episodes_info\":\"\",\"rate\":\"5.8\",\"cover_x\":1080,\"title\":\"大话西游：缘起\",\"url\":\"https:\\\\/\\\\/movie.douban.com\\\\/subject\\\\/35234581\\\\/\",\"playable\":true,\"cover\":\"https://img9.doubanio.com\\\\/view\\\\/photo\\\\/s_ratio_poster\\\\/public\\\\/p2867706736.jpg\",\"id\":\"35234581\",\"cover_y\":1920,\"is_new\":false},{\"episodes_info\":\"\",\"rate\":\"7.4\",\"cover_x\":4000,\"title\":\"奇迹·笨小孩\",\"url\":\"https:\\\\/\\\\/movie.douban.com\\\\/subject\\\\/35312437\\\\/\",\"playable\":true,\"cover\":\"https://img9.doubanio.com\\\\/view\\\\/photo\\\\/s_ratio_poster\\\\/public\\\\/p2842327103.jpg\",\"id\":\"35312437\",\"cover_y\":5600,\"is_new\":false},{\"episodes_info\":\"\",\"rate\":\"6.2\",\"cover_x\":2191,\"title\":\"这个杀手不太冷静\",\"url\":\"https:\\\\/\\\\/movie.douban.com\\\\/subject\\\\/35505100\\\\/\",\"playable\":true,\"cover\":\"https://img9.doubanio.com\\\\/view\\\\/photo\\\\/s_ratio_poster\\\\/public\\\\/p2814949620.jpg\",\"id\":\"35505100\",\"cover_y\":3500,\"is_new\":false},{\"episodes_info\":\"\",\"rate\":\"7.2\",\"cover_x\":1080,\"title\":\"长津湖之水门桥\",\"url\":\"https:\\\\/\\\\/movie.douban.com\\\\/subject\\\\/35613853\\\\/\",\"playable\":true,\"cover\":\"https://img9.doubanio.com\\\\/view\\\\/photo\\\\/s_ratio_poster\\\\/public\\\\/p2846021991.jpg\",\"id\":\"35613853\",\"cover_y\":1513,\"is_new\":false},{\"episodes_info\":\"\",\"rate\":\"7.7\",\"cover_x\":3543,\"title\":\"狙击手\",\"url\":\"https:\\\\/\\\\/movie.douban.com\\\\/subject\\\\/35215390\\\\/\",\"playable\":true,\"cover\":\"https://img9.doubanio.com\\\\/view\\\\/photo\\\\/s_ratio_poster\\\\/public\\\\/p2738601191.jpg\",\"id\":\"35215390\",\"cover_y\":4961,\"is_new\":false},{\"episodes_info\":\"\",\"rate\":\"5.4\",\"cover_x\":1024,\"title\":\"四海\",\"url\":\"https:\\\\/\\\\/movie.douban.com\\\\/subject\\\\/35337517\\\\/\",\"playable\":true,\"cover\":\"https://img9.doubanio.com\\\\/view\\\\/photo\\\\/s_ratio_poster\\\\/public\\\\/p2867433563.jpg\",\"id\":\"35337517\",\"cover_y\":1509,\"is_new\":false},{\"episodes_info\":\"\",\"rate\":\"6.8\",\"cover_x\":2160,\"title\":\"喜羊羊与灰太狼之筐出未来\",\"url\":\"https:\\\\/\\\\/movie.douban.com\\\\/subject\\\\/35608160\\\\/\",\"playable\":true,\"cover\":\"https://img9.doubanio.com\\\\/view\\\\/photo\\\\/s_ratio_poster\\\\/public\\\\/p2797468943.jpg\",\"id\":\"35608160\",\"cover_y\":3024,\"is_new\":false},{\"episodes_info\":\"\",\"rate\":\"6.5\",\"cover_x\":2953,\"title\":\"熊出没·重返地球\",\"url\":\"https:\\\\/\\\\/movie.douban.com\\\\/subject\\\\/35377026\\\\/\",\"playable\":true,\"cover\":\"https://img9.doubanio.com\\\\/view\\\\/photo\\\\/s_ratio_poster\\\\/public\\\\/p2856825681.jpg\",\"id\":\"35377026\",\"cover_y\":4134,\"is_new\":false},{\"episodes_info\":\"\",\"rate\":\"7.6\",\"cover_x\":1080,\"title\":\"枕刀歌之尘世行\",\"url\":\"https:\\\\/\\\\/movie.douban.com\\\\/subject\\\\/35437945\\\\/\",\"playable\":true,\"cover\":\"https://img9.doubanio.com\\\\/view\\\\/photo\\\\/s_ratio_poster\\\\/public\\\\/p2641407927.jpg\",\"id\":\"35437945\",\"cover_y\":1920,\"is_new\":false},{\"episodes_info\":\"\",\"rate\":\"5.7\",\"cover_x\":1040,\"title\":\"小虎墩大英雄\",\"url\":\"https:\\\\/\\\\/movie.douban.com\\\\/subject\\\\/34948441\\\\/\",\"playable\":true,\"cover\":\"https://img9.doubanio.com\\\\/view\\\\/photo\\\\/s_ratio_poster\\\\/public\\\\/p2866356724.jpg\",\"id\":\"34948441\",\"cover_y\":1476,\"is_new\":false},{\"episodes_info\":\"\",\"rate\":\"6.2\",\"cover_x\":1446,\"title\":\"我吃了那男孩一整年的早餐\",\"url\":\"https:\\\\/\\\\/movie.douban.com\\\\/subject\\\\/35448983\\\\/\",\"playable\":false,\"cover\":\"https://img9.doubanio.com\\\\/view\\\\/photo\\\\/s_ratio_poster\\\\/public\\\\/p2831900350.jpg\",\"id\":\"35448983\",\"cover_y\":2048,\"is_new\":false},{\"episodes_info\":\"\",\"rate\":\"6.4\",\"cover_x\":1080,\"title\":\"来处是归途\",\"url\":\"https:\\\\/\\\\/movie.douban.com\\\\/subject\\\\/34839285\\\\/\",\"playable\":true,\"cover\":\"https://img9.doubanio.com\\\\/view\\\\/photo\\\\/s_ratio_poster\\\\/public\\\\/p2829004974.jpg\",\"id\":\"34839285\",\"cover_y\":1591,\"is_new\":false},{\"episodes_info\":\"\",\"rate\":\"6.0\",\"cover_x\":770,\"title\":\"千里不留行\",\"url\":\"https:\\\\/\\\\/movie.douban.com\\\\/subject\\\\/34988584\\\\/\",\"playable\":true,\"cover\":\"https://img9.doubanio.com\\\\/view\\\\/photo\\\\/s_ratio_poster\\\\/public\\\\/p2819529042.jpg\",\"id\":\"34988584\",\"cover_y\":1080,\"is_new\":false},{\"episodes_info\":\"\",\"rate\":\"7.5\",\"cover_x\":2286,\"title\":\"带你去见我妈\",\"url\":\"https:\\\\/\\\\/movie.douban.com\\\\/subject\\\\/35683855\\\\/\",\"playable\":true,\"cover\":\"https://img9.doubanio.com\\\\/view\\\\/photo\\\\/s_ratio_poster\\\\/public\\\\/p2831589600.jpg\",\"id\":\"35683855\",\"cover_y\":3200,\"is_new\":false},{\"episodes_info\":\"\",\"rate\":\"6.0\",\"cover_x\":2756,\"title\":\"穿过寒冬拥抱你\",\"url\":\"https:\\\\/\\\\/movie.douban.com\\\\/subject\\\\/35307456\\\\/\",\"playable\":true,\"cover\":\"https://img9.doubanio.com\\\\/view\\\\/photo\\\\/s_ratio_poster\\\\/public\\\\/p2801718909.jpg\",\"id\":\"35307456\",\"cover_y\":3931,\"is_new\":false}]}'"
     },
     "execution_count": 2,
     "metadata": {},
     "output_type": "execute_result"
    }
   ],
   "source": [
    "# this API is limited to max last 500 results\n",
    "r = requests.get(\"https://movie.douban.com/j/search_subjects?type=movie&tag=%E5%8D%8E%E8%AF%AD&sort=time&page_limit=20&page_start=0\", headers=headers)\n",
    "r.text"
   ],
   "metadata": {
    "collapsed": false,
    "pycharm": {
     "name": "#%%\n"
    }
   }
  },
  {
   "cell_type": "code",
   "execution_count": 3,
   "outputs": [
    {
     "data": {
      "text/plain": "[{'episodes_info': '',\n  'rate': '7.0',\n  'cover_x': 992,\n  'title': '目中无人',\n  'url': 'https://movie.douban.com/subject/35295405/',\n  'playable': True,\n  'cover': 'https://img9.doubanio.com/view/photo/s_ratio_poster/public/p2873818227.jpg',\n  'id': '35295405',\n  'cover_y': 1389,\n  'is_new': True},\n {'episodes_info': '',\n  'rate': '6.5',\n  'cover_x': 2200,\n  'title': '山村狐妻',\n  'url': 'https://movie.douban.com/subject/35914264/',\n  'playable': False,\n  'cover': 'https://img9.doubanio.com/view/photo/s_ratio_poster/public/p2874192380.jpg',\n  'id': '35914264',\n  'cover_y': 3911,\n  'is_new': True},\n {'episodes_info': '',\n  'rate': '5.5',\n  'cover_x': 1080,\n  'title': '盲战',\n  'url': 'https://movie.douban.com/subject/35604619/',\n  'playable': True,\n  'cover': 'https://img9.doubanio.com/view/photo/s_ratio_poster/public/p2872304316.jpg',\n  'id': '35604619',\n  'cover_y': 1921,\n  'is_new': False},\n {'episodes_info': '',\n  'rate': '4.6',\n  'cover_x': 3000,\n  'title': '我是真的讨厌异地恋',\n  'url': 'https://movie.douban.com/subject/35057107/',\n  'playable': True,\n  'cover': 'https://img9.doubanio.com/view/photo/s_ratio_poster/public/p2870257091.jpg',\n  'id': '35057107',\n  'cover_y': 4200,\n  'is_new': False},\n {'episodes_info': '',\n  'rate': '5.9',\n  'cover_x': 2953,\n  'title': '东北告别天团',\n  'url': 'https://movie.douban.com/subject/35871767/',\n  'playable': True,\n  'cover': 'https://img9.doubanio.com/view/photo/s_ratio_poster/public/p2872048832.jpg',\n  'id': '35871767',\n  'cover_y': 4724,\n  'is_new': False},\n {'episodes_info': '',\n  'rate': '5.8',\n  'cover_x': 1080,\n  'title': '大话西游：缘起',\n  'url': 'https://movie.douban.com/subject/35234581/',\n  'playable': True,\n  'cover': 'https://img9.doubanio.com/view/photo/s_ratio_poster/public/p2867706736.jpg',\n  'id': '35234581',\n  'cover_y': 1920,\n  'is_new': False},\n {'episodes_info': '',\n  'rate': '7.4',\n  'cover_x': 4000,\n  'title': '奇迹·笨小孩',\n  'url': 'https://movie.douban.com/subject/35312437/',\n  'playable': True,\n  'cover': 'https://img9.doubanio.com/view/photo/s_ratio_poster/public/p2842327103.jpg',\n  'id': '35312437',\n  'cover_y': 5600,\n  'is_new': False},\n {'episodes_info': '',\n  'rate': '6.2',\n  'cover_x': 2191,\n  'title': '这个杀手不太冷静',\n  'url': 'https://movie.douban.com/subject/35505100/',\n  'playable': True,\n  'cover': 'https://img9.doubanio.com/view/photo/s_ratio_poster/public/p2814949620.jpg',\n  'id': '35505100',\n  'cover_y': 3500,\n  'is_new': False},\n {'episodes_info': '',\n  'rate': '7.2',\n  'cover_x': 1080,\n  'title': '长津湖之水门桥',\n  'url': 'https://movie.douban.com/subject/35613853/',\n  'playable': True,\n  'cover': 'https://img9.doubanio.com/view/photo/s_ratio_poster/public/p2846021991.jpg',\n  'id': '35613853',\n  'cover_y': 1513,\n  'is_new': False},\n {'episodes_info': '',\n  'rate': '7.7',\n  'cover_x': 3543,\n  'title': '狙击手',\n  'url': 'https://movie.douban.com/subject/35215390/',\n  'playable': True,\n  'cover': 'https://img9.doubanio.com/view/photo/s_ratio_poster/public/p2738601191.jpg',\n  'id': '35215390',\n  'cover_y': 4961,\n  'is_new': False},\n {'episodes_info': '',\n  'rate': '5.4',\n  'cover_x': 1024,\n  'title': '四海',\n  'url': 'https://movie.douban.com/subject/35337517/',\n  'playable': True,\n  'cover': 'https://img9.doubanio.com/view/photo/s_ratio_poster/public/p2867433563.jpg',\n  'id': '35337517',\n  'cover_y': 1509,\n  'is_new': False},\n {'episodes_info': '',\n  'rate': '6.8',\n  'cover_x': 2160,\n  'title': '喜羊羊与灰太狼之筐出未来',\n  'url': 'https://movie.douban.com/subject/35608160/',\n  'playable': True,\n  'cover': 'https://img9.doubanio.com/view/photo/s_ratio_poster/public/p2797468943.jpg',\n  'id': '35608160',\n  'cover_y': 3024,\n  'is_new': False},\n {'episodes_info': '',\n  'rate': '6.5',\n  'cover_x': 2953,\n  'title': '熊出没·重返地球',\n  'url': 'https://movie.douban.com/subject/35377026/',\n  'playable': True,\n  'cover': 'https://img9.doubanio.com/view/photo/s_ratio_poster/public/p2856825681.jpg',\n  'id': '35377026',\n  'cover_y': 4134,\n  'is_new': False},\n {'episodes_info': '',\n  'rate': '7.6',\n  'cover_x': 1080,\n  'title': '枕刀歌之尘世行',\n  'url': 'https://movie.douban.com/subject/35437945/',\n  'playable': True,\n  'cover': 'https://img9.doubanio.com/view/photo/s_ratio_poster/public/p2641407927.jpg',\n  'id': '35437945',\n  'cover_y': 1920,\n  'is_new': False},\n {'episodes_info': '',\n  'rate': '5.7',\n  'cover_x': 1040,\n  'title': '小虎墩大英雄',\n  'url': 'https://movie.douban.com/subject/34948441/',\n  'playable': True,\n  'cover': 'https://img9.doubanio.com/view/photo/s_ratio_poster/public/p2866356724.jpg',\n  'id': '34948441',\n  'cover_y': 1476,\n  'is_new': False},\n {'episodes_info': '',\n  'rate': '6.2',\n  'cover_x': 1446,\n  'title': '我吃了那男孩一整年的早餐',\n  'url': 'https://movie.douban.com/subject/35448983/',\n  'playable': False,\n  'cover': 'https://img9.doubanio.com/view/photo/s_ratio_poster/public/p2831900350.jpg',\n  'id': '35448983',\n  'cover_y': 2048,\n  'is_new': False},\n {'episodes_info': '',\n  'rate': '6.4',\n  'cover_x': 1080,\n  'title': '来处是归途',\n  'url': 'https://movie.douban.com/subject/34839285/',\n  'playable': True,\n  'cover': 'https://img9.doubanio.com/view/photo/s_ratio_poster/public/p2829004974.jpg',\n  'id': '34839285',\n  'cover_y': 1591,\n  'is_new': False},\n {'episodes_info': '',\n  'rate': '6.0',\n  'cover_x': 770,\n  'title': '千里不留行',\n  'url': 'https://movie.douban.com/subject/34988584/',\n  'playable': True,\n  'cover': 'https://img9.doubanio.com/view/photo/s_ratio_poster/public/p2819529042.jpg',\n  'id': '34988584',\n  'cover_y': 1080,\n  'is_new': False},\n {'episodes_info': '',\n  'rate': '7.5',\n  'cover_x': 2286,\n  'title': '带你去见我妈',\n  'url': 'https://movie.douban.com/subject/35683855/',\n  'playable': True,\n  'cover': 'https://img9.doubanio.com/view/photo/s_ratio_poster/public/p2831589600.jpg',\n  'id': '35683855',\n  'cover_y': 3200,\n  'is_new': False},\n {'episodes_info': '',\n  'rate': '6.0',\n  'cover_x': 2756,\n  'title': '穿过寒冬拥抱你',\n  'url': 'https://movie.douban.com/subject/35307456/',\n  'playable': True,\n  'cover': 'https://img9.doubanio.com/view/photo/s_ratio_poster/public/p2801718909.jpg',\n  'id': '35307456',\n  'cover_y': 3931,\n  'is_new': False}]"
     },
     "execution_count": 3,
     "metadata": {},
     "output_type": "execute_result"
    }
   ],
   "source": [
    "movies = json.loads(r.text)[\"subjects\"]\n",
    "movies"
   ],
   "metadata": {
    "collapsed": false,
    "pycharm": {
     "name": "#%%\n"
    }
   }
  },
  {
   "cell_type": "code",
   "execution_count": 21,
   "outputs": [
    {
     "name": "stdout",
     "output_type": "stream",
     "text": [
      "{'http': 'http://59.62.33.204:8118'}\n"
     ]
    },
    {
     "data": {
      "text/plain": "'{\"data\":[{\"directors\":[\"郑保瑞\"],\"rate\":\"\",\"cover_x\":1428,\"star\":\"0\",\"title\":\"澎湖海战\",\"url\":\"https:\\\\/\\\\/movie.douban.com\\\\/subject\\\\/35558234\\\\/\",\"casts\":[\"吴京\"],\"cover\":\"https://img9.doubanio.com\\\\/view\\\\/photo\\\\/s_ratio_poster\\\\/public\\\\/p2692973555.jpg\",\"id\":\"35558234\",\"cover_y\":2000},{\"directors\":[\"汪迪\"],\"rate\":\"\",\"cover_x\":1299,\"star\":\"0\",\"title\":\"不游海水的鲸\",\"url\":\"https:\\\\/\\\\/movie.douban.com\\\\/subject\\\\/35609495\\\\/\",\"casts\":[\"朱丛冉\",\"野兆月\",\"韩三明\",\"姬云潇\",\"李丽鲜\"],\"cover\":\"https://img9.doubanio.com\\\\/view\\\\/photo\\\\/s_ratio_poster\\\\/public\\\\/p2753248131.jpg\",\"id\":\"35609495\",\"cover_y\":1949},{\"directors\":[\"韩涛\"],\"rate\":\"\",\"cover_x\":1080,\"star\":\"0\",\"title\":\"岁月如织\",\"url\":\"https:\\\\/\\\\/movie.douban.com\\\\/subject\\\\/35093566\\\\/\",\"casts\":[],\"cover\":\"https://img9.doubanio.com\\\\/view\\\\/photo\\\\/s_ratio_poster\\\\/public\\\\/p2608002554.jpg\",\"id\":\"35093566\",\"cover_y\":1500},{\"directors\":[\"徐昂\"],\"rate\":\"\",\"cover_x\":4429,\"star\":\"0\",\"title\":\"忠犬八公\",\"url\":\"https:\\\\/\\\\/movie.douban.com\\\\/subject\\\\/26999802\\\\/\",\"casts\":[\"冯小刚\",\"陈冲\"],\"cover\":\"https://img9.doubanio.com\\\\/view\\\\/photo\\\\/s_ratio_poster\\\\/public\\\\/p2842437884.jpg\",\"id\":\"26999802\",\"cover_y\":6496},{\"directors\":[\"邱礼涛\"],\"rate\":\"\",\"cover_x\":900,\"star\":\"0\",\"title\":\"扫毒3天大地大\",\"url\":\"https:\\\\/\\\\/movie.douban.com\\\\/subject\\\\/35013359\\\\/\",\"casts\":[\"刘青云\",\"古天乐\",\"郭富城\",\"杨采钰\",\"罗嘉良\"],\"cover\":\"https://img9.doubanio.com\\\\/view\\\\/photo\\\\/s_ratio_poster\\\\/public\\\\/p2759206615.jpg\",\"id\":\"35013359\",\"cover_y\":1277},{\"directors\":[\"李太阁\"],\"rate\":\"\",\"cover_x\":4000,\"star\":\"0\",\"title\":\"最后的真相\",\"url\":\"https:\\\\/\\\\/movie.douban.com\\\\/subject\\\\/35355164\\\\/\",\"casts\":[\"黄晓明\",\"闫妮\",\"涂们\",\"阚清子\",\"张嘉鑫\"],\"cover\":\"https://img9.doubanio.com\\\\/view\\\\/photo\\\\/s_ratio_poster\\\\/public\\\\/p2734230374.jpg\",\"id\":\"35355164\",\"cover_y\":6000},{\"directors\":[\"刘雨霖\"],\"rate\":\"\",\"cover_x\":1280,\"star\":\"0\",\"title\":\"普通男女\",\"url\":\"https:\\\\/\\\\/movie.douban.com\\\\/subject\\\\/35234108\\\\/\",\"casts\":[\"黄璐\",\"郭涛\",\"张国立\",\"段博文\",\"陆思宇\"],\"cover\":\"https://img9.doubanio.com\\\\/view\\\\/photo\\\\/s_ratio_poster\\\\/public\\\\/p2873466666.jpg\",\"id\":\"35234108\",\"cover_y\":1792},{\"directors\":[\"李玉\"],\"rate\":\"\",\"cover_x\":5906,\"star\":\"0\",\"title\":\"断·桥\",\"url\":\"https:\\\\/\\\\/movie.douban.com\\\\/subject\\\\/35235365\\\\/\",\"casts\":[\"马思纯\",\"王俊凯\",\"范伟\",\"曾美慧孜\",\"李晓川\"],\"cover\":\"https://img9.doubanio.com\\\\/view\\\\/photo\\\\/s_ratio_poster\\\\/public\\\\/p2873139060.jpg\",\"id\":\"35235365\",\"cover_y\":8268},{\"directors\":[\"李达超\"],\"rate\":\"\",\"cover_x\":3543,\"star\":\"0\",\"title\":\"维和防暴队\",\"url\":\"https:\\\\/\\\\/movie.douban.com\\\\/subject\\\\/35371629\\\\/\",\"casts\":[\"黄景瑜\",\"王一博\",\"钟楚曦\",\"谷嘉诚\",\"赵华为\"],\"cover\":\"https://img9.doubanio.com\\\\/view\\\\/photo\\\\/s_ratio_poster\\\\/public\\\\/p2676927684.jpg\",\"id\":\"35371629\",\"cover_y\":4961},{\"directors\":[\"非行\"],\"rate\":\"\",\"cover_x\":960,\"star\":\"0\",\"title\":\"龙岭迷窟\",\"url\":\"https:\\\\/\\\\/movie.douban.com\\\\/subject\\\\/26705592\\\\/\",\"casts\":[\"陈雨锶\",\"顾璇\",\"马浴柯\",\"蔡珩\",\"于恒\"],\"cover\":\"https://img9.doubanio.com\\\\/view\\\\/photo\\\\/s_ratio_poster\\\\/public\\\\/p2493606330.jpg\",\"id\":\"26705592\",\"cover_y\":1280},{\"directors\":[\"泷田洋二郎\"],\"rate\":\"\",\"cover_x\":5906,\"star\":\"0\",\"title\":\"我爸没说的那件事\",\"url\":\"https:\\\\/\\\\/movie.douban.com\\\\/subject\\\\/26661179\\\\/\",\"casts\":[\"韩庚\",\"张国立\",\"薛昊婧\",\"泷田洋二郎\",\"吴晓亮\"],\"cover\":\"https://img9.doubanio.com\\\\/view\\\\/photo\\\\/s_ratio_poster\\\\/public\\\\/p2871758327.jpg\",\"id\":\"26661179\",\"cover_y\":8268},{\"directors\":[\"曹保平\"],\"rate\":\"\",\"cover_x\":1500,\"star\":\"0\",\"title\":\"涉过愤怒的海\",\"url\":\"https:\\\\/\\\\/movie.douban.com\\\\/subject\\\\/33456512\\\\/\",\"casts\":[\"黄渤\",\"周迅\",\"祖峰\",\"张宥浩\",\"周依然\"],\"cover\":\"https://img9.doubanio.com\\\\/view\\\\/photo\\\\/s_ratio_poster\\\\/public\\\\/p2629365857.jpg\",\"id\":\"33456512\",\"cover_y\":2258},{\"directors\":[\"西蒙·韦斯特\",\"李依璠\"],\"rate\":\"\",\"cover_x\":1605,\"star\":\"0\",\"title\":\"天星术\",\"url\":\"https:\\\\/\\\\/movie.douban.com\\\\/subject\\\\/30330057\\\\/\",\"casts\":[\"张涵予\",\"姜武\",\"卢靖姗\",\"迈克尔·寇特斯\",\"罗恩·斯穆安伯格\"],\"cover\":\"https://img9.doubanio.com\\\\/view\\\\/photo\\\\/s_ratio_poster\\\\/public\\\\/p2868013606.jpg\",\"id\":\"30330057\",\"cover_y\":2300},{\"directors\":[\"陈双印\"],\"rate\":\"\",\"cover_x\":500,\"star\":\"0\",\"title\":\"一墙之隔\",\"url\":\"https:\\\\/\\\\/movie.douban.com\\\\/subject\\\\/4272554\\\\/\",\"casts\":[\"朱茵\",\"唐嫣\",\"孟广美\",\"杨青\",\"斯琴高娃\"],\"cover\":\"https://img9.doubanio.com\\\\/view\\\\/photo\\\\/s_ratio_poster\\\\/public\\\\/p2553582956.jpg\",\"id\":\"4272554\",\"cover_y\":773},{\"directors\":[\"邬浪\"],\"rate\":\"\",\"cover_x\":2000,\"star\":\"0\",\"title\":\"雪云\",\"url\":\"https:\\\\/\\\\/movie.douban.com\\\\/subject\\\\/34447500\\\\/\",\"casts\":[\"李梦\",\"李康生\",\"仁科\"],\"cover\":\"https://img9.doubanio.com\\\\/view\\\\/photo\\\\/s_ratio_poster\\\\/public\\\\/p2870301045.jpg\",\"id\":\"34447500\",\"cover_y\":3000},{\"directors\":[\"徐伟\",\"何文超\"],\"rate\":\"\",\"cover_x\":1092,\"star\":\"0\",\"title\":\"被害人\",\"url\":\"https:\\\\/\\\\/movie.douban.com\\\\/subject\\\\/30359440\\\\/\",\"casts\":[\"冯绍峰\",\"陶虹\",\"黄觉\",\"苏鑫\",\"张海宇\"],\"cover\":\"https://img9.doubanio.com\\\\/view\\\\/photo\\\\/s_ratio_poster\\\\/public\\\\/p2872051312.jpg\",\"id\":\"30359440\",\"cover_y\":1550},{\"directors\":[\"娄烨\"],\"rate\":\"\",\"cover_x\":914,\"star\":\"0\",\"title\":\"三个字\",\"url\":\"https:\\\\/\\\\/movie.douban.com\\\\/subject\\\\/35456337\\\\/\",\"casts\":[\"易烊千玺\",\"春夏\",\"李现\",\"章宇\",\"王传君\"],\"cover\":\"https://img9.doubanio.com\\\\/view\\\\/photo\\\\/s_ratio_poster\\\\/public\\\\/p2743922539.jpg\",\"id\":\"35456337\",\"cover_y\":1404},{\"directors\":[\"哈智超\"],\"rate\":\"\",\"cover_x\":1418,\"star\":\"0\",\"title\":\"八岁的爸爸\",\"url\":\"https:\\\\/\\\\/movie.douban.com\\\\/subject\\\\/33445277\\\\/\",\"casts\":[\"金世佳\",\"邱泽\",\"张钧甯\",\"姜珮瑶\",\"史启\"],\"cover\":\"https://img9.doubanio.com\\\\/view\\\\/photo\\\\/s_ratio_poster\\\\/public\\\\/p2556695236.jpg\",\"id\":\"33445277\",\"cover_y\":1998},{\"directors\":[\"陈延企\"],\"rate\":\"\",\"cover_x\":400,\"star\":\"0\",\"title\":\"一日游\",\"url\":\"https:\\\\/\\\\/movie.douban.com\\\\/subject\\\\/30286134\\\\/\",\"casts\":[\"罗康\",\"崔楠\",\"龙泽治\"],\"cover\":\"https://img9.doubanio.com\\\\/view\\\\/photo\\\\/s_ratio_poster\\\\/public\\\\/p2529385506.jpg\",\"id\":\"30286134\",\"cover_y\":580},{\"directors\":[\"林德禄 \"],\"rate\":\"\",\"cover_x\":1600,\"star\":\"0\",\"title\":\"扫黑行动之临界点\",\"url\":\"https:\\\\/\\\\/movie.douban.com\\\\/subject\\\\/35197639\\\\/\",\"casts\":[\"秦海璐\",\"周一围\",\"曾志伟\",\"张智霖\",\"邵兵\"],\"cover\":\"https://img9.doubanio.com\\\\/view\\\\/photo\\\\/s_ratio_poster\\\\/public\\\\/p2622163118.jpg\",\"id\":\"35197639\",\"cover_y\":2200}]}'"
     },
     "execution_count": 21,
     "metadata": {},
     "output_type": "execute_result"
    }
   ],
   "source": [
    "p = get_new_proxy()\n",
    "print(p)\n",
    "r = requests.get(\"https://movie.douban.com/j/new_search_subjects?sort=R&range=0,10&tags=%E7%94%B5%E5%BD%B1&start=0&genres=%E5%89%A7%E6%83%85&countries=%E4%B8%AD%E5%9B%BD%E5%A4%A7%E9%99%86&year_range=2022,2022\", headers=headers)\n",
    "r.text"
   ],
   "metadata": {
    "collapsed": false,
    "pycharm": {
     "name": "#%%\n"
    }
   }
  },
  {
   "cell_type": "code",
   "execution_count": 7,
   "outputs": [
    {
     "data": {
      "text/plain": "[{'directors': ['郑保瑞'],\n  'rate': '',\n  'cover_x': 1428,\n  'star': '0',\n  'title': '澎湖海战',\n  'url': 'https://movie.douban.com/subject/35558234/',\n  'casts': ['吴京'],\n  'cover': 'https://img9.doubanio.com/view/photo/s_ratio_poster/public/p2692973555.jpg',\n  'id': '35558234',\n  'cover_y': 2000},\n {'directors': ['汪迪'],\n  'rate': '',\n  'cover_x': 1299,\n  'star': '0',\n  'title': '不游海水的鲸',\n  'url': 'https://movie.douban.com/subject/35609495/',\n  'casts': ['朱丛冉', '野兆月', '韩三明', '姬云潇', '李丽鲜'],\n  'cover': 'https://img9.doubanio.com/view/photo/s_ratio_poster/public/p2753248131.jpg',\n  'id': '35609495',\n  'cover_y': 1949},\n {'directors': ['韩涛'],\n  'rate': '',\n  'cover_x': 1080,\n  'star': '0',\n  'title': '岁月如织',\n  'url': 'https://movie.douban.com/subject/35093566/',\n  'casts': [],\n  'cover': 'https://img9.doubanio.com/view/photo/s_ratio_poster/public/p2608002554.jpg',\n  'id': '35093566',\n  'cover_y': 1500},\n {'directors': ['徐昂'],\n  'rate': '',\n  'cover_x': 4429,\n  'star': '0',\n  'title': '忠犬八公',\n  'url': 'https://movie.douban.com/subject/26999802/',\n  'casts': ['冯小刚', '陈冲'],\n  'cover': 'https://img9.doubanio.com/view/photo/s_ratio_poster/public/p2842437884.jpg',\n  'id': '26999802',\n  'cover_y': 6496},\n {'directors': ['邱礼涛'],\n  'rate': '',\n  'cover_x': 900,\n  'star': '0',\n  'title': '扫毒3天大地大',\n  'url': 'https://movie.douban.com/subject/35013359/',\n  'casts': ['刘青云', '古天乐', '郭富城', '杨采钰', '罗嘉良'],\n  'cover': 'https://img9.doubanio.com/view/photo/s_ratio_poster/public/p2759206615.jpg',\n  'id': '35013359',\n  'cover_y': 1277},\n {'directors': ['李太阁'],\n  'rate': '',\n  'cover_x': 4000,\n  'star': '0',\n  'title': '最后的真相',\n  'url': 'https://movie.douban.com/subject/35355164/',\n  'casts': ['黄晓明', '闫妮', '涂们', '阚清子', '张嘉鑫'],\n  'cover': 'https://img9.doubanio.com/view/photo/s_ratio_poster/public/p2734230374.jpg',\n  'id': '35355164',\n  'cover_y': 6000},\n {'directors': ['刘雨霖'],\n  'rate': '',\n  'cover_x': 1280,\n  'star': '0',\n  'title': '普通男女',\n  'url': 'https://movie.douban.com/subject/35234108/',\n  'casts': ['黄璐', '郭涛', '张国立', '段博文', '陆思宇'],\n  'cover': 'https://img9.doubanio.com/view/photo/s_ratio_poster/public/p2873466666.jpg',\n  'id': '35234108',\n  'cover_y': 1792},\n {'directors': ['李玉'],\n  'rate': '',\n  'cover_x': 5906,\n  'star': '0',\n  'title': '断·桥',\n  'url': 'https://movie.douban.com/subject/35235365/',\n  'casts': ['马思纯', '王俊凯', '范伟', '曾美慧孜', '李晓川'],\n  'cover': 'https://img9.doubanio.com/view/photo/s_ratio_poster/public/p2873139060.jpg',\n  'id': '35235365',\n  'cover_y': 8268},\n {'directors': ['李达超'],\n  'rate': '',\n  'cover_x': 3543,\n  'star': '0',\n  'title': '维和防暴队',\n  'url': 'https://movie.douban.com/subject/35371629/',\n  'casts': ['黄景瑜', '王一博', '钟楚曦', '谷嘉诚', '赵华为'],\n  'cover': 'https://img9.doubanio.com/view/photo/s_ratio_poster/public/p2676927684.jpg',\n  'id': '35371629',\n  'cover_y': 4961},\n {'directors': ['非行'],\n  'rate': '',\n  'cover_x': 960,\n  'star': '0',\n  'title': '龙岭迷窟',\n  'url': 'https://movie.douban.com/subject/26705592/',\n  'casts': ['陈雨锶', '顾璇', '马浴柯', '蔡珩', '于恒'],\n  'cover': 'https://img9.doubanio.com/view/photo/s_ratio_poster/public/p2493606330.jpg',\n  'id': '26705592',\n  'cover_y': 1280},\n {'directors': ['泷田洋二郎'],\n  'rate': '',\n  'cover_x': 5906,\n  'star': '0',\n  'title': '我爸没说的那件事',\n  'url': 'https://movie.douban.com/subject/26661179/',\n  'casts': ['韩庚', '张国立', '薛昊婧', '泷田洋二郎', '吴晓亮'],\n  'cover': 'https://img9.doubanio.com/view/photo/s_ratio_poster/public/p2871758327.jpg',\n  'id': '26661179',\n  'cover_y': 8268},\n {'directors': ['曹保平'],\n  'rate': '',\n  'cover_x': 1500,\n  'star': '0',\n  'title': '涉过愤怒的海',\n  'url': 'https://movie.douban.com/subject/33456512/',\n  'casts': ['黄渤', '周迅', '祖峰', '张宥浩', '周依然'],\n  'cover': 'https://img9.doubanio.com/view/photo/s_ratio_poster/public/p2629365857.jpg',\n  'id': '33456512',\n  'cover_y': 2258},\n {'directors': ['西蒙·韦斯特', '李依璠'],\n  'rate': '',\n  'cover_x': 1605,\n  'star': '0',\n  'title': '天星术',\n  'url': 'https://movie.douban.com/subject/30330057/',\n  'casts': ['张涵予', '姜武', '卢靖姗', '迈克尔·寇特斯', '罗恩·斯穆安伯格'],\n  'cover': 'https://img9.doubanio.com/view/photo/s_ratio_poster/public/p2868013606.jpg',\n  'id': '30330057',\n  'cover_y': 2300},\n {'directors': ['陈双印'],\n  'rate': '',\n  'cover_x': 500,\n  'star': '0',\n  'title': '一墙之隔',\n  'url': 'https://movie.douban.com/subject/4272554/',\n  'casts': ['朱茵', '唐嫣', '孟广美', '杨青', '斯琴高娃'],\n  'cover': 'https://img9.doubanio.com/view/photo/s_ratio_poster/public/p2553582956.jpg',\n  'id': '4272554',\n  'cover_y': 773},\n {'directors': ['邬浪'],\n  'rate': '',\n  'cover_x': 2000,\n  'star': '0',\n  'title': '雪云',\n  'url': 'https://movie.douban.com/subject/34447500/',\n  'casts': ['李梦', '李康生', '仁科'],\n  'cover': 'https://img9.doubanio.com/view/photo/s_ratio_poster/public/p2870301045.jpg',\n  'id': '34447500',\n  'cover_y': 3000},\n {'directors': ['徐伟', '何文超'],\n  'rate': '',\n  'cover_x': 1092,\n  'star': '0',\n  'title': '被害人',\n  'url': 'https://movie.douban.com/subject/30359440/',\n  'casts': ['冯绍峰', '陶虹', '黄觉', '苏鑫', '张海宇'],\n  'cover': 'https://img9.doubanio.com/view/photo/s_ratio_poster/public/p2872051312.jpg',\n  'id': '30359440',\n  'cover_y': 1550},\n {'directors': ['娄烨'],\n  'rate': '',\n  'cover_x': 914,\n  'star': '0',\n  'title': '三个字',\n  'url': 'https://movie.douban.com/subject/35456337/',\n  'casts': ['易烊千玺', '春夏', '李现', '章宇', '王传君'],\n  'cover': 'https://img9.doubanio.com/view/photo/s_ratio_poster/public/p2743922539.jpg',\n  'id': '35456337',\n  'cover_y': 1404},\n {'directors': ['哈智超'],\n  'rate': '',\n  'cover_x': 1418,\n  'star': '0',\n  'title': '八岁的爸爸',\n  'url': 'https://movie.douban.com/subject/33445277/',\n  'casts': ['金世佳', '邱泽', '张钧甯', '姜珮瑶', '史启'],\n  'cover': 'https://img9.doubanio.com/view/photo/s_ratio_poster/public/p2556695236.jpg',\n  'id': '33445277',\n  'cover_y': 1998},\n {'directors': ['陈延企'],\n  'rate': '',\n  'cover_x': 400,\n  'star': '0',\n  'title': '一日游',\n  'url': 'https://movie.douban.com/subject/30286134/',\n  'casts': ['罗康', '崔楠', '龙泽治'],\n  'cover': 'https://img9.doubanio.com/view/photo/s_ratio_poster/public/p2529385506.jpg',\n  'id': '30286134',\n  'cover_y': 580},\n {'directors': ['林德禄 '],\n  'rate': '',\n  'cover_x': 1600,\n  'star': '0',\n  'title': '扫黑行动之临界点',\n  'url': 'https://movie.douban.com/subject/35197639/',\n  'casts': ['秦海璐', '周一围', '曾志伟', '张智霖', '邵兵'],\n  'cover': 'https://img9.doubanio.com/view/photo/s_ratio_poster/public/p2622163118.jpg',\n  'id': '35197639',\n  'cover_y': 2200}]"
     },
     "execution_count": 7,
     "metadata": {},
     "output_type": "execute_result"
    }
   ],
   "source": [
    "movies = json.loads(r.text)[\"data\"]\n",
    "movies"
   ],
   "metadata": {
    "collapsed": false,
    "pycharm": {
     "name": "#%%\n"
    }
   }
  },
  {
   "cell_type": "code",
   "execution_count": 8,
   "outputs": [
    {
     "data": {
      "text/plain": "20"
     },
     "execution_count": 8,
     "metadata": {},
     "output_type": "execute_result"
    }
   ],
   "source": [
    "len(movies)"
   ],
   "metadata": {
    "collapsed": false,
    "pycharm": {
     "name": "#%%\n"
    }
   }
  }
 ],
 "metadata": {
  "kernelspec": {
   "display_name": "Python 3",
   "language": "python",
   "name": "python3"
  },
  "language_info": {
   "codemirror_mode": {
    "name": "ipython",
    "version": 2
   },
   "file_extension": ".py",
   "mimetype": "text/x-python",
   "name": "python",
   "nbconvert_exporter": "python",
   "pygments_lexer": "ipython2",
   "version": "2.7.6"
  }
 },
 "nbformat": 4,
 "nbformat_minor": 0
}
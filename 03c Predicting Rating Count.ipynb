{
 "cells": [
  {
   "cell_type": "code",
   "execution_count": 1,
   "outputs": [],
   "source": [
    "import pandas as pd\n",
    "import numpy as np\n",
    "import statsmodels.api as sm\n",
    "import matplotlib.pyplot as plt\n",
    "import seaborn as sns\n",
    "from log_columns import log_columns"
   ],
   "metadata": {
    "collapsed": false,
    "pycharm": {
     "name": "#%%\n"
    }
   }
  },
  {
   "cell_type": "code",
   "execution_count": 2,
   "outputs": [
    {
     "data": {
      "text/plain": "         id       name  year               genre  ratingCount  bestRating  \\\n0  10344754      毒战 毒戰  2012  ['剧情', '动作', '犯罪']       210072          10   \n1  10355621  粉红女郎之爱人快跑  2013        ['喜剧', '爱情']         1826          10   \n2  10355633      绝命藏宝图  2012        ['动作', '悬疑']           78          10   \n4  10430281    七个隆咚锵咚锵  2012        ['喜剧', '爱情']          506          10   \n5  10437802  武当少年 武當少年  2010        ['剧情', '儿童']           68          10   \n\n   worstRating  ratingValue  directorMaxEffect  actorMaxEffect  ...  y2013  \\\n0            2          7.5              34235           27592  ...      0   \n1            2          3.2                 65            3861  ...      1   \n2            2          3.2                 43              43  ...      0   \n4            2          4.9                115             161  ...      0   \n5            2          6.1                  2             192  ...      0   \n\n   y2014  y2015  y2016  y2017  y2018  y2019  y2020  y2021  y2022  \n0      0      0      0      0      0      0      0      0      0  \n1      0      0      0      0      0      0      0      0      0  \n2      0      0      0      0      0      0      0      0      0  \n4      0      0      0      0      0      0      0      0      0  \n5      0      0      0      0      0      0      0      0      0  \n\n[5 rows x 50 columns]",
      "text/html": "<div>\n<style scoped>\n    .dataframe tbody tr th:only-of-type {\n        vertical-align: middle;\n    }\n\n    .dataframe tbody tr th {\n        vertical-align: top;\n    }\n\n    .dataframe thead th {\n        text-align: right;\n    }\n</style>\n<table border=\"1\" class=\"dataframe\">\n  <thead>\n    <tr style=\"text-align: right;\">\n      <th></th>\n      <th>id</th>\n      <th>name</th>\n      <th>year</th>\n      <th>genre</th>\n      <th>ratingCount</th>\n      <th>bestRating</th>\n      <th>worstRating</th>\n      <th>ratingValue</th>\n      <th>directorMaxEffect</th>\n      <th>actorMaxEffect</th>\n      <th>...</th>\n      <th>y2013</th>\n      <th>y2014</th>\n      <th>y2015</th>\n      <th>y2016</th>\n      <th>y2017</th>\n      <th>y2018</th>\n      <th>y2019</th>\n      <th>y2020</th>\n      <th>y2021</th>\n      <th>y2022</th>\n    </tr>\n  </thead>\n  <tbody>\n    <tr>\n      <th>0</th>\n      <td>10344754</td>\n      <td>毒战 毒戰</td>\n      <td>2012</td>\n      <td>['剧情', '动作', '犯罪']</td>\n      <td>210072</td>\n      <td>10</td>\n      <td>2</td>\n      <td>7.5</td>\n      <td>34235</td>\n      <td>27592</td>\n      <td>...</td>\n      <td>0</td>\n      <td>0</td>\n      <td>0</td>\n      <td>0</td>\n      <td>0</td>\n      <td>0</td>\n      <td>0</td>\n      <td>0</td>\n      <td>0</td>\n      <td>0</td>\n    </tr>\n    <tr>\n      <th>1</th>\n      <td>10355621</td>\n      <td>粉红女郎之爱人快跑</td>\n      <td>2013</td>\n      <td>['喜剧', '爱情']</td>\n      <td>1826</td>\n      <td>10</td>\n      <td>2</td>\n      <td>3.2</td>\n      <td>65</td>\n      <td>3861</td>\n      <td>...</td>\n      <td>1</td>\n      <td>0</td>\n      <td>0</td>\n      <td>0</td>\n      <td>0</td>\n      <td>0</td>\n      <td>0</td>\n      <td>0</td>\n      <td>0</td>\n      <td>0</td>\n    </tr>\n    <tr>\n      <th>2</th>\n      <td>10355633</td>\n      <td>绝命藏宝图</td>\n      <td>2012</td>\n      <td>['动作', '悬疑']</td>\n      <td>78</td>\n      <td>10</td>\n      <td>2</td>\n      <td>3.2</td>\n      <td>43</td>\n      <td>43</td>\n      <td>...</td>\n      <td>0</td>\n      <td>0</td>\n      <td>0</td>\n      <td>0</td>\n      <td>0</td>\n      <td>0</td>\n      <td>0</td>\n      <td>0</td>\n      <td>0</td>\n      <td>0</td>\n    </tr>\n    <tr>\n      <th>4</th>\n      <td>10430281</td>\n      <td>七个隆咚锵咚锵</td>\n      <td>2012</td>\n      <td>['喜剧', '爱情']</td>\n      <td>506</td>\n      <td>10</td>\n      <td>2</td>\n      <td>4.9</td>\n      <td>115</td>\n      <td>161</td>\n      <td>...</td>\n      <td>0</td>\n      <td>0</td>\n      <td>0</td>\n      <td>0</td>\n      <td>0</td>\n      <td>0</td>\n      <td>0</td>\n      <td>0</td>\n      <td>0</td>\n      <td>0</td>\n    </tr>\n    <tr>\n      <th>5</th>\n      <td>10437802</td>\n      <td>武当少年 武當少年</td>\n      <td>2010</td>\n      <td>['剧情', '儿童']</td>\n      <td>68</td>\n      <td>10</td>\n      <td>2</td>\n      <td>6.1</td>\n      <td>2</td>\n      <td>192</td>\n      <td>...</td>\n      <td>0</td>\n      <td>0</td>\n      <td>0</td>\n      <td>0</td>\n      <td>0</td>\n      <td>0</td>\n      <td>0</td>\n      <td>0</td>\n      <td>0</td>\n      <td>0</td>\n    </tr>\n  </tbody>\n</table>\n<p>5 rows × 50 columns</p>\n</div>"
     },
     "execution_count": 2,
     "metadata": {},
     "output_type": "execute_result"
    }
   ],
   "source": [
    "movies = pd.read_csv(\"./data/movies_reg_df.csv\", index_col=0)\n",
    "movies.head()"
   ],
   "metadata": {
    "collapsed": false,
    "pycharm": {
     "name": "#%%\n"
    }
   }
  },
  {
   "cell_type": "code",
   "execution_count": 6,
   "outputs": [
    {
     "data": {
      "text/plain": "   intercept  directorSumEffect  actorSumEffect  writerSumEffect  d动画  d悬疑  \\\n0          1              34235          107664             7410    0    0   \n1          1                 65           13658               65    0    0   \n2          1                 43              69               43    0    1   \n4          1                115             340              115    0    0   \n5          1                  2             233                2    0    0   \n\n   d剧情  d西部  d犯罪  d灾难  ...  y2013  y2014  y2015  y2016  y2017  y2018  y2019  \\\n0    1    0    1    0  ...      0      0      0      0      0      0      0   \n1    0    0    0    0  ...      1      0      0      0      0      0      0   \n2    0    0    0    0  ...      0      0      0      0      0      0      0   \n4    0    0    0    0  ...      0      0      0      0      0      0      0   \n5    1    0    0    0  ...      0      0      0      0      0      0      0   \n\n   y2020  y2021  y2022  \n0      0      0      0  \n1      0      0      0  \n2      0      0      0  \n4      0      0      0  \n5      0      0      0  \n\n[5 rows x 40 columns]",
      "text/html": "<div>\n<style scoped>\n    .dataframe tbody tr th:only-of-type {\n        vertical-align: middle;\n    }\n\n    .dataframe tbody tr th {\n        vertical-align: top;\n    }\n\n    .dataframe thead th {\n        text-align: right;\n    }\n</style>\n<table border=\"1\" class=\"dataframe\">\n  <thead>\n    <tr style=\"text-align: right;\">\n      <th></th>\n      <th>intercept</th>\n      <th>directorSumEffect</th>\n      <th>actorSumEffect</th>\n      <th>writerSumEffect</th>\n      <th>d动画</th>\n      <th>d悬疑</th>\n      <th>d剧情</th>\n      <th>d西部</th>\n      <th>d犯罪</th>\n      <th>d灾难</th>\n      <th>...</th>\n      <th>y2013</th>\n      <th>y2014</th>\n      <th>y2015</th>\n      <th>y2016</th>\n      <th>y2017</th>\n      <th>y2018</th>\n      <th>y2019</th>\n      <th>y2020</th>\n      <th>y2021</th>\n      <th>y2022</th>\n    </tr>\n  </thead>\n  <tbody>\n    <tr>\n      <th>0</th>\n      <td>1</td>\n      <td>34235</td>\n      <td>107664</td>\n      <td>7410</td>\n      <td>0</td>\n      <td>0</td>\n      <td>1</td>\n      <td>0</td>\n      <td>1</td>\n      <td>0</td>\n      <td>...</td>\n      <td>0</td>\n      <td>0</td>\n      <td>0</td>\n      <td>0</td>\n      <td>0</td>\n      <td>0</td>\n      <td>0</td>\n      <td>0</td>\n      <td>0</td>\n      <td>0</td>\n    </tr>\n    <tr>\n      <th>1</th>\n      <td>1</td>\n      <td>65</td>\n      <td>13658</td>\n      <td>65</td>\n      <td>0</td>\n      <td>0</td>\n      <td>0</td>\n      <td>0</td>\n      <td>0</td>\n      <td>0</td>\n      <td>...</td>\n      <td>1</td>\n      <td>0</td>\n      <td>0</td>\n      <td>0</td>\n      <td>0</td>\n      <td>0</td>\n      <td>0</td>\n      <td>0</td>\n      <td>0</td>\n      <td>0</td>\n    </tr>\n    <tr>\n      <th>2</th>\n      <td>1</td>\n      <td>43</td>\n      <td>69</td>\n      <td>43</td>\n      <td>0</td>\n      <td>1</td>\n      <td>0</td>\n      <td>0</td>\n      <td>0</td>\n      <td>0</td>\n      <td>...</td>\n      <td>0</td>\n      <td>0</td>\n      <td>0</td>\n      <td>0</td>\n      <td>0</td>\n      <td>0</td>\n      <td>0</td>\n      <td>0</td>\n      <td>0</td>\n      <td>0</td>\n    </tr>\n    <tr>\n      <th>4</th>\n      <td>1</td>\n      <td>115</td>\n      <td>340</td>\n      <td>115</td>\n      <td>0</td>\n      <td>0</td>\n      <td>0</td>\n      <td>0</td>\n      <td>0</td>\n      <td>0</td>\n      <td>...</td>\n      <td>0</td>\n      <td>0</td>\n      <td>0</td>\n      <td>0</td>\n      <td>0</td>\n      <td>0</td>\n      <td>0</td>\n      <td>0</td>\n      <td>0</td>\n      <td>0</td>\n    </tr>\n    <tr>\n      <th>5</th>\n      <td>1</td>\n      <td>2</td>\n      <td>233</td>\n      <td>2</td>\n      <td>0</td>\n      <td>0</td>\n      <td>1</td>\n      <td>0</td>\n      <td>0</td>\n      <td>0</td>\n      <td>...</td>\n      <td>0</td>\n      <td>0</td>\n      <td>0</td>\n      <td>0</td>\n      <td>0</td>\n      <td>0</td>\n      <td>0</td>\n      <td>0</td>\n      <td>0</td>\n      <td>0</td>\n    </tr>\n  </tbody>\n</table>\n<p>5 rows × 40 columns</p>\n</div>"
     },
     "execution_count": 6,
     "metadata": {},
     "output_type": "execute_result"
    }
   ],
   "source": [
    "y = movies.ratingCount\n",
    "X = movies.iloc[:,11:]\n",
    "# add intercept\n",
    "X.insert(0, \"intercept\", 1)\n",
    "X.head()"
   ],
   "metadata": {
    "collapsed": false,
    "pycharm": {
     "name": "#%%\n"
    }
   }
  },
  {
   "cell_type": "code",
   "execution_count": 7,
   "outputs": [
    {
     "name": "stdout",
     "output_type": "stream",
     "text": [
      "                            OLS Regression Results                            \n",
      "==============================================================================\n",
      "Dep. Variable:            ratingCount   R-squared:                       0.335\n",
      "Model:                            OLS   Adj. R-squared:                  0.327\n",
      "Method:                 Least Squares   F-statistic:                     8.998\n",
      "Date:                Mon, 04 Jul 2022   Prob (F-statistic):           1.85e-48\n",
      "Time:                        16:15:44   Log-Likelihood:                -39045.\n",
      "No. Observations:                2996   AIC:                         7.817e+04\n",
      "Df Residuals:                    2956   BIC:                         7.841e+04\n",
      "Df Model:                          39                                         \n",
      "Covariance Type:                  hc3                                         \n",
      "=====================================================================================\n",
      "                        coef    std err          z      P>|z|      [0.025      0.975]\n",
      "-------------------------------------------------------------------------------------\n",
      "intercept         -1.539e+04   9807.733     -1.569      0.117   -3.46e+04    3833.661\n",
      "directorSumEffect     4.1297      0.977      4.227      0.000       2.215       6.045\n",
      "actorSumEffect        1.0141      0.175      5.788      0.000       0.671       1.357\n",
      "writerSumEffect       1.6072      0.884      1.818      0.069      -0.125       3.340\n",
      "d动画                2.019e+04   1.73e+04      1.166      0.243   -1.37e+04    5.41e+04\n",
      "d悬疑                5446.6256   6259.958      0.870      0.384   -6822.666    1.77e+04\n",
      "d剧情                2.164e+04   6914.274      3.130      0.002    8090.424    3.52e+04\n",
      "d西部                8.246e+04   9.02e+04      0.915      0.360   -9.43e+04    2.59e+05\n",
      "d犯罪                1.749e+04   9943.294      1.759      0.079   -2003.129     3.7e+04\n",
      "d灾难                7.594e+04   6.74e+04      1.127      0.260   -5.61e+04    2.08e+05\n",
      "d传记               -3095.5767   1.21e+04     -0.256      0.798   -2.68e+04    2.06e+04\n",
      "d科幻                3.039e+04   2.41e+04      1.263      0.206   -1.68e+04    7.75e+04\n",
      "d儿童               -1.527e+04   6266.479     -2.437      0.015   -2.76e+04   -2992.211\n",
      "d歌舞               -1.067e+05    4.1e+04     -2.600      0.009   -1.87e+05   -2.63e+04\n",
      "d奇幻                2.913e+04   1.18e+04      2.459      0.014    5913.571    5.23e+04\n",
      "d家庭                 420.9014   7814.092      0.054      0.957   -1.49e+04    1.57e+04\n",
      "d喜剧                2.473e+04   6804.891      3.634      0.000    1.14e+04    3.81e+04\n",
      "d音乐                 -1.2e+04   2.19e+04     -0.547      0.584    -5.5e+04     3.1e+04\n",
      "d惊悚                6076.9798   6887.870      0.882      0.378   -7422.997    1.96e+04\n",
      "d运动               -6195.5806   1.11e+04     -0.558      0.577    -2.8e+04    1.56e+04\n",
      "d历史                -1.38e+04   1.23e+04     -1.125      0.260   -3.78e+04    1.02e+04\n",
      "d古装               -7233.7479   6553.351     -1.104      0.270   -2.01e+04    5610.584\n",
      "d爱情               -3451.7079   5405.544     -0.639      0.523    -1.4e+04    7142.964\n",
      "d冒险               -5371.4546   1.45e+04     -0.371      0.711   -3.38e+04     2.3e+04\n",
      "d恐怖                5445.7674   4639.705      1.174      0.241   -3647.886    1.45e+04\n",
      "d动作                1779.1355   7312.578      0.243      0.808   -1.26e+04    1.61e+04\n",
      "d战争                2.493e+04   1.51e+04      1.656      0.098   -4584.157    5.44e+04\n",
      "d武侠               -4009.8868   9298.657     -0.431      0.666   -2.22e+04    1.42e+04\n",
      "y2011             -1.518e+04   8637.547     -1.757      0.079   -3.21e+04    1752.587\n",
      "y2012             -1.672e+04   7962.452     -2.100      0.036   -3.23e+04   -1116.075\n",
      "y2013             -2019.1948   8457.260     -0.239      0.811   -1.86e+04    1.46e+04\n",
      "y2014             -6665.1754   8415.033     -0.792      0.428   -2.32e+04    9827.986\n",
      "y2015              4040.4183   8666.260      0.466      0.641   -1.29e+04     2.1e+04\n",
      "y2016             -1.034e+04   8299.488     -1.246      0.213   -2.66e+04    5928.986\n",
      "y2017               549.7490   9742.048      0.056      0.955   -1.85e+04    1.96e+04\n",
      "y2018              2.658e+04   1.45e+04      1.838      0.066   -1765.486    5.49e+04\n",
      "y2019              3.289e+04   1.46e+04      2.254      0.024    4296.546    6.15e+04\n",
      "y2020              5817.1587   1.15e+04      0.504      0.614   -1.68e+04    2.84e+04\n",
      "y2021              1.421e+04   1.53e+04      0.930      0.353   -1.58e+04    4.42e+04\n",
      "y2022              6318.3578   1.52e+04      0.415      0.678   -2.35e+04    3.62e+04\n",
      "==============================================================================\n",
      "Omnibus:                     3468.794   Durbin-Watson:                   2.036\n",
      "Prob(Omnibus):                  0.000   Jarque-Bera (JB):           508330.134\n",
      "Skew:                           5.853   Prob(JB):                         0.00\n",
      "Kurtosis:                      65.730   Cond. No.                     9.90e+05\n",
      "==============================================================================\n",
      "\n",
      "Notes:\n",
      "[1] Standard Errors are heteroscedasticity robust (HC3)\n",
      "[2] The condition number is large, 9.9e+05. This might indicate that there are\n",
      "strong multicollinearity or other numerical problems.\n"
     ]
    }
   ],
   "source": [
    "mod = sm.OLS(y, X)\n",
    "res = mod.fit(cov_type='hc3')\n",
    "print(res.summary())\n",
    "# high condition number, due to large number of followers and counts."
   ],
   "metadata": {
    "collapsed": false,
    "pycharm": {
     "name": "#%%\n"
    }
   }
  },
  {
   "cell_type": "code",
   "execution_count": 8,
   "outputs": [],
   "source": [
    "y = y.apply(np.log)\n",
    "log_columns(X, [\"directorSumEffect\", \"actorSumEffect\", \"writerSumEffect\"])"
   ],
   "metadata": {
    "collapsed": false,
    "pycharm": {
     "name": "#%%\n"
    }
   }
  },
  {
   "cell_type": "code",
   "execution_count": 9,
   "outputs": [
    {
     "name": "stdout",
     "output_type": "stream",
     "text": [
      "                            OLS Regression Results                            \n",
      "==============================================================================\n",
      "Dep. Variable:            ratingCount   R-squared:                       0.652\n",
      "Model:                            OLS   Adj. R-squared:                  0.647\n",
      "Method:                 Least Squares   F-statistic:                     155.2\n",
      "Date:                Mon, 04 Jul 2022   Prob (F-statistic):               0.00\n",
      "Time:                        16:16:22   Log-Likelihood:                -5317.5\n",
      "No. Observations:                2996   AIC:                         1.071e+04\n",
      "Df Residuals:                    2956   BIC:                         1.096e+04\n",
      "Df Model:                          39                                         \n",
      "Covariance Type:                  hc3                                         \n",
      "=======================================================================================\n",
      "                          coef    std err          z      P>|z|      [0.025      0.975]\n",
      "---------------------------------------------------------------------------------------\n",
      "intercept               1.7429      0.169     10.286      0.000       1.411       2.075\n",
      "l_directorSumEffect     0.2594      0.018     14.589      0.000       0.225       0.294\n",
      "l_actorSumEffect        0.4163      0.014     29.053      0.000       0.388       0.444\n",
      "l_writerSumEffect       0.1746      0.016     11.070      0.000       0.144       0.205\n",
      "d动画                     0.9364      0.150      6.222      0.000       0.641       1.231\n",
      "d悬疑                     0.1183      0.082      1.446      0.148      -0.042       0.279\n",
      "d剧情                     0.0253      0.068      0.370      0.711      -0.109       0.159\n",
      "d西部                     0.7938      0.626      1.268      0.205      -0.434       2.021\n",
      "d犯罪                     0.4938      0.109      4.541      0.000       0.281       0.707\n",
      "d灾难                     0.9455      0.281      3.369      0.001       0.395       1.496\n",
      "d传记                    -0.0369      0.209     -0.177      0.860      -0.447       0.373\n",
      "d科幻                     0.0287      0.203      0.142      0.887      -0.368       0.426\n",
      "d儿童                     0.3833      0.173      2.221      0.026       0.045       0.722\n",
      "d歌舞                    -0.7078      0.379     -1.866      0.062      -1.451       0.036\n",
      "d奇幻                     0.3340      0.104      3.225      0.001       0.131       0.537\n",
      "d家庭                     0.5635      0.150      3.757      0.000       0.270       0.857\n",
      "d喜剧                     0.5159      0.071      7.226      0.000       0.376       0.656\n",
      "d音乐                     0.0444      0.271      0.164      0.870      -0.486       0.575\n",
      "d惊悚                     0.5167      0.102      5.078      0.000       0.317       0.716\n",
      "d运动                     0.3171      0.247      1.284      0.199      -0.167       0.801\n",
      "d历史                     0.2503      0.149      1.682      0.093      -0.041       0.542\n",
      "d古装                    -0.0282      0.129     -0.219      0.827      -0.280       0.224\n",
      "d爱情                     0.3668      0.068      5.358      0.000       0.233       0.501\n",
      "d冒险                     0.3680      0.122      3.016      0.003       0.129       0.607\n",
      "d恐怖                     0.5634      0.137      4.127      0.000       0.296       0.831\n",
      "d动作                     0.1855      0.081      2.293      0.022       0.027       0.344\n",
      "d战争                     0.1088      0.147      0.742      0.458      -0.179       0.396\n",
      "d武侠                     0.2114      0.162      1.309      0.191      -0.105       0.528\n",
      "y2011                  -0.0233      0.165     -0.141      0.888      -0.347       0.300\n",
      "y2012                  -0.0901      0.147     -0.612      0.541      -0.379       0.199\n",
      "y2013                   0.2807      0.152      1.845      0.065      -0.017       0.579\n",
      "y2014                   0.2838      0.151      1.881      0.060      -0.012       0.580\n",
      "y2015                   0.2755      0.149      1.845      0.065      -0.017       0.568\n",
      "y2016                   0.1718      0.144      1.189      0.234      -0.111       0.455\n",
      "y2017                   0.6968      0.149      4.687      0.000       0.405       0.988\n",
      "y2018                   0.7189      0.154      4.673      0.000       0.417       1.020\n",
      "y2019                   0.9464      0.160      5.904      0.000       0.632       1.261\n",
      "y2020                   0.8906      0.168      5.291      0.000       0.561       1.221\n",
      "y2021                   1.0133      0.167      6.079      0.000       0.687       1.340\n",
      "y2022                   1.0551      0.261      4.038      0.000       0.543       1.567\n",
      "==============================================================================\n",
      "Omnibus:                        9.568   Durbin-Watson:                   1.864\n",
      "Prob(Omnibus):                  0.008   Jarque-Bera (JB):                9.547\n",
      "Skew:                          -0.137   Prob(JB):                      0.00845\n",
      "Kurtosis:                       3.044   Cond. No.                         202.\n",
      "==============================================================================\n",
      "\n",
      "Notes:\n",
      "[1] Standard Errors are heteroscedasticity robust (HC3)\n"
     ]
    }
   ],
   "source": [
    "mod = sm.OLS(y, X)\n",
    "res = mod.fit(cov_type='hc3')\n",
    "print(res.summary())"
   ],
   "metadata": {
    "collapsed": false,
    "pycharm": {
     "name": "#%%\n"
    }
   }
  }
 ],
 "metadata": {
  "kernelspec": {
   "display_name": "Python 3",
   "language": "python",
   "name": "python3"
  },
  "language_info": {
   "codemirror_mode": {
    "name": "ipython",
    "version": 2
   },
   "file_extension": ".py",
   "mimetype": "text/x-python",
   "name": "python",
   "nbconvert_exporter": "python",
   "pygments_lexer": "ipython2",
   "version": "2.7.6"
  }
 },
 "nbformat": 4,
 "nbformat_minor": 0
}
{
 "cells": [
  {
   "cell_type": "code",
   "execution_count": 1,
   "outputs": [],
   "source": [
    "import time\n",
    "import random\n",
    "import requests\n",
    "import json\n",
    "import os\n",
    "import pickle\n",
    "from common import headers, get_new_proxy"
   ],
   "metadata": {
    "collapsed": false,
    "pycharm": {
     "name": "#%%\n"
    }
   }
  },
  {
   "cell_type": "code",
   "execution_count": 2,
   "outputs": [],
   "source": [
    "# https://movie.douban.com/j/new_search_subjects?sort=R&range=0,10&tags=%E7%94%B5%E5%BD%B1&start=0&genres=%E5%89%A7%E6%83%85&countries=%E4%B8%AD%E5%9B%BD%E5%A4%A7%E9%99%86&year_range=2022,2022\n",
    "\n",
    "ENDPOINT = \"https://movie.douban.com/j/new_search_subjects\"\n",
    "\n",
    "GENRES = [\n",
    "    \"剧情\", \"喜剧\", \"动作\", \"爱情\", \"科幻\", \"动画\", \"悬疑\", \"惊悚\", \"恐怖\", \"犯罪\", \"同性\", \"音乐\", \"歌舞\", \"传记\", \"历史\", \"战争\", \"西部\", \"奇幻\", \"冒险\",\n",
    "    \"灾难\", \"武侠\"]\n",
    "\n",
    "DEBOUNCE = 0.5  # don't spam the server"
   ],
   "metadata": {
    "collapsed": false,
    "pycharm": {
     "name": "#%%\n"
    }
   }
  },
  {
   "cell_type": "code",
   "execution_count": 19,
   "outputs": [],
   "source": [
    "def get_default_params(limit):\n",
    "    return {\n",
    "        \"sort\": \"R\",\n",
    "        \"range\": \"0,10\",  # rating range\n",
    "        \"tags\": \"电影\",\n",
    "        \"start\": 0,\n",
    "        \"limit\": limit,\n",
    "        \"countries\": \"中国大陆\",\n",
    "    }\n",
    "\n",
    "def parse_movies(text):\n",
    "    return json.loads(text)[\"data\"]"
   ],
   "metadata": {
    "collapsed": false,
    "pycharm": {
     "name": "#%%\n"
    }
   }
  },
  {
   "cell_type": "code",
   "execution_count": 20,
   "outputs": [],
   "source": [
    "def get_genre_year(genre, year, proxy=None) -> []:\n",
    "    movies = []\n",
    "    limit = 100\n",
    "\n",
    "    # setup session\n",
    "    s = requests.Session()\n",
    "    s.proxies = proxy\n",
    "    s.headers.update(headers)\n",
    "\n",
    "    # setup query params\n",
    "    params = get_default_params(limit)\n",
    "    params[\"genres\"] = genre\n",
    "    params[\"year_range\"] = f\"{year},{year}\"\n",
    "\n",
    "    # python doesn't have do while...\n",
    "    r = s.get(ENDPOINT, params=params)\n",
    "    l = parse_movies(r.text)\n",
    "    movies.extend(l)\n",
    "\n",
    "    while len(l) > 0:\n",
    "        jitter = random.random()\n",
    "        time.sleep(DEBOUNCE + jitter)\n",
    "\n",
    "        params[\"start\"] += limit\n",
    "        print(f\"Starting {params['start']}, genre {genre} for year {year}\")\n",
    "\n",
    "        try:\n",
    "            r = s.get(ENDPOINT, params=params)\n",
    "            l = parse_movies(r.text)\n",
    "            movies.extend(l)\n",
    "        except:\n",
    "            # something went wrong, probably our IP was flagged.\n",
    "            # switch to a different proxy\n",
    "            s.proxies = get_new_proxy()\n",
    "            print(f\"Something went wrong. Changing proxy to: {s.proxies['http']}\")\n",
    "            params[\"start\"] -= limit\n",
    "\n",
    "    print(f\"Finished, list size {len(movies)}\")\n",
    "\n",
    "    return movies"
   ],
   "metadata": {
    "collapsed": false,
    "pycharm": {
     "name": "#%%\n"
    }
   }
  },
  {
   "cell_type": "code",
   "execution_count": 30,
   "outputs": [
    {
     "name": "stdout",
     "output_type": "stream",
     "text": [
      "剧情 2010 already scraped, skipping\n",
      "剧情 2011 already scraped, skipping\n",
      "剧情 2012 already scraped, skipping\n",
      "剧情 2013 already scraped, skipping\n",
      "剧情 2014 already scraped, skipping\n",
      "剧情 2015 already scraped, skipping\n",
      "剧情 2016 already scraped, skipping\n",
      "剧情 2017 already scraped, skipping\n",
      "剧情 2018 already scraped, skipping\n",
      "剧情 2019 already scraped, skipping\n",
      "剧情 2020 already scraped, skipping\n",
      "剧情 2021 already scraped, skipping\n",
      "剧情 2022 already scraped, skipping\n",
      "喜剧 2010 already scraped, skipping\n",
      "喜剧 2011 already scraped, skipping\n",
      "喜剧 2012 already scraped, skipping\n",
      "喜剧 2013 already scraped, skipping\n",
      "喜剧 2014 already scraped, skipping\n",
      "喜剧 2015 already scraped, skipping\n",
      "喜剧 2016 already scraped, skipping\n",
      "喜剧 2017 already scraped, skipping\n",
      "喜剧 2018 already scraped, skipping\n",
      "喜剧 2019 already scraped, skipping\n",
      "喜剧 2020 already scraped, skipping\n",
      "喜剧 2021 already scraped, skipping\n",
      "喜剧 2022 already scraped, skipping\n",
      "动作 2010 already scraped, skipping\n",
      "动作 2011 already scraped, skipping\n",
      "动作 2012 already scraped, skipping\n",
      "动作 2013 already scraped, skipping\n",
      "动作 2014 already scraped, skipping\n",
      "动作 2015 already scraped, skipping\n",
      "动作 2016 already scraped, skipping\n",
      "动作 2017 already scraped, skipping\n",
      "动作 2018 already scraped, skipping\n",
      "动作 2019 already scraped, skipping\n",
      "动作 2020 already scraped, skipping\n",
      "动作 2021 already scraped, skipping\n",
      "动作 2022 already scraped, skipping\n",
      "爱情 2010 already scraped, skipping\n",
      "爱情 2011 already scraped, skipping\n",
      "爱情 2012 already scraped, skipping\n",
      "爱情 2013 already scraped, skipping\n",
      "爱情 2014 already scraped, skipping\n",
      "爱情 2015 already scraped, skipping\n",
      "爱情 2016 already scraped, skipping\n",
      "Starting, time elapsed 0.003842592239379883\n"
     ]
    },
    {
     "ename": "KeyError",
     "evalue": "'data'",
     "output_type": "error",
     "traceback": [
      "\u001B[1;31m---------------------------------------------------------------------------\u001B[0m",
      "\u001B[1;31mKeyError\u001B[0m                                  Traceback (most recent call last)",
      "Input \u001B[1;32mIn [30]\u001B[0m, in \u001B[0;36m<cell line: 3>\u001B[1;34m()\u001B[0m\n\u001B[0;32m      9\u001B[0m     \u001B[38;5;28;01mcontinue\u001B[39;00m\n\u001B[0;32m     10\u001B[0m \u001B[38;5;28mprint\u001B[39m(\u001B[38;5;124mf\u001B[39m\u001B[38;5;124m\"\u001B[39m\u001B[38;5;124mStarting, time elapsed \u001B[39m\u001B[38;5;132;01m{\u001B[39;00mtime\u001B[38;5;241m.\u001B[39mtime() \u001B[38;5;241m-\u001B[39m start_time\u001B[38;5;132;01m}\u001B[39;00m\u001B[38;5;124m\"\u001B[39m)\n\u001B[1;32m---> 11\u001B[0m movies \u001B[38;5;241m=\u001B[39m \u001B[43mget_genre_year\u001B[49m\u001B[43m(\u001B[49m\u001B[43mg\u001B[49m\u001B[43m,\u001B[49m\u001B[43m \u001B[49m\u001B[43my\u001B[49m\u001B[43m,\u001B[49m\u001B[43m \u001B[49m\u001B[43mget_new_proxy\u001B[49m\u001B[43m(\u001B[49m\u001B[43m)\u001B[49m\u001B[43m)\u001B[49m\n\u001B[0;32m     12\u001B[0m \u001B[38;5;28;01mwith\u001B[39;00m \u001B[38;5;28mopen\u001B[39m(name, \u001B[38;5;124m'\u001B[39m\u001B[38;5;124mwb\u001B[39m\u001B[38;5;124m'\u001B[39m) \u001B[38;5;28;01mas\u001B[39;00m f:\n\u001B[0;32m     13\u001B[0m    pickle\u001B[38;5;241m.\u001B[39mdump(movies, f)\n",
      "Input \u001B[1;32mIn [20]\u001B[0m, in \u001B[0;36mget_genre_year\u001B[1;34m(genre, year, proxy)\u001B[0m\n\u001B[0;32m     15\u001B[0m \u001B[38;5;66;03m# python doesn't have do while...\u001B[39;00m\n\u001B[0;32m     16\u001B[0m r \u001B[38;5;241m=\u001B[39m s\u001B[38;5;241m.\u001B[39mget(ENDPOINT, params\u001B[38;5;241m=\u001B[39mparams)\n\u001B[1;32m---> 17\u001B[0m l \u001B[38;5;241m=\u001B[39m \u001B[43mparse_movies\u001B[49m\u001B[43m(\u001B[49m\u001B[43mr\u001B[49m\u001B[38;5;241;43m.\u001B[39;49m\u001B[43mtext\u001B[49m\u001B[43m)\u001B[49m\n\u001B[0;32m     18\u001B[0m movies\u001B[38;5;241m.\u001B[39mextend(l)\n\u001B[0;32m     20\u001B[0m \u001B[38;5;28;01mwhile\u001B[39;00m \u001B[38;5;28mlen\u001B[39m(l) \u001B[38;5;241m>\u001B[39m \u001B[38;5;241m0\u001B[39m:\n",
      "Input \u001B[1;32mIn [19]\u001B[0m, in \u001B[0;36mparse_movies\u001B[1;34m(text)\u001B[0m\n\u001B[0;32m     11\u001B[0m \u001B[38;5;28;01mdef\u001B[39;00m \u001B[38;5;21mparse_movies\u001B[39m(text):\n\u001B[1;32m---> 12\u001B[0m     \u001B[38;5;28;01mreturn\u001B[39;00m \u001B[43mjson\u001B[49m\u001B[38;5;241;43m.\u001B[39;49m\u001B[43mloads\u001B[49m\u001B[43m(\u001B[49m\u001B[43mtext\u001B[49m\u001B[43m)\u001B[49m\u001B[43m[\u001B[49m\u001B[38;5;124;43m\"\u001B[39;49m\u001B[38;5;124;43mdata\u001B[39;49m\u001B[38;5;124;43m\"\u001B[39;49m\u001B[43m]\u001B[49m\n",
      "\u001B[1;31mKeyError\u001B[0m: 'data'"
     ]
    }
   ],
   "source": [
    "start_time = time.time()\n",
    "\n",
    "for g in GENRES:\n",
    "    for y in range(2010, 2023):\n",
    "        name = f\"./data/list/{g}_{y}.pkl\"\n",
    "        # if already been scraped, skip\n",
    "        if os.path.isfile(name):\n",
    "            print(f\"{g} {y} already scraped, skipping\")\n",
    "            continue\n",
    "        print(f\"Starting, time elapsed {time.time() - start_time}\")\n",
    "        movies = get_genre_year(g, y, get_new_proxy())\n",
    "        with open(name, 'wb') as f:\n",
    "           pickle.dump(movies, f)"
   ],
   "metadata": {
    "collapsed": false,
    "pycharm": {
     "name": "#%%\n"
    }
   }
  }
 ],
 "metadata": {
  "kernelspec": {
   "display_name": "Python 3",
   "language": "python",
   "name": "python3"
  },
  "language_info": {
   "codemirror_mode": {
    "name": "ipython",
    "version": 2
   },
   "file_extension": ".py",
   "mimetype": "text/x-python",
   "name": "python",
   "nbconvert_exporter": "python",
   "pygments_lexer": "ipython2",
   "version": "2.7.6"
  }
 },
 "nbformat": 4,
 "nbformat_minor": 0
}
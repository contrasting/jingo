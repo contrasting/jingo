{
 "cells": [
  {
   "cell_type": "code",
   "execution_count": 1,
   "metadata": {
    "collapsed": true,
    "pycharm": {
     "name": "#%%\n"
    }
   },
   "outputs": [],
   "source": [
    "import pandas as pd\n",
    "import numpy as np\n",
    "import statsmodels.api as sm\n",
    "from log_columns import log_columns"
   ]
  },
  {
   "cell_type": "code",
   "execution_count": 2,
   "outputs": [
    {
     "data": {
      "text/plain": "         id       name  year  \\\n0  10344754      毒战 毒戰  2012   \n1  10355621  粉红女郎之爱人快跑  2013   \n2  10355633      绝命藏宝图  2012   \n4  10430281    七个隆咚锵咚锵  2012   \n5  10437802  武当少年 武當少年  2010   \n\n                                         description               genre  \\\n0  刚刚结束一次危险任务的津海市缉毒大队队长张雷（孙红雷 饰），在医院意外见到因车祸入院治疗的香...  ['剧情', '动作', '犯罪']   \n1  为了泡到一个男朋友，结婚狂（阿雅 饰）碰见魔术师高明（锦荣 饰）后，便告诉对方自己怀了他的孩...        ['喜剧', '爱情']   \n2  一对不食人间烟火的青年男女——彭少文和程雪珂狼狈地逃到余姚县城门口，他们身后有一群凶神恶煞的...        ['动作', '悬疑']   \n4  韩峰（韩兆 饰）在一天之内丢掉了工作和恋人，一无所有的他陷入了人生的低谷之中。然而，韩峰的运...        ['喜剧', '爱情']   \n5  主人公翔翔原本是一个天真浪漫，活泼好动的孩子，在一次观看武当武校在台湾的表演后，萌生了赴武当...        ['剧情', '儿童']   \n\n   ratingCount  bestRating  worstRating  ratingValue  directorMaxEffect  ...  \\\n0       210072          10            2          7.5              34235  ...   \n1         1826          10            2          3.2                 65  ...   \n2           78          10            2          3.2                 43  ...   \n4          506          10            2          4.9                115  ...   \n5           68          10            2          6.1                  2  ...   \n\n   cCommunist  cPublic  cLaw  cRole  cSociety  cCulture  cJingoistic  \\\n0           0        0     0      0         0         0            0   \n1           0        0     0      0         0         0            0   \n2           0        0     0      0         0         0            0   \n4           0        0     0      0         0         0            0   \n5           0        0     0      0         0         0            0   \n\n   cDiplomatic  cKorean  cChildren  \n0            0        0          0  \n1            0        0          0  \n2            0        0          0  \n4            0        0          0  \n5            0        0          0  \n\n[5 rows x 63 columns]",
      "text/html": "<div>\n<style scoped>\n    .dataframe tbody tr th:only-of-type {\n        vertical-align: middle;\n    }\n\n    .dataframe tbody tr th {\n        vertical-align: top;\n    }\n\n    .dataframe thead th {\n        text-align: right;\n    }\n</style>\n<table border=\"1\" class=\"dataframe\">\n  <thead>\n    <tr style=\"text-align: right;\">\n      <th></th>\n      <th>id</th>\n      <th>name</th>\n      <th>year</th>\n      <th>description</th>\n      <th>genre</th>\n      <th>ratingCount</th>\n      <th>bestRating</th>\n      <th>worstRating</th>\n      <th>ratingValue</th>\n      <th>directorMaxEffect</th>\n      <th>...</th>\n      <th>cCommunist</th>\n      <th>cPublic</th>\n      <th>cLaw</th>\n      <th>cRole</th>\n      <th>cSociety</th>\n      <th>cCulture</th>\n      <th>cJingoistic</th>\n      <th>cDiplomatic</th>\n      <th>cKorean</th>\n      <th>cChildren</th>\n    </tr>\n  </thead>\n  <tbody>\n    <tr>\n      <th>0</th>\n      <td>10344754</td>\n      <td>毒战 毒戰</td>\n      <td>2012</td>\n      <td>刚刚结束一次危险任务的津海市缉毒大队队长张雷（孙红雷 饰），在医院意外见到因车祸入院治疗的香...</td>\n      <td>['剧情', '动作', '犯罪']</td>\n      <td>210072</td>\n      <td>10</td>\n      <td>2</td>\n      <td>7.5</td>\n      <td>34235</td>\n      <td>...</td>\n      <td>0</td>\n      <td>0</td>\n      <td>0</td>\n      <td>0</td>\n      <td>0</td>\n      <td>0</td>\n      <td>0</td>\n      <td>0</td>\n      <td>0</td>\n      <td>0</td>\n    </tr>\n    <tr>\n      <th>1</th>\n      <td>10355621</td>\n      <td>粉红女郎之爱人快跑</td>\n      <td>2013</td>\n      <td>为了泡到一个男朋友，结婚狂（阿雅 饰）碰见魔术师高明（锦荣 饰）后，便告诉对方自己怀了他的孩...</td>\n      <td>['喜剧', '爱情']</td>\n      <td>1826</td>\n      <td>10</td>\n      <td>2</td>\n      <td>3.2</td>\n      <td>65</td>\n      <td>...</td>\n      <td>0</td>\n      <td>0</td>\n      <td>0</td>\n      <td>0</td>\n      <td>0</td>\n      <td>0</td>\n      <td>0</td>\n      <td>0</td>\n      <td>0</td>\n      <td>0</td>\n    </tr>\n    <tr>\n      <th>2</th>\n      <td>10355633</td>\n      <td>绝命藏宝图</td>\n      <td>2012</td>\n      <td>一对不食人间烟火的青年男女——彭少文和程雪珂狼狈地逃到余姚县城门口，他们身后有一群凶神恶煞的...</td>\n      <td>['动作', '悬疑']</td>\n      <td>78</td>\n      <td>10</td>\n      <td>2</td>\n      <td>3.2</td>\n      <td>43</td>\n      <td>...</td>\n      <td>0</td>\n      <td>0</td>\n      <td>0</td>\n      <td>0</td>\n      <td>0</td>\n      <td>0</td>\n      <td>0</td>\n      <td>0</td>\n      <td>0</td>\n      <td>0</td>\n    </tr>\n    <tr>\n      <th>4</th>\n      <td>10430281</td>\n      <td>七个隆咚锵咚锵</td>\n      <td>2012</td>\n      <td>韩峰（韩兆 饰）在一天之内丢掉了工作和恋人，一无所有的他陷入了人生的低谷之中。然而，韩峰的运...</td>\n      <td>['喜剧', '爱情']</td>\n      <td>506</td>\n      <td>10</td>\n      <td>2</td>\n      <td>4.9</td>\n      <td>115</td>\n      <td>...</td>\n      <td>0</td>\n      <td>0</td>\n      <td>0</td>\n      <td>0</td>\n      <td>0</td>\n      <td>0</td>\n      <td>0</td>\n      <td>0</td>\n      <td>0</td>\n      <td>0</td>\n    </tr>\n    <tr>\n      <th>5</th>\n      <td>10437802</td>\n      <td>武当少年 武當少年</td>\n      <td>2010</td>\n      <td>主人公翔翔原本是一个天真浪漫，活泼好动的孩子，在一次观看武当武校在台湾的表演后，萌生了赴武当...</td>\n      <td>['剧情', '儿童']</td>\n      <td>68</td>\n      <td>10</td>\n      <td>2</td>\n      <td>6.1</td>\n      <td>2</td>\n      <td>...</td>\n      <td>0</td>\n      <td>0</td>\n      <td>0</td>\n      <td>0</td>\n      <td>0</td>\n      <td>0</td>\n      <td>0</td>\n      <td>0</td>\n      <td>0</td>\n      <td>0</td>\n    </tr>\n  </tbody>\n</table>\n<p>5 rows × 63 columns</p>\n</div>"
     },
     "execution_count": 2,
     "metadata": {},
     "output_type": "execute_result"
    }
   ],
   "source": [
    "movies = pd.read_csv(\"./data/movies_cat_df.csv\", index_col=0)\n",
    "movies.head()"
   ],
   "metadata": {
    "collapsed": false,
    "pycharm": {
     "name": "#%%\n"
    }
   }
  },
  {
   "cell_type": "markdown",
   "source": [
    "## Effect of categories on rating"
   ],
   "metadata": {
    "collapsed": false,
    "pycharm": {
     "name": "#%% md\n"
    }
   }
  },
  {
   "cell_type": "code",
   "execution_count": 82,
   "outputs": [
    {
     "data": {
      "text/plain": "   intercept  l_directorSumEffect  l_actorSumEffect  l_writerSumEffect  d动画  \\\n0          1            10.441033         11.586780           8.910721    0   \n1          1             4.189655          9.522154           4.189655    0   \n2          1             3.784190          4.248495           3.784190    0   \n4          1             4.753590          5.831882           4.753590    0   \n5          1             1.098612          5.455321           1.098612    0   \n\n   d悬疑  d剧情  d西部  d犯罪  d灾难  ...  cCommunist  cPublic  cLaw  cRole  cSociety  \\\n0    0    1    0    1    0  ...           0        0     0      0         0   \n1    0    0    0    0    0  ...           0        0     0      0         0   \n2    1    0    0    0    0  ...           0        0     0      0         0   \n4    0    0    0    0    0  ...           0        0     0      0         0   \n5    0    1    0    0    0  ...           0        0     0      0         0   \n\n   cCulture  cJingoistic  cDiplomatic  cKorean  cChildren  \n0         0            0            0        0          0  \n1         0            0            0        0          0  \n2         0            0            0        0          0  \n4         0            0            0        0          0  \n5         0            0            0        0          0  \n\n[5 rows x 52 columns]",
      "text/html": "<div>\n<style scoped>\n    .dataframe tbody tr th:only-of-type {\n        vertical-align: middle;\n    }\n\n    .dataframe tbody tr th {\n        vertical-align: top;\n    }\n\n    .dataframe thead th {\n        text-align: right;\n    }\n</style>\n<table border=\"1\" class=\"dataframe\">\n  <thead>\n    <tr style=\"text-align: right;\">\n      <th></th>\n      <th>intercept</th>\n      <th>l_directorSumEffect</th>\n      <th>l_actorSumEffect</th>\n      <th>l_writerSumEffect</th>\n      <th>d动画</th>\n      <th>d悬疑</th>\n      <th>d剧情</th>\n      <th>d西部</th>\n      <th>d犯罪</th>\n      <th>d灾难</th>\n      <th>...</th>\n      <th>cCommunist</th>\n      <th>cPublic</th>\n      <th>cLaw</th>\n      <th>cRole</th>\n      <th>cSociety</th>\n      <th>cCulture</th>\n      <th>cJingoistic</th>\n      <th>cDiplomatic</th>\n      <th>cKorean</th>\n      <th>cChildren</th>\n    </tr>\n  </thead>\n  <tbody>\n    <tr>\n      <th>0</th>\n      <td>1</td>\n      <td>10.441033</td>\n      <td>11.586780</td>\n      <td>8.910721</td>\n      <td>0</td>\n      <td>0</td>\n      <td>1</td>\n      <td>0</td>\n      <td>1</td>\n      <td>0</td>\n      <td>...</td>\n      <td>0</td>\n      <td>0</td>\n      <td>0</td>\n      <td>0</td>\n      <td>0</td>\n      <td>0</td>\n      <td>0</td>\n      <td>0</td>\n      <td>0</td>\n      <td>0</td>\n    </tr>\n    <tr>\n      <th>1</th>\n      <td>1</td>\n      <td>4.189655</td>\n      <td>9.522154</td>\n      <td>4.189655</td>\n      <td>0</td>\n      <td>0</td>\n      <td>0</td>\n      <td>0</td>\n      <td>0</td>\n      <td>0</td>\n      <td>...</td>\n      <td>0</td>\n      <td>0</td>\n      <td>0</td>\n      <td>0</td>\n      <td>0</td>\n      <td>0</td>\n      <td>0</td>\n      <td>0</td>\n      <td>0</td>\n      <td>0</td>\n    </tr>\n    <tr>\n      <th>2</th>\n      <td>1</td>\n      <td>3.784190</td>\n      <td>4.248495</td>\n      <td>3.784190</td>\n      <td>0</td>\n      <td>1</td>\n      <td>0</td>\n      <td>0</td>\n      <td>0</td>\n      <td>0</td>\n      <td>...</td>\n      <td>0</td>\n      <td>0</td>\n      <td>0</td>\n      <td>0</td>\n      <td>0</td>\n      <td>0</td>\n      <td>0</td>\n      <td>0</td>\n      <td>0</td>\n      <td>0</td>\n    </tr>\n    <tr>\n      <th>4</th>\n      <td>1</td>\n      <td>4.753590</td>\n      <td>5.831882</td>\n      <td>4.753590</td>\n      <td>0</td>\n      <td>0</td>\n      <td>0</td>\n      <td>0</td>\n      <td>0</td>\n      <td>0</td>\n      <td>...</td>\n      <td>0</td>\n      <td>0</td>\n      <td>0</td>\n      <td>0</td>\n      <td>0</td>\n      <td>0</td>\n      <td>0</td>\n      <td>0</td>\n      <td>0</td>\n      <td>0</td>\n    </tr>\n    <tr>\n      <th>5</th>\n      <td>1</td>\n      <td>1.098612</td>\n      <td>5.455321</td>\n      <td>1.098612</td>\n      <td>0</td>\n      <td>0</td>\n      <td>1</td>\n      <td>0</td>\n      <td>0</td>\n      <td>0</td>\n      <td>...</td>\n      <td>0</td>\n      <td>0</td>\n      <td>0</td>\n      <td>0</td>\n      <td>0</td>\n      <td>0</td>\n      <td>0</td>\n      <td>0</td>\n      <td>0</td>\n      <td>0</td>\n    </tr>\n  </tbody>\n</table>\n<p>5 rows × 52 columns</p>\n</div>"
     },
     "execution_count": 82,
     "metadata": {},
     "output_type": "execute_result"
    }
   ],
   "source": [
    "y = movies.ratingValue\n",
    "X = movies.iloc[:,12:]\n",
    "log_columns(X, [\"directorSumEffect\", \"actorSumEffect\", \"writerSumEffect\"])\n",
    "# add intercept\n",
    "X.insert(0, \"intercept\", 1)\n",
    "X.head()"
   ],
   "metadata": {
    "collapsed": false,
    "pycharm": {
     "name": "#%%\n"
    }
   }
  },
  {
   "cell_type": "code",
   "execution_count": 83,
   "outputs": [
    {
     "name": "stdout",
     "output_type": "stream",
     "text": [
      "                            OLS Regression Results                            \n",
      "==============================================================================\n",
      "Dep. Variable:            ratingValue   R-squared:                       0.413\n",
      "Model:                            OLS   Adj. R-squared:                  0.403\n",
      "Method:                 Least Squares   F-statistic:                     51.92\n",
      "Date:                Tue, 05 Jul 2022   Prob (F-statistic):               0.00\n",
      "Time:                        18:02:58   Log-Likelihood:                -4716.7\n",
      "No. Observations:                2996   AIC:                             9537.\n",
      "Df Residuals:                    2944   BIC:                             9850.\n",
      "Df Model:                          51                                         \n",
      "Covariance Type:                  hc3                                         \n",
      "=======================================================================================\n",
      "                          coef    std err          z      P>|z|      [0.025      0.975]\n",
      "---------------------------------------------------------------------------------------\n",
      "intercept               4.8234      0.133     36.245      0.000       4.563       5.084\n",
      "l_directorSumEffect     0.1941      0.014     14.162      0.000       0.167       0.221\n",
      "l_actorSumEffect       -0.0534      0.012     -4.559      0.000      -0.076      -0.030\n",
      "l_writerSumEffect       0.0931      0.012      7.514      0.000       0.069       0.117\n",
      "d动画                     0.7133      0.124      5.756      0.000       0.470       0.956\n",
      "d悬疑                     0.0370      0.068      0.547      0.584      -0.096       0.169\n",
      "d剧情                     0.5623      0.057      9.871      0.000       0.451       0.674\n",
      "d西部                     0.5211      0.282      1.847      0.065      -0.032       1.074\n",
      "d犯罪                     0.1598      0.083      1.928      0.054      -0.003       0.322\n",
      "d灾难                    -0.0356      0.242     -0.147      0.883      -0.511       0.439\n",
      "d传记                     0.5657      0.178      3.170      0.002       0.216       0.915\n",
      "d科幻                     0.0016      0.187      0.009      0.993      -0.365       0.368\n",
      "d儿童                     0.3135      0.173      1.814      0.070      -0.025       0.652\n",
      "d歌舞                    -0.2924      0.397     -0.737      0.461      -1.070       0.485\n",
      "d奇幻                    -0.2284      0.087     -2.623      0.009      -0.399      -0.058\n",
      "d家庭                     0.6408      0.108      5.909      0.000       0.428       0.853\n",
      "d喜剧                    -0.2735      0.057     -4.772      0.000      -0.386      -0.161\n",
      "d音乐                     0.5364      0.265      2.024      0.043       0.017       1.056\n",
      "d惊悚                    -0.7891      0.091     -8.646      0.000      -0.968      -0.610\n",
      "d运动                     0.0023      0.230      0.010      0.992      -0.449       0.453\n",
      "d历史                     0.3564      0.142      2.504      0.012       0.077       0.635\n",
      "d古装                    -0.0618      0.092     -0.674      0.500      -0.241       0.118\n",
      "d爱情                    -0.4015      0.058     -6.982      0.000      -0.514      -0.289\n",
      "d冒险                    -0.2695      0.106     -2.537      0.011      -0.478      -0.061\n",
      "d恐怖                    -0.5237      0.129     -4.056      0.000      -0.777      -0.271\n",
      "d动作                    -0.3839      0.066     -5.785      0.000      -0.514      -0.254\n",
      "d战争                    -0.0173      0.185     -0.094      0.925      -0.379       0.345\n",
      "d武侠                     0.2784      0.151      1.847      0.065      -0.017       0.574\n",
      "y2011                  -0.1278      0.127     -1.004      0.315      -0.377       0.122\n",
      "y2012                  -0.1923      0.110     -1.751      0.080      -0.408       0.023\n",
      "y2013                  -0.3631      0.108     -3.358      0.001      -0.575      -0.151\n",
      "y2014                  -0.5524      0.110     -5.006      0.000      -0.769      -0.336\n",
      "y2015                  -0.5346      0.111     -4.803      0.000      -0.753      -0.316\n",
      "y2016                  -0.5803      0.112     -5.178      0.000      -0.800      -0.361\n",
      "y2017                  -0.7441      0.119     -6.269      0.000      -0.977      -0.511\n",
      "y2018                  -0.6406      0.116     -5.519      0.000      -0.868      -0.413\n",
      "y2019                  -0.6154      0.118     -5.200      0.000      -0.847      -0.383\n",
      "y2020                  -0.6388      0.121     -5.296      0.000      -0.875      -0.402\n",
      "y2021                  -0.3942      0.128     -3.070      0.002      -0.646      -0.143\n",
      "y2022                  -0.5717      0.233     -2.451      0.014      -1.029      -0.114\n",
      "cJapan                 -0.2007      0.205     -0.977      0.329      -0.603       0.202\n",
      "cRevolution            -0.3971      0.287     -1.384      0.166      -0.959       0.165\n",
      "cCommunist              0.3670      0.335      1.097      0.273      -0.289       1.023\n",
      "cPublic                 0.6064      0.218      2.781      0.005       0.179       1.034\n",
      "cLaw                   -0.4157      0.281     -1.481      0.139      -0.966       0.134\n",
      "cRole                   0.0135      0.504      0.027      0.979      -0.974       1.001\n",
      "cSociety                0.2851      0.435      0.656      0.512      -0.567       1.138\n",
      "cCulture               -0.5630      0.307     -1.834      0.067      -1.165       0.039\n",
      "cJingoistic             0.0766      0.367      0.208      0.835      -0.643       0.797\n",
      "cDiplomatic             0.5952      0.384      1.550      0.121      -0.157       1.348\n",
      "cKorean                -0.1247      0.354     -0.352      0.725      -0.819       0.570\n",
      "cChildren              -2.5870      0.480     -5.391      0.000      -3.527      -1.647\n",
      "==============================================================================\n",
      "Omnibus:                        2.641   Durbin-Watson:                   1.923\n",
      "Prob(Omnibus):                  0.267   Jarque-Bera (JB):                2.487\n",
      "Skew:                           0.020   Prob(JB):                        0.288\n",
      "Kurtosis:                       2.864   Cond. No.                         255.\n",
      "==============================================================================\n",
      "\n",
      "Notes:\n",
      "[1] Standard Errors are heteroscedasticity robust (HC3)\n"
     ]
    }
   ],
   "source": [
    "mod = sm.OLS(y, X)\n",
    "res = mod.fit(cov_type='hc3')\n",
    "print(res.summary())\n",
    "# thankfully, children are widely panned"
   ],
   "metadata": {
    "collapsed": false,
    "pycharm": {
     "name": "#%%\n"
    }
   }
  },
  {
   "cell_type": "markdown",
   "source": [
    "## Effect of categories on count"
   ],
   "metadata": {
    "collapsed": false,
    "pycharm": {
     "name": "#%% md\n"
    }
   }
  },
  {
   "cell_type": "code",
   "execution_count": 84,
   "outputs": [],
   "source": [
    "y = movies.ratingCount.apply(np.log)"
   ],
   "metadata": {
    "collapsed": false,
    "pycharm": {
     "name": "#%%\n"
    }
   }
  },
  {
   "cell_type": "code",
   "execution_count": 85,
   "outputs": [
    {
     "name": "stdout",
     "output_type": "stream",
     "text": [
      "                            OLS Regression Results                            \n",
      "==============================================================================\n",
      "Dep. Variable:            ratingCount   R-squared:                       0.655\n",
      "Model:                            OLS   Adj. R-squared:                  0.649\n",
      "Method:                 Least Squares   F-statistic:                     124.1\n",
      "Date:                Tue, 05 Jul 2022   Prob (F-statistic):               0.00\n",
      "Time:                        18:03:01   Log-Likelihood:                -5304.1\n",
      "No. Observations:                2996   AIC:                         1.071e+04\n",
      "Df Residuals:                    2944   BIC:                         1.102e+04\n",
      "Df Model:                          51                                         \n",
      "Covariance Type:                  hc3                                         \n",
      "=======================================================================================\n",
      "                          coef    std err          z      P>|z|      [0.025      0.975]\n",
      "---------------------------------------------------------------------------------------\n",
      "intercept               1.7912      0.171     10.489      0.000       1.456       2.126\n",
      "l_directorSumEffect     0.2595      0.018     14.585      0.000       0.225       0.294\n",
      "l_actorSumEffect        0.4178      0.014     29.113      0.000       0.390       0.446\n",
      "l_writerSumEffect       0.1710      0.016     10.765      0.000       0.140       0.202\n",
      "d动画                     0.9154      0.152      6.039      0.000       0.618       1.213\n",
      "d悬疑                     0.1134      0.082      1.381      0.167      -0.047       0.274\n",
      "d剧情                     0.0281      0.069      0.410      0.682      -0.106       0.162\n",
      "d西部                     0.7612      0.626      1.217      0.224      -0.465       1.988\n",
      "d犯罪                     0.4870      0.110      4.410      0.000       0.271       0.703\n",
      "d灾难                     0.9565      0.286      3.340      0.001       0.395       1.518\n",
      "d传记                     0.0898      0.198      0.453      0.651      -0.299       0.478\n",
      "d科幻                     0.0203      0.203      0.100      0.920      -0.377       0.417\n",
      "d儿童                     0.3530      0.182      1.934      0.053      -0.005       0.711\n",
      "d歌舞                    -0.7258      0.378     -1.919      0.055      -1.467       0.015\n",
      "d奇幻                     0.3307      0.104      3.188      0.001       0.127       0.534\n",
      "d家庭                     0.5405      0.151      3.591      0.000       0.246       0.836\n",
      "d喜剧                     0.4986      0.072      6.960      0.000       0.358       0.639\n",
      "d音乐                     0.0176      0.271      0.065      0.948      -0.514       0.549\n",
      "d惊悚                     0.4878      0.102      4.779      0.000       0.288       0.688\n",
      "d运动                     0.2516      0.245      1.027      0.304      -0.229       0.732\n",
      "d历史                     0.3586      0.161      2.234      0.025       0.044       0.673\n",
      "d古装                    -0.0621      0.130     -0.479      0.632      -0.316       0.192\n",
      "d爱情                     0.3359      0.069      4.842      0.000       0.200       0.472\n",
      "d冒险                     0.3589      0.122      2.934      0.003       0.119       0.599\n",
      "d恐怖                     0.5439      0.136      3.998      0.000       0.277       0.811\n",
      "d动作                     0.1523      0.082      1.866      0.062      -0.008       0.312\n",
      "d战争                     0.1678      0.180      0.933      0.351      -0.185       0.520\n",
      "d武侠                     0.2200      0.163      1.354      0.176      -0.099       0.539\n",
      "y2011                  -0.0245      0.165     -0.149      0.882      -0.348       0.299\n",
      "y2012                  -0.0730      0.148     -0.492      0.622      -0.363       0.217\n",
      "y2013                   0.2717      0.153      1.778      0.075      -0.028       0.571\n",
      "y2014                   0.2802      0.151      1.856      0.063      -0.016       0.576\n",
      "y2015                   0.2742      0.149      1.839      0.066      -0.018       0.566\n",
      "y2016                   0.1683      0.145      1.164      0.244      -0.115       0.452\n",
      "y2017                   0.6759      0.149      4.534      0.000       0.384       0.968\n",
      "y2018                   0.7114      0.154      4.613      0.000       0.409       1.014\n",
      "y2019                   0.9437      0.161      5.877      0.000       0.629       1.258\n",
      "y2020                   0.8811      0.170      5.195      0.000       0.549       1.214\n",
      "y2021                   1.0310      0.168      6.141      0.000       0.702       1.360\n",
      "y2022                   1.0688      0.265      4.032      0.000       0.549       1.588\n",
      "cJapan                 -0.2756      0.191     -1.444      0.149      -0.650       0.098\n",
      "cRevolution            -0.7639      0.257     -2.973      0.003      -1.267      -0.260\n",
      "cCommunist             -0.7095      0.403     -1.761      0.078      -1.499       0.080\n",
      "cPublic                -0.3605      0.294     -1.226      0.220      -0.937       0.216\n",
      "cLaw                   -0.3799      0.292     -1.299      0.194      -0.953       0.193\n",
      "cRole                  -0.8688      0.465     -1.870      0.062      -1.779       0.042\n",
      "cSociety               -0.9609      0.525     -1.830      0.067      -1.990       0.068\n",
      "cCulture               -0.0250      0.428     -0.058      0.953      -0.864       0.814\n",
      "cJingoistic             0.8168      0.405      2.017      0.044       0.023       1.611\n",
      "cDiplomatic             0.2760      0.386      0.714      0.475      -0.481       1.033\n",
      "cKorean                 0.0764      0.405      0.189      0.850      -0.716       0.869\n",
      "cChildren              -0.0129      0.260     -0.050      0.960      -0.523       0.498\n",
      "==============================================================================\n",
      "Omnibus:                       10.066   Durbin-Watson:                   1.869\n",
      "Prob(Omnibus):                  0.007   Jarque-Bera (JB):               10.059\n",
      "Skew:                          -0.141   Prob(JB):                      0.00654\n",
      "Kurtosis:                       3.037   Cond. No.                         255.\n",
      "==============================================================================\n",
      "\n",
      "Notes:\n",
      "[1] Standard Errors are heteroscedasticity robust (HC3)\n"
     ]
    }
   ],
   "source": [
    "mod = sm.OLS(y, X)\n",
    "res = mod.fit(cov_type='hc3')\n",
    "print(res.summary())"
   ],
   "metadata": {
    "collapsed": false,
    "pycharm": {
     "name": "#%%\n"
    }
   }
  }
 ],
 "metadata": {
  "kernelspec": {
   "display_name": "Python 3",
   "language": "python",
   "name": "python3"
  },
  "language_info": {
   "codemirror_mode": {
    "name": "ipython",
    "version": 2
   },
   "file_extension": ".py",
   "mimetype": "text/x-python",
   "name": "python",
   "nbconvert_exporter": "python",
   "pygments_lexer": "ipython2",
   "version": "2.7.6"
  }
 },
 "nbformat": 4,
 "nbformat_minor": 0
}
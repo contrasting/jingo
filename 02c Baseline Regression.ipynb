{
 "cells": [
  {
   "cell_type": "code",
   "execution_count": 1,
   "outputs": [],
   "source": [
    "import pandas as pd\n",
    "from ast import literal_eval"
   ],
   "metadata": {
    "collapsed": false,
    "pycharm": {
     "name": "#%%\n"
    }
   }
  },
  {
   "cell_type": "code",
   "execution_count": 2,
   "outputs": [],
   "source": [
    "converters = {\"director\": literal_eval, \"author\": literal_eval, \"actor\": literal_eval, \"genre\": literal_eval}\n",
    "movies = pd.read_csv(\"./data/movies_actors_df.csv\", index_col=0, converters=converters)"
   ],
   "metadata": {
    "collapsed": false,
    "pycharm": {
     "name": "#%%\n"
    }
   }
  },
  {
   "cell_type": "code",
   "execution_count": 3,
   "outputs": [
    {
     "data": {
      "text/plain": "         id       name  year         genre  ratingCount  bestRating  \\\n0  10344754      毒战 毒戰  2012  [剧情, 动作, 犯罪]       210072          10   \n1  10355621  粉红女郎之爱人快跑  2013      [喜剧, 爱情]         1826          10   \n2  10355633      绝命藏宝图  2012      [动作, 悬疑]           78          10   \n4  10430281    七个隆咚锵咚锵  2012      [喜剧, 爱情]          506          10   \n5  10437802  武当少年 武當少年  2010      [剧情, 儿童]           68          10   \n\n   worstRating  ratingValue  directorMaxEffect  actorMaxEffect  \\\n0            2          7.5              34235           27592   \n1            2          3.2                 65            3861   \n2            2          3.2                 43              43   \n4            2          4.9                115             161   \n5            2          6.1                  2             192   \n\n   writerMaxEffect  directorSumEffect  actorSumEffect  writerSumEffect  \n0             5441              34235          107664             7410  \n1               65                 65           13658               65  \n2               43                 43              69               43  \n4              115                115             340              115  \n5                2                  2             233                2  ",
      "text/html": "<div>\n<style scoped>\n    .dataframe tbody tr th:only-of-type {\n        vertical-align: middle;\n    }\n\n    .dataframe tbody tr th {\n        vertical-align: top;\n    }\n\n    .dataframe thead th {\n        text-align: right;\n    }\n</style>\n<table border=\"1\" class=\"dataframe\">\n  <thead>\n    <tr style=\"text-align: right;\">\n      <th></th>\n      <th>id</th>\n      <th>name</th>\n      <th>year</th>\n      <th>genre</th>\n      <th>ratingCount</th>\n      <th>bestRating</th>\n      <th>worstRating</th>\n      <th>ratingValue</th>\n      <th>directorMaxEffect</th>\n      <th>actorMaxEffect</th>\n      <th>writerMaxEffect</th>\n      <th>directorSumEffect</th>\n      <th>actorSumEffect</th>\n      <th>writerSumEffect</th>\n    </tr>\n  </thead>\n  <tbody>\n    <tr>\n      <th>0</th>\n      <td>10344754</td>\n      <td>毒战 毒戰</td>\n      <td>2012</td>\n      <td>[剧情, 动作, 犯罪]</td>\n      <td>210072</td>\n      <td>10</td>\n      <td>2</td>\n      <td>7.5</td>\n      <td>34235</td>\n      <td>27592</td>\n      <td>5441</td>\n      <td>34235</td>\n      <td>107664</td>\n      <td>7410</td>\n    </tr>\n    <tr>\n      <th>1</th>\n      <td>10355621</td>\n      <td>粉红女郎之爱人快跑</td>\n      <td>2013</td>\n      <td>[喜剧, 爱情]</td>\n      <td>1826</td>\n      <td>10</td>\n      <td>2</td>\n      <td>3.2</td>\n      <td>65</td>\n      <td>3861</td>\n      <td>65</td>\n      <td>65</td>\n      <td>13658</td>\n      <td>65</td>\n    </tr>\n    <tr>\n      <th>2</th>\n      <td>10355633</td>\n      <td>绝命藏宝图</td>\n      <td>2012</td>\n      <td>[动作, 悬疑]</td>\n      <td>78</td>\n      <td>10</td>\n      <td>2</td>\n      <td>3.2</td>\n      <td>43</td>\n      <td>43</td>\n      <td>43</td>\n      <td>43</td>\n      <td>69</td>\n      <td>43</td>\n    </tr>\n    <tr>\n      <th>4</th>\n      <td>10430281</td>\n      <td>七个隆咚锵咚锵</td>\n      <td>2012</td>\n      <td>[喜剧, 爱情]</td>\n      <td>506</td>\n      <td>10</td>\n      <td>2</td>\n      <td>4.9</td>\n      <td>115</td>\n      <td>161</td>\n      <td>115</td>\n      <td>115</td>\n      <td>340</td>\n      <td>115</td>\n    </tr>\n    <tr>\n      <th>5</th>\n      <td>10437802</td>\n      <td>武当少年 武當少年</td>\n      <td>2010</td>\n      <td>[剧情, 儿童]</td>\n      <td>68</td>\n      <td>10</td>\n      <td>2</td>\n      <td>6.1</td>\n      <td>2</td>\n      <td>192</td>\n      <td>2</td>\n      <td>2</td>\n      <td>233</td>\n      <td>2</td>\n    </tr>\n  </tbody>\n</table>\n</div>"
     },
     "execution_count": 3,
     "metadata": {},
     "output_type": "execute_result"
    }
   ],
   "source": [
    "# drop irrelevant columns\n",
    "movies.drop(columns=[\"url\", \"image\", \"datePublished\", \"duration\", \"description\", \"language\"], inplace=True, errors=\"ignore\")\n",
    "movies.head()"
   ],
   "metadata": {
    "collapsed": false,
    "pycharm": {
     "name": "#%%\n"
    }
   }
  },
  {
   "cell_type": "code",
   "execution_count": 4,
   "outputs": [],
   "source": [
    "# cf 02a summary statistics\n",
    "genres = {'传记', '儿童', '冒险', '剧情', '动作', '动画', '历史', '古装', '喜剧', '奇幻', '家庭', '恐怖', '悬疑', '惊悚', '战争', '歌舞', '武侠', '灾难',\n",
    "          '爱情', '犯罪', '科幻', '西部', '运动', '音乐'}"
   ],
   "metadata": {
    "collapsed": false,
    "pycharm": {
     "name": "#%%\n"
    }
   }
  },
  {
   "cell_type": "code",
   "execution_count": 5,
   "outputs": [
    {
     "data": {
      "text/plain": "         id       name  year         genre  ratingCount  bestRating  \\\n0  10344754      毒战 毒戰  2012  [剧情, 动作, 犯罪]       210072          10   \n1  10355621  粉红女郎之爱人快跑  2013      [喜剧, 爱情]         1826          10   \n2  10355633      绝命藏宝图  2012      [动作, 悬疑]           78          10   \n4  10430281    七个隆咚锵咚锵  2012      [喜剧, 爱情]          506          10   \n5  10437802  武当少年 武當少年  2010      [剧情, 儿童]           68          10   \n\n   worstRating  ratingValue  directorMaxEffect  actorMaxEffect  ...  d历史  d西部  \\\n0            2          7.5              34235           27592  ...    0    0   \n1            2          3.2                 65            3861  ...    0    0   \n2            2          3.2                 43              43  ...    0    0   \n4            2          4.9                115             161  ...    0    0   \n5            2          6.1                  2             192  ...    0    0   \n\n   d动画  d爱情  d犯罪  d动作  d冒险  d悬疑  d剧情  d恐怖  \n0    0    0    1    1    0    0    1    0  \n1    0    1    0    0    0    0    0    0  \n2    0    0    0    1    0    1    0    0  \n4    0    1    0    0    0    0    0    0  \n5    0    0    0    0    0    0    1    0  \n\n[5 rows x 38 columns]",
      "text/html": "<div>\n<style scoped>\n    .dataframe tbody tr th:only-of-type {\n        vertical-align: middle;\n    }\n\n    .dataframe tbody tr th {\n        vertical-align: top;\n    }\n\n    .dataframe thead th {\n        text-align: right;\n    }\n</style>\n<table border=\"1\" class=\"dataframe\">\n  <thead>\n    <tr style=\"text-align: right;\">\n      <th></th>\n      <th>id</th>\n      <th>name</th>\n      <th>year</th>\n      <th>genre</th>\n      <th>ratingCount</th>\n      <th>bestRating</th>\n      <th>worstRating</th>\n      <th>ratingValue</th>\n      <th>directorMaxEffect</th>\n      <th>actorMaxEffect</th>\n      <th>...</th>\n      <th>d历史</th>\n      <th>d西部</th>\n      <th>d动画</th>\n      <th>d爱情</th>\n      <th>d犯罪</th>\n      <th>d动作</th>\n      <th>d冒险</th>\n      <th>d悬疑</th>\n      <th>d剧情</th>\n      <th>d恐怖</th>\n    </tr>\n  </thead>\n  <tbody>\n    <tr>\n      <th>0</th>\n      <td>10344754</td>\n      <td>毒战 毒戰</td>\n      <td>2012</td>\n      <td>[剧情, 动作, 犯罪]</td>\n      <td>210072</td>\n      <td>10</td>\n      <td>2</td>\n      <td>7.5</td>\n      <td>34235</td>\n      <td>27592</td>\n      <td>...</td>\n      <td>0</td>\n      <td>0</td>\n      <td>0</td>\n      <td>0</td>\n      <td>1</td>\n      <td>1</td>\n      <td>0</td>\n      <td>0</td>\n      <td>1</td>\n      <td>0</td>\n    </tr>\n    <tr>\n      <th>1</th>\n      <td>10355621</td>\n      <td>粉红女郎之爱人快跑</td>\n      <td>2013</td>\n      <td>[喜剧, 爱情]</td>\n      <td>1826</td>\n      <td>10</td>\n      <td>2</td>\n      <td>3.2</td>\n      <td>65</td>\n      <td>3861</td>\n      <td>...</td>\n      <td>0</td>\n      <td>0</td>\n      <td>0</td>\n      <td>1</td>\n      <td>0</td>\n      <td>0</td>\n      <td>0</td>\n      <td>0</td>\n      <td>0</td>\n      <td>0</td>\n    </tr>\n    <tr>\n      <th>2</th>\n      <td>10355633</td>\n      <td>绝命藏宝图</td>\n      <td>2012</td>\n      <td>[动作, 悬疑]</td>\n      <td>78</td>\n      <td>10</td>\n      <td>2</td>\n      <td>3.2</td>\n      <td>43</td>\n      <td>43</td>\n      <td>...</td>\n      <td>0</td>\n      <td>0</td>\n      <td>0</td>\n      <td>0</td>\n      <td>0</td>\n      <td>1</td>\n      <td>0</td>\n      <td>1</td>\n      <td>0</td>\n      <td>0</td>\n    </tr>\n    <tr>\n      <th>4</th>\n      <td>10430281</td>\n      <td>七个隆咚锵咚锵</td>\n      <td>2012</td>\n      <td>[喜剧, 爱情]</td>\n      <td>506</td>\n      <td>10</td>\n      <td>2</td>\n      <td>4.9</td>\n      <td>115</td>\n      <td>161</td>\n      <td>...</td>\n      <td>0</td>\n      <td>0</td>\n      <td>0</td>\n      <td>1</td>\n      <td>0</td>\n      <td>0</td>\n      <td>0</td>\n      <td>0</td>\n      <td>0</td>\n      <td>0</td>\n    </tr>\n    <tr>\n      <th>5</th>\n      <td>10437802</td>\n      <td>武当少年 武當少年</td>\n      <td>2010</td>\n      <td>[剧情, 儿童]</td>\n      <td>68</td>\n      <td>10</td>\n      <td>2</td>\n      <td>6.1</td>\n      <td>2</td>\n      <td>192</td>\n      <td>...</td>\n      <td>0</td>\n      <td>0</td>\n      <td>0</td>\n      <td>0</td>\n      <td>0</td>\n      <td>0</td>\n      <td>0</td>\n      <td>0</td>\n      <td>1</td>\n      <td>0</td>\n    </tr>\n  </tbody>\n</table>\n<p>5 rows × 38 columns</p>\n</div>"
     },
     "execution_count": 5,
     "metadata": {},
     "output_type": "execute_result"
    }
   ],
   "source": [
    "# build genre dummies\n",
    "for genre in genres:\n",
    "    dummies = []\n",
    "    for g in movies.genre:\n",
    "        dummies.append(1 if genre in g else 0)\n",
    "    movies.insert(len(movies.columns), f\"d{genre}\", dummies)\n",
    "\n",
    "movies.head()"
   ],
   "metadata": {
    "collapsed": false,
    "pycharm": {
     "name": "#%%\n"
    }
   }
  },
  {
   "cell_type": "code",
   "execution_count": 6,
   "outputs": [
    {
     "data": {
      "text/plain": "         id       name  year         genre  ratingCount  bestRating  \\\n0  10344754      毒战 毒戰  2012  [剧情, 动作, 犯罪]       210072          10   \n1  10355621  粉红女郎之爱人快跑  2013      [喜剧, 爱情]         1826          10   \n2  10355633      绝命藏宝图  2012      [动作, 悬疑]           78          10   \n4  10430281    七个隆咚锵咚锵  2012      [喜剧, 爱情]          506          10   \n5  10437802  武当少年 武當少年  2010      [剧情, 儿童]           68          10   \n\n   worstRating  ratingValue  directorMaxEffect  actorMaxEffect  ...  y2013  \\\n0            2          7.5              34235           27592  ...      0   \n1            2          3.2                 65            3861  ...      1   \n2            2          3.2                 43              43  ...      0   \n4            2          4.9                115             161  ...      0   \n5            2          6.1                  2             192  ...      0   \n\n   y2014  y2015  y2016  y2017  y2018  y2019  y2020  y2021  y2022  \n0      0      0      0      0      0      0      0      0      0  \n1      0      0      0      0      0      0      0      0      0  \n2      0      0      0      0      0      0      0      0      0  \n4      0      0      0      0      0      0      0      0      0  \n5      0      0      0      0      0      0      0      0      0  \n\n[5 rows x 50 columns]",
      "text/html": "<div>\n<style scoped>\n    .dataframe tbody tr th:only-of-type {\n        vertical-align: middle;\n    }\n\n    .dataframe tbody tr th {\n        vertical-align: top;\n    }\n\n    .dataframe thead th {\n        text-align: right;\n    }\n</style>\n<table border=\"1\" class=\"dataframe\">\n  <thead>\n    <tr style=\"text-align: right;\">\n      <th></th>\n      <th>id</th>\n      <th>name</th>\n      <th>year</th>\n      <th>genre</th>\n      <th>ratingCount</th>\n      <th>bestRating</th>\n      <th>worstRating</th>\n      <th>ratingValue</th>\n      <th>directorMaxEffect</th>\n      <th>actorMaxEffect</th>\n      <th>...</th>\n      <th>y2013</th>\n      <th>y2014</th>\n      <th>y2015</th>\n      <th>y2016</th>\n      <th>y2017</th>\n      <th>y2018</th>\n      <th>y2019</th>\n      <th>y2020</th>\n      <th>y2021</th>\n      <th>y2022</th>\n    </tr>\n  </thead>\n  <tbody>\n    <tr>\n      <th>0</th>\n      <td>10344754</td>\n      <td>毒战 毒戰</td>\n      <td>2012</td>\n      <td>[剧情, 动作, 犯罪]</td>\n      <td>210072</td>\n      <td>10</td>\n      <td>2</td>\n      <td>7.5</td>\n      <td>34235</td>\n      <td>27592</td>\n      <td>...</td>\n      <td>0</td>\n      <td>0</td>\n      <td>0</td>\n      <td>0</td>\n      <td>0</td>\n      <td>0</td>\n      <td>0</td>\n      <td>0</td>\n      <td>0</td>\n      <td>0</td>\n    </tr>\n    <tr>\n      <th>1</th>\n      <td>10355621</td>\n      <td>粉红女郎之爱人快跑</td>\n      <td>2013</td>\n      <td>[喜剧, 爱情]</td>\n      <td>1826</td>\n      <td>10</td>\n      <td>2</td>\n      <td>3.2</td>\n      <td>65</td>\n      <td>3861</td>\n      <td>...</td>\n      <td>1</td>\n      <td>0</td>\n      <td>0</td>\n      <td>0</td>\n      <td>0</td>\n      <td>0</td>\n      <td>0</td>\n      <td>0</td>\n      <td>0</td>\n      <td>0</td>\n    </tr>\n    <tr>\n      <th>2</th>\n      <td>10355633</td>\n      <td>绝命藏宝图</td>\n      <td>2012</td>\n      <td>[动作, 悬疑]</td>\n      <td>78</td>\n      <td>10</td>\n      <td>2</td>\n      <td>3.2</td>\n      <td>43</td>\n      <td>43</td>\n      <td>...</td>\n      <td>0</td>\n      <td>0</td>\n      <td>0</td>\n      <td>0</td>\n      <td>0</td>\n      <td>0</td>\n      <td>0</td>\n      <td>0</td>\n      <td>0</td>\n      <td>0</td>\n    </tr>\n    <tr>\n      <th>4</th>\n      <td>10430281</td>\n      <td>七个隆咚锵咚锵</td>\n      <td>2012</td>\n      <td>[喜剧, 爱情]</td>\n      <td>506</td>\n      <td>10</td>\n      <td>2</td>\n      <td>4.9</td>\n      <td>115</td>\n      <td>161</td>\n      <td>...</td>\n      <td>0</td>\n      <td>0</td>\n      <td>0</td>\n      <td>0</td>\n      <td>0</td>\n      <td>0</td>\n      <td>0</td>\n      <td>0</td>\n      <td>0</td>\n      <td>0</td>\n    </tr>\n    <tr>\n      <th>5</th>\n      <td>10437802</td>\n      <td>武当少年 武當少年</td>\n      <td>2010</td>\n      <td>[剧情, 儿童]</td>\n      <td>68</td>\n      <td>10</td>\n      <td>2</td>\n      <td>6.1</td>\n      <td>2</td>\n      <td>192</td>\n      <td>...</td>\n      <td>0</td>\n      <td>0</td>\n      <td>0</td>\n      <td>0</td>\n      <td>0</td>\n      <td>0</td>\n      <td>0</td>\n      <td>0</td>\n      <td>0</td>\n      <td>0</td>\n    </tr>\n  </tbody>\n</table>\n<p>5 rows × 50 columns</p>\n</div>"
     },
     "execution_count": 6,
     "metadata": {},
     "output_type": "execute_result"
    }
   ],
   "source": [
    "# build year dummies\n",
    "# careful: dummy variable trap\n",
    "for year in range(2011, 2023):\n",
    "    dummies = []\n",
    "    for y in movies.year:\n",
    "        dummies.append(1 if year == y else 0)\n",
    "    movies.insert(len(movies.columns), f\"y{year}\", dummies)\n",
    "\n",
    "movies.head()"
   ],
   "metadata": {
    "collapsed": false,
    "pycharm": {
     "name": "#%%\n"
    }
   }
  },
  {
   "cell_type": "code",
   "execution_count": 7,
   "outputs": [],
   "source": [
    "import statsmodels.api as sm"
   ],
   "metadata": {
    "collapsed": false,
    "pycharm": {
     "name": "#%%\n"
    }
   }
  },
  {
   "cell_type": "code",
   "execution_count": 8,
   "outputs": [
    {
     "data": {
      "text/plain": "   intercept  directorSumEffect  actorSumEffect  writerSumEffect  d运动  d家庭  \\\n0          1              34235          107664             7410    0    0   \n1          1                 65           13658               65    0    0   \n2          1                 43              69               43    0    0   \n4          1                115             340              115    0    0   \n5          1                  2             233                2    0    0   \n\n   d喜剧  d古装  d科幻  d武侠  ...  y2013  y2014  y2015  y2016  y2017  y2018  y2019  \\\n0    0    0    0    0  ...      0      0      0      0      0      0      0   \n1    1    0    0    0  ...      1      0      0      0      0      0      0   \n2    0    0    0    0  ...      0      0      0      0      0      0      0   \n4    1    0    0    0  ...      0      0      0      0      0      0      0   \n5    0    0    0    0  ...      0      0      0      0      0      0      0   \n\n   y2020  y2021  y2022  \n0      0      0      0  \n1      0      0      0  \n2      0      0      0  \n4      0      0      0  \n5      0      0      0  \n\n[5 rows x 40 columns]",
      "text/html": "<div>\n<style scoped>\n    .dataframe tbody tr th:only-of-type {\n        vertical-align: middle;\n    }\n\n    .dataframe tbody tr th {\n        vertical-align: top;\n    }\n\n    .dataframe thead th {\n        text-align: right;\n    }\n</style>\n<table border=\"1\" class=\"dataframe\">\n  <thead>\n    <tr style=\"text-align: right;\">\n      <th></th>\n      <th>intercept</th>\n      <th>directorSumEffect</th>\n      <th>actorSumEffect</th>\n      <th>writerSumEffect</th>\n      <th>d运动</th>\n      <th>d家庭</th>\n      <th>d喜剧</th>\n      <th>d古装</th>\n      <th>d科幻</th>\n      <th>d武侠</th>\n      <th>...</th>\n      <th>y2013</th>\n      <th>y2014</th>\n      <th>y2015</th>\n      <th>y2016</th>\n      <th>y2017</th>\n      <th>y2018</th>\n      <th>y2019</th>\n      <th>y2020</th>\n      <th>y2021</th>\n      <th>y2022</th>\n    </tr>\n  </thead>\n  <tbody>\n    <tr>\n      <th>0</th>\n      <td>1</td>\n      <td>34235</td>\n      <td>107664</td>\n      <td>7410</td>\n      <td>0</td>\n      <td>0</td>\n      <td>0</td>\n      <td>0</td>\n      <td>0</td>\n      <td>0</td>\n      <td>...</td>\n      <td>0</td>\n      <td>0</td>\n      <td>0</td>\n      <td>0</td>\n      <td>0</td>\n      <td>0</td>\n      <td>0</td>\n      <td>0</td>\n      <td>0</td>\n      <td>0</td>\n    </tr>\n    <tr>\n      <th>1</th>\n      <td>1</td>\n      <td>65</td>\n      <td>13658</td>\n      <td>65</td>\n      <td>0</td>\n      <td>0</td>\n      <td>1</td>\n      <td>0</td>\n      <td>0</td>\n      <td>0</td>\n      <td>...</td>\n      <td>1</td>\n      <td>0</td>\n      <td>0</td>\n      <td>0</td>\n      <td>0</td>\n      <td>0</td>\n      <td>0</td>\n      <td>0</td>\n      <td>0</td>\n      <td>0</td>\n    </tr>\n    <tr>\n      <th>2</th>\n      <td>1</td>\n      <td>43</td>\n      <td>69</td>\n      <td>43</td>\n      <td>0</td>\n      <td>0</td>\n      <td>0</td>\n      <td>0</td>\n      <td>0</td>\n      <td>0</td>\n      <td>...</td>\n      <td>0</td>\n      <td>0</td>\n      <td>0</td>\n      <td>0</td>\n      <td>0</td>\n      <td>0</td>\n      <td>0</td>\n      <td>0</td>\n      <td>0</td>\n      <td>0</td>\n    </tr>\n    <tr>\n      <th>4</th>\n      <td>1</td>\n      <td>115</td>\n      <td>340</td>\n      <td>115</td>\n      <td>0</td>\n      <td>0</td>\n      <td>1</td>\n      <td>0</td>\n      <td>0</td>\n      <td>0</td>\n      <td>...</td>\n      <td>0</td>\n      <td>0</td>\n      <td>0</td>\n      <td>0</td>\n      <td>0</td>\n      <td>0</td>\n      <td>0</td>\n      <td>0</td>\n      <td>0</td>\n      <td>0</td>\n    </tr>\n    <tr>\n      <th>5</th>\n      <td>1</td>\n      <td>2</td>\n      <td>233</td>\n      <td>2</td>\n      <td>0</td>\n      <td>0</td>\n      <td>0</td>\n      <td>0</td>\n      <td>0</td>\n      <td>0</td>\n      <td>...</td>\n      <td>0</td>\n      <td>0</td>\n      <td>0</td>\n      <td>0</td>\n      <td>0</td>\n      <td>0</td>\n      <td>0</td>\n      <td>0</td>\n      <td>0</td>\n      <td>0</td>\n    </tr>\n  </tbody>\n</table>\n<p>5 rows × 40 columns</p>\n</div>"
     },
     "execution_count": 8,
     "metadata": {},
     "output_type": "execute_result"
    }
   ],
   "source": [
    "y = movies.ratingValue\n",
    "X = movies.iloc[:,11:]\n",
    "# add intercept\n",
    "X.insert(0, \"intercept\", 1)\n",
    "X.head()"
   ],
   "metadata": {
    "collapsed": false,
    "pycharm": {
     "name": "#%%\n"
    }
   }
  },
  {
   "cell_type": "code",
   "execution_count": 9,
   "outputs": [
    {
     "name": "stdout",
     "output_type": "stream",
     "text": [
      "                            OLS Regression Results                            \n",
      "==============================================================================\n",
      "Dep. Variable:            ratingValue   R-squared:                       0.291\n",
      "Model:                            OLS   Adj. R-squared:                  0.281\n",
      "Method:                 Least Squares   F-statistic:                     31.07\n",
      "Date:                Mon, 27 Jun 2022   Prob (F-statistic):          6.92e-189\n",
      "Time:                        18:03:27   Log-Likelihood:                -5001.4\n",
      "No. Observations:                2996   AIC:                         1.008e+04\n",
      "Df Residuals:                    2956   BIC:                         1.032e+04\n",
      "Df Model:                          39                                         \n",
      "Covariance Type:            nonrobust                                         \n",
      "=====================================================================================\n",
      "                        coef    std err          t      P>|t|      [0.025      0.975]\n",
      "-------------------------------------------------------------------------------------\n",
      "intercept             5.4241      0.122     44.584      0.000       5.186       5.663\n",
      "directorSumEffect  2.874e-05   5.44e-06      5.282      0.000    1.81e-05    3.94e-05\n",
      "actorSumEffect     4.501e-06   5.94e-07      7.579      0.000    3.34e-06    5.67e-06\n",
      "writerSumEffect    1.781e-06   5.37e-06      0.332      0.740   -8.74e-06    1.23e-05\n",
      "d运动                  -0.0215      0.232     -0.092      0.926      -0.477       0.434\n",
      "d家庭                   0.8403      0.119      7.034      0.000       0.606       1.075\n",
      "d喜剧                  -0.2386      0.061     -3.911      0.000      -0.358      -0.119\n",
      "d古装                  -0.0004      0.113     -0.004      0.997      -0.222       0.221\n",
      "d科幻                   0.1335      0.158      0.847      0.397      -0.176       0.443\n",
      "d武侠                   0.3939      0.165      2.383      0.017       0.070       0.718\n",
      "d传记                   0.6260      0.190      3.295      0.001       0.253       0.999\n",
      "d儿童                   0.0569      0.151      0.378      0.706      -0.238       0.352\n",
      "d惊悚                  -0.8304      0.103     -8.045      0.000      -1.033      -0.628\n",
      "d歌舞                  -0.3541      0.314     -1.129      0.259      -0.969       0.261\n",
      "d奇幻                  -0.1027      0.091     -1.128      0.259      -0.281       0.076\n",
      "d灾难                  -0.0095      0.264     -0.036      0.971      -0.528       0.509\n",
      "d战争                  -0.2761      0.137     -2.017      0.044      -0.544      -0.008\n",
      "d音乐                   0.3805      0.238      1.602      0.109      -0.085       0.846\n",
      "d历史                   0.3302      0.146      2.261      0.024       0.044       0.616\n",
      "d西部                   0.5749      0.437      1.316      0.188      -0.282       1.432\n",
      "d动画                   0.6795      0.116      5.883      0.000       0.453       0.906\n",
      "d爱情                  -0.3938      0.060     -6.555      0.000      -0.512      -0.276\n",
      "d犯罪                   0.2390      0.094      2.529      0.011       0.054       0.424\n",
      "d动作                  -0.3054      0.070     -4.334      0.000      -0.444      -0.167\n",
      "d冒险                  -0.2885      0.106     -2.723      0.007      -0.496      -0.081\n",
      "d悬疑                   0.0243      0.077      0.315      0.753      -0.127       0.175\n",
      "d剧情                   0.7143      0.060     11.939      0.000       0.597       0.832\n",
      "d恐怖                  -0.5417      0.145     -3.731      0.000      -0.826      -0.257\n",
      "y2011                -0.2028      0.140     -1.448      0.148      -0.477       0.072\n",
      "y2012                -0.2992      0.127     -2.359      0.018      -0.548      -0.051\n",
      "y2013                -0.5130      0.129     -3.975      0.000      -0.766      -0.260\n",
      "y2014                -0.6930      0.127     -5.451      0.000      -0.942      -0.444\n",
      "y2015                -0.7166      0.125     -5.725      0.000      -0.962      -0.471\n",
      "y2016                -0.8008      0.125     -6.428      0.000      -1.045      -0.557\n",
      "y2017                -0.7907      0.134     -5.892      0.000      -1.054      -0.528\n",
      "y2018                -0.7229      0.133     -5.429      0.000      -0.984      -0.462\n",
      "y2019                -0.6822      0.135     -5.036      0.000      -0.948      -0.417\n",
      "y2020                -0.7090      0.148     -4.797      0.000      -0.999      -0.419\n",
      "y2021                -0.4456      0.150     -2.970      0.003      -0.740      -0.151\n",
      "y2022                -0.4512      0.228     -1.983      0.047      -0.897      -0.005\n",
      "==============================================================================\n",
      "Omnibus:                       22.813   Durbin-Watson:                   1.906\n",
      "Prob(Omnibus):                  0.000   Jarque-Bera (JB):               17.056\n",
      "Skew:                           0.081   Prob(JB):                     0.000198\n",
      "Kurtosis:                       2.668   Cond. No.                     9.90e+05\n",
      "==============================================================================\n",
      "\n",
      "Notes:\n",
      "[1] Standard Errors assume that the covariance matrix of the errors is correctly specified.\n",
      "[2] The condition number is large, 9.9e+05. This might indicate that there are\n",
      "strong multicollinearity or other numerical problems.\n"
     ]
    }
   ],
   "source": [
    "mod = sm.OLS(y, X)\n",
    "res = mod.fit()\n",
    "print(res.summary())"
   ],
   "metadata": {
    "collapsed": false,
    "pycharm": {
     "name": "#%%\n"
    }
   }
  },
  {
   "cell_type": "code",
   "execution_count": null,
   "outputs": [],
   "source": [
    "# is it possible to visualise multicollinearity?"
   ],
   "metadata": {
    "collapsed": false,
    "pycharm": {
     "name": "#%%\n"
    }
   }
  }
 ],
 "metadata": {
  "kernelspec": {
   "display_name": "Python 3",
   "language": "python",
   "name": "python3"
  },
  "language_info": {
   "codemirror_mode": {
    "name": "ipython",
    "version": 2
   },
   "file_extension": ".py",
   "mimetype": "text/x-python",
   "name": "python",
   "nbconvert_exporter": "python",
   "pygments_lexer": "ipython2",
   "version": "2.7.6"
  }
 },
 "nbformat": 4,
 "nbformat_minor": 0
}
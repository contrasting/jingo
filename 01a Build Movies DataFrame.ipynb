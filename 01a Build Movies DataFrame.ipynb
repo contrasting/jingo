{
 "cells": [
  {
   "cell_type": "code",
   "execution_count": 1,
   "outputs": [],
   "source": [
    "import pickle\n",
    "import pandas as pd"
   ],
   "metadata": {
    "collapsed": false,
    "pycharm": {
     "name": "#%%\n"
    }
   }
  },
  {
   "cell_type": "code",
   "execution_count": 2,
   "outputs": [],
   "source": [
    "with open(\"./data/details_dict.pkl\", \"rb\") as f:\n",
    "    details_dict = pickle.load(f)"
   ],
   "metadata": {
    "collapsed": false,
    "pycharm": {
     "name": "#%%\n"
    }
   }
  },
  {
   "cell_type": "code",
   "execution_count": 3,
   "outputs": [],
   "source": [
    "df = pd.json_normalize([i for i in details_dict.values()])"
   ],
   "metadata": {
    "collapsed": false,
    "pycharm": {
     "name": "#%%\n"
    }
   }
  },
  {
   "cell_type": "code",
   "execution_count": 4,
   "outputs": [
    {
     "data": {
      "text/plain": "            @context       name                 url  \\\n0  http://schema.org      毒战 毒戰  /subject/10344754/   \n1  http://schema.org  粉红女郎之爱人快跑  /subject/10355621/   \n2  http://schema.org      绝命藏宝图  /subject/10355633/   \n3  http://schema.org     就是闹着玩的  /subject/10416189/   \n4  http://schema.org    七个隆咚锵咚锵  /subject/10430281/   \n\n                                               image  \\\n0  https://img9.doubanio.com/view/photo/s_ratio_p...   \n1  https://img2.doubanio.com/view/photo/s_ratio_p...   \n2  https://img2.doubanio.com/view/photo/s_ratio_p...   \n3  https://img1.doubanio.com/view/photo/s_ratio_p...   \n4  https://img9.doubanio.com/view/photo/s_ratio_p...   \n\n                                            director  \\\n0  [{'@type': 'Person', 'url': '/celebrity/116018...   \n1  [{'@type': 'Person', 'url': '/celebrity/131860...   \n2  [{'@type': 'Person', 'url': '/celebrity/127456...   \n3  [{'@type': 'Person', 'url': '/celebrity/131749...   \n4  [{'@type': 'Person', 'url': '/celebrity/131737...   \n\n                                              author  \\\n0  [{'@type': 'Person', 'url': '/celebrity/101784...   \n1  [{'@type': 'Person', 'url': '/celebrity/131860...   \n2  [{'@type': 'Person', 'url': '/celebrity/127456...   \n3  [{'@type': 'Person', 'url': '/celebrity/127434...   \n4  [{'@type': 'Person', 'url': '/celebrity/131737...   \n\n                                               actor datePublished  \\\n0  [{'@type': 'Person', 'url': '/celebrity/105358...    2012-11-15   \n1  [{'@type': 'Person', 'url': '/celebrity/131445...    2013-08-23   \n2  [{'@type': 'Person', 'url': '/celebrity/127456...                 \n3  [{'@type': 'Person', 'url': '/celebrity/129000...    2012-01-23   \n4  [{'@type': 'Person', 'url': '/celebrity/131737...    2012-01-25   \n\n          genre duration                                        description  \\\n0  [剧情, 动作, 犯罪]  PT1H48M  刚刚结束一次危险任务的津海市缉毒大队队长张雷（孙红雷 饰），在医院意外见到因车祸入院治疗的香...   \n1      [喜剧, 爱情]  PT1H41M  为了泡到一个男朋友，结婚狂（阿雅 饰）碰见魔术师高明（锦荣 饰）后，便告诉对方自己怀了他的孩...   \n2      [动作, 悬疑]  PT1H31M  一对不食人间烟火的青年男女——彭少文和程雪珂狼狈地逃到余姚县城门口，他们身后有一群凶神恶煞的...   \n3          [喜剧]  PT1H32M  蔡家庄“鬼才”蔡有才（李易祥 饰）异想天开，竟拿起DV自拍电影，而所拍《鬼子进村》还在乡里拿...   \n4      [喜剧, 爱情]  PT1H39M  韩峰（韩兆 饰）在一天之内丢掉了工作和恋人，一无所有的他陷入了人生的低谷之中。然而，韩峰的运...   \n\n   @type aggregateRating.@type aggregateRating.ratingCount  \\\n0  Movie       AggregateRating                      210072   \n1  Movie       AggregateRating                        1826   \n2  Movie       AggregateRating                          78   \n3  Movie       AggregateRating                        3426   \n4  Movie       AggregateRating                         506   \n\n  aggregateRating.bestRating aggregateRating.worstRating  \\\n0                         10                           2   \n1                         10                           2   \n2                         10                           2   \n3                         10                           2   \n4                         10                           2   \n\n  aggregateRating.ratingValue  \n0                         7.5  \n1                         3.2  \n2                         3.2  \n3                         6.7  \n4                         4.9  ",
      "text/html": "<div>\n<style scoped>\n    .dataframe tbody tr th:only-of-type {\n        vertical-align: middle;\n    }\n\n    .dataframe tbody tr th {\n        vertical-align: top;\n    }\n\n    .dataframe thead th {\n        text-align: right;\n    }\n</style>\n<table border=\"1\" class=\"dataframe\">\n  <thead>\n    <tr style=\"text-align: right;\">\n      <th></th>\n      <th>@context</th>\n      <th>name</th>\n      <th>url</th>\n      <th>image</th>\n      <th>director</th>\n      <th>author</th>\n      <th>actor</th>\n      <th>datePublished</th>\n      <th>genre</th>\n      <th>duration</th>\n      <th>description</th>\n      <th>@type</th>\n      <th>aggregateRating.@type</th>\n      <th>aggregateRating.ratingCount</th>\n      <th>aggregateRating.bestRating</th>\n      <th>aggregateRating.worstRating</th>\n      <th>aggregateRating.ratingValue</th>\n    </tr>\n  </thead>\n  <tbody>\n    <tr>\n      <th>0</th>\n      <td>http://schema.org</td>\n      <td>毒战 毒戰</td>\n      <td>/subject/10344754/</td>\n      <td>https://img9.doubanio.com/view/photo/s_ratio_p...</td>\n      <td>[{'@type': 'Person', 'url': '/celebrity/116018...</td>\n      <td>[{'@type': 'Person', 'url': '/celebrity/101784...</td>\n      <td>[{'@type': 'Person', 'url': '/celebrity/105358...</td>\n      <td>2012-11-15</td>\n      <td>[剧情, 动作, 犯罪]</td>\n      <td>PT1H48M</td>\n      <td>刚刚结束一次危险任务的津海市缉毒大队队长张雷（孙红雷 饰），在医院意外见到因车祸入院治疗的香...</td>\n      <td>Movie</td>\n      <td>AggregateRating</td>\n      <td>210072</td>\n      <td>10</td>\n      <td>2</td>\n      <td>7.5</td>\n    </tr>\n    <tr>\n      <th>1</th>\n      <td>http://schema.org</td>\n      <td>粉红女郎之爱人快跑</td>\n      <td>/subject/10355621/</td>\n      <td>https://img2.doubanio.com/view/photo/s_ratio_p...</td>\n      <td>[{'@type': 'Person', 'url': '/celebrity/131860...</td>\n      <td>[{'@type': 'Person', 'url': '/celebrity/131860...</td>\n      <td>[{'@type': 'Person', 'url': '/celebrity/131445...</td>\n      <td>2013-08-23</td>\n      <td>[喜剧, 爱情]</td>\n      <td>PT1H41M</td>\n      <td>为了泡到一个男朋友，结婚狂（阿雅 饰）碰见魔术师高明（锦荣 饰）后，便告诉对方自己怀了他的孩...</td>\n      <td>Movie</td>\n      <td>AggregateRating</td>\n      <td>1826</td>\n      <td>10</td>\n      <td>2</td>\n      <td>3.2</td>\n    </tr>\n    <tr>\n      <th>2</th>\n      <td>http://schema.org</td>\n      <td>绝命藏宝图</td>\n      <td>/subject/10355633/</td>\n      <td>https://img2.doubanio.com/view/photo/s_ratio_p...</td>\n      <td>[{'@type': 'Person', 'url': '/celebrity/127456...</td>\n      <td>[{'@type': 'Person', 'url': '/celebrity/127456...</td>\n      <td>[{'@type': 'Person', 'url': '/celebrity/127456...</td>\n      <td></td>\n      <td>[动作, 悬疑]</td>\n      <td>PT1H31M</td>\n      <td>一对不食人间烟火的青年男女——彭少文和程雪珂狼狈地逃到余姚县城门口，他们身后有一群凶神恶煞的...</td>\n      <td>Movie</td>\n      <td>AggregateRating</td>\n      <td>78</td>\n      <td>10</td>\n      <td>2</td>\n      <td>3.2</td>\n    </tr>\n    <tr>\n      <th>3</th>\n      <td>http://schema.org</td>\n      <td>就是闹着玩的</td>\n      <td>/subject/10416189/</td>\n      <td>https://img1.doubanio.com/view/photo/s_ratio_p...</td>\n      <td>[{'@type': 'Person', 'url': '/celebrity/131749...</td>\n      <td>[{'@type': 'Person', 'url': '/celebrity/127434...</td>\n      <td>[{'@type': 'Person', 'url': '/celebrity/129000...</td>\n      <td>2012-01-23</td>\n      <td>[喜剧]</td>\n      <td>PT1H32M</td>\n      <td>蔡家庄“鬼才”蔡有才（李易祥 饰）异想天开，竟拿起DV自拍电影，而所拍《鬼子进村》还在乡里拿...</td>\n      <td>Movie</td>\n      <td>AggregateRating</td>\n      <td>3426</td>\n      <td>10</td>\n      <td>2</td>\n      <td>6.7</td>\n    </tr>\n    <tr>\n      <th>4</th>\n      <td>http://schema.org</td>\n      <td>七个隆咚锵咚锵</td>\n      <td>/subject/10430281/</td>\n      <td>https://img9.doubanio.com/view/photo/s_ratio_p...</td>\n      <td>[{'@type': 'Person', 'url': '/celebrity/131737...</td>\n      <td>[{'@type': 'Person', 'url': '/celebrity/131737...</td>\n      <td>[{'@type': 'Person', 'url': '/celebrity/131737...</td>\n      <td>2012-01-25</td>\n      <td>[喜剧, 爱情]</td>\n      <td>PT1H39M</td>\n      <td>韩峰（韩兆 饰）在一天之内丢掉了工作和恋人，一无所有的他陷入了人生的低谷之中。然而，韩峰的运...</td>\n      <td>Movie</td>\n      <td>AggregateRating</td>\n      <td>506</td>\n      <td>10</td>\n      <td>2</td>\n      <td>4.9</td>\n    </tr>\n  </tbody>\n</table>\n</div>"
     },
     "execution_count": 4,
     "metadata": {},
     "output_type": "execute_result"
    }
   ],
   "source": [
    "df.head()"
   ],
   "metadata": {
    "collapsed": false,
    "pycharm": {
     "name": "#%%\n"
    }
   }
  },
  {
   "cell_type": "code",
   "execution_count": 5,
   "outputs": [],
   "source": [
    "# drop bloat\n",
    "df.drop(columns=[\"@context\", \"@type\", \"aggregateRating.@type\"], inplace=True)"
   ],
   "metadata": {
    "collapsed": false,
    "pycharm": {
     "name": "#%%\n"
    }
   }
  },
  {
   "cell_type": "code",
   "execution_count": 6,
   "outputs": [
    {
     "data": {
      "text/plain": "0    10344754\n1    10355621\n2    10355633\n3    10416189\n4    10430281\nName: url, dtype: object"
     },
     "execution_count": 6,
     "metadata": {},
     "output_type": "execute_result"
    }
   ],
   "source": [
    "# add an id column\n",
    "id_col = df.url.str.split(\"/\").str[2]\n",
    "id_col.head()"
   ],
   "metadata": {
    "collapsed": false,
    "pycharm": {
     "name": "#%%\n"
    }
   }
  },
  {
   "cell_type": "code",
   "execution_count": 7,
   "outputs": [
    {
     "data": {
      "text/plain": "         id       name                 url  \\\n0  10344754      毒战 毒戰  /subject/10344754/   \n1  10355621  粉红女郎之爱人快跑  /subject/10355621/   \n2  10355633      绝命藏宝图  /subject/10355633/   \n3  10416189     就是闹着玩的  /subject/10416189/   \n4  10430281    七个隆咚锵咚锵  /subject/10430281/   \n\n                                               image  \\\n0  https://img9.doubanio.com/view/photo/s_ratio_p...   \n1  https://img2.doubanio.com/view/photo/s_ratio_p...   \n2  https://img2.doubanio.com/view/photo/s_ratio_p...   \n3  https://img1.doubanio.com/view/photo/s_ratio_p...   \n4  https://img9.doubanio.com/view/photo/s_ratio_p...   \n\n                                            director  \\\n0  [{'@type': 'Person', 'url': '/celebrity/116018...   \n1  [{'@type': 'Person', 'url': '/celebrity/131860...   \n2  [{'@type': 'Person', 'url': '/celebrity/127456...   \n3  [{'@type': 'Person', 'url': '/celebrity/131749...   \n4  [{'@type': 'Person', 'url': '/celebrity/131737...   \n\n                                              author  \\\n0  [{'@type': 'Person', 'url': '/celebrity/101784...   \n1  [{'@type': 'Person', 'url': '/celebrity/131860...   \n2  [{'@type': 'Person', 'url': '/celebrity/127456...   \n3  [{'@type': 'Person', 'url': '/celebrity/127434...   \n4  [{'@type': 'Person', 'url': '/celebrity/131737...   \n\n                                               actor datePublished  \\\n0  [{'@type': 'Person', 'url': '/celebrity/105358...    2012-11-15   \n1  [{'@type': 'Person', 'url': '/celebrity/131445...    2013-08-23   \n2  [{'@type': 'Person', 'url': '/celebrity/127456...                 \n3  [{'@type': 'Person', 'url': '/celebrity/129000...    2012-01-23   \n4  [{'@type': 'Person', 'url': '/celebrity/131737...    2012-01-25   \n\n          genre duration                                        description  \\\n0  [剧情, 动作, 犯罪]  PT1H48M  刚刚结束一次危险任务的津海市缉毒大队队长张雷（孙红雷 饰），在医院意外见到因车祸入院治疗的香...   \n1      [喜剧, 爱情]  PT1H41M  为了泡到一个男朋友，结婚狂（阿雅 饰）碰见魔术师高明（锦荣 饰）后，便告诉对方自己怀了他的孩...   \n2      [动作, 悬疑]  PT1H31M  一对不食人间烟火的青年男女——彭少文和程雪珂狼狈地逃到余姚县城门口，他们身后有一群凶神恶煞的...   \n3          [喜剧]  PT1H32M  蔡家庄“鬼才”蔡有才（李易祥 饰）异想天开，竟拿起DV自拍电影，而所拍《鬼子进村》还在乡里拿...   \n4      [喜剧, 爱情]  PT1H39M  韩峰（韩兆 饰）在一天之内丢掉了工作和恋人，一无所有的他陷入了人生的低谷之中。然而，韩峰的运...   \n\n  aggregateRating.ratingCount aggregateRating.bestRating  \\\n0                      210072                         10   \n1                        1826                         10   \n2                          78                         10   \n3                        3426                         10   \n4                         506                         10   \n\n  aggregateRating.worstRating aggregateRating.ratingValue  \n0                           2                         7.5  \n1                           2                         3.2  \n2                           2                         3.2  \n3                           2                         6.7  \n4                           2                         4.9  ",
      "text/html": "<div>\n<style scoped>\n    .dataframe tbody tr th:only-of-type {\n        vertical-align: middle;\n    }\n\n    .dataframe tbody tr th {\n        vertical-align: top;\n    }\n\n    .dataframe thead th {\n        text-align: right;\n    }\n</style>\n<table border=\"1\" class=\"dataframe\">\n  <thead>\n    <tr style=\"text-align: right;\">\n      <th></th>\n      <th>id</th>\n      <th>name</th>\n      <th>url</th>\n      <th>image</th>\n      <th>director</th>\n      <th>author</th>\n      <th>actor</th>\n      <th>datePublished</th>\n      <th>genre</th>\n      <th>duration</th>\n      <th>description</th>\n      <th>aggregateRating.ratingCount</th>\n      <th>aggregateRating.bestRating</th>\n      <th>aggregateRating.worstRating</th>\n      <th>aggregateRating.ratingValue</th>\n    </tr>\n  </thead>\n  <tbody>\n    <tr>\n      <th>0</th>\n      <td>10344754</td>\n      <td>毒战 毒戰</td>\n      <td>/subject/10344754/</td>\n      <td>https://img9.doubanio.com/view/photo/s_ratio_p...</td>\n      <td>[{'@type': 'Person', 'url': '/celebrity/116018...</td>\n      <td>[{'@type': 'Person', 'url': '/celebrity/101784...</td>\n      <td>[{'@type': 'Person', 'url': '/celebrity/105358...</td>\n      <td>2012-11-15</td>\n      <td>[剧情, 动作, 犯罪]</td>\n      <td>PT1H48M</td>\n      <td>刚刚结束一次危险任务的津海市缉毒大队队长张雷（孙红雷 饰），在医院意外见到因车祸入院治疗的香...</td>\n      <td>210072</td>\n      <td>10</td>\n      <td>2</td>\n      <td>7.5</td>\n    </tr>\n    <tr>\n      <th>1</th>\n      <td>10355621</td>\n      <td>粉红女郎之爱人快跑</td>\n      <td>/subject/10355621/</td>\n      <td>https://img2.doubanio.com/view/photo/s_ratio_p...</td>\n      <td>[{'@type': 'Person', 'url': '/celebrity/131860...</td>\n      <td>[{'@type': 'Person', 'url': '/celebrity/131860...</td>\n      <td>[{'@type': 'Person', 'url': '/celebrity/131445...</td>\n      <td>2013-08-23</td>\n      <td>[喜剧, 爱情]</td>\n      <td>PT1H41M</td>\n      <td>为了泡到一个男朋友，结婚狂（阿雅 饰）碰见魔术师高明（锦荣 饰）后，便告诉对方自己怀了他的孩...</td>\n      <td>1826</td>\n      <td>10</td>\n      <td>2</td>\n      <td>3.2</td>\n    </tr>\n    <tr>\n      <th>2</th>\n      <td>10355633</td>\n      <td>绝命藏宝图</td>\n      <td>/subject/10355633/</td>\n      <td>https://img2.doubanio.com/view/photo/s_ratio_p...</td>\n      <td>[{'@type': 'Person', 'url': '/celebrity/127456...</td>\n      <td>[{'@type': 'Person', 'url': '/celebrity/127456...</td>\n      <td>[{'@type': 'Person', 'url': '/celebrity/127456...</td>\n      <td></td>\n      <td>[动作, 悬疑]</td>\n      <td>PT1H31M</td>\n      <td>一对不食人间烟火的青年男女——彭少文和程雪珂狼狈地逃到余姚县城门口，他们身后有一群凶神恶煞的...</td>\n      <td>78</td>\n      <td>10</td>\n      <td>2</td>\n      <td>3.2</td>\n    </tr>\n    <tr>\n      <th>3</th>\n      <td>10416189</td>\n      <td>就是闹着玩的</td>\n      <td>/subject/10416189/</td>\n      <td>https://img1.doubanio.com/view/photo/s_ratio_p...</td>\n      <td>[{'@type': 'Person', 'url': '/celebrity/131749...</td>\n      <td>[{'@type': 'Person', 'url': '/celebrity/127434...</td>\n      <td>[{'@type': 'Person', 'url': '/celebrity/129000...</td>\n      <td>2012-01-23</td>\n      <td>[喜剧]</td>\n      <td>PT1H32M</td>\n      <td>蔡家庄“鬼才”蔡有才（李易祥 饰）异想天开，竟拿起DV自拍电影，而所拍《鬼子进村》还在乡里拿...</td>\n      <td>3426</td>\n      <td>10</td>\n      <td>2</td>\n      <td>6.7</td>\n    </tr>\n    <tr>\n      <th>4</th>\n      <td>10430281</td>\n      <td>七个隆咚锵咚锵</td>\n      <td>/subject/10430281/</td>\n      <td>https://img9.doubanio.com/view/photo/s_ratio_p...</td>\n      <td>[{'@type': 'Person', 'url': '/celebrity/131737...</td>\n      <td>[{'@type': 'Person', 'url': '/celebrity/131737...</td>\n      <td>[{'@type': 'Person', 'url': '/celebrity/131737...</td>\n      <td>2012-01-25</td>\n      <td>[喜剧, 爱情]</td>\n      <td>PT1H39M</td>\n      <td>韩峰（韩兆 饰）在一天之内丢掉了工作和恋人，一无所有的他陷入了人生的低谷之中。然而，韩峰的运...</td>\n      <td>506</td>\n      <td>10</td>\n      <td>2</td>\n      <td>4.9</td>\n    </tr>\n  </tbody>\n</table>\n</div>"
     },
     "execution_count": 7,
     "metadata": {},
     "output_type": "execute_result"
    }
   ],
   "source": [
    "df.insert(0, \"id\", id_col)\n",
    "df.head()"
   ],
   "metadata": {
    "collapsed": false,
    "pycharm": {
     "name": "#%%\n"
    }
   }
  },
  {
   "cell_type": "code",
   "execution_count": 8,
   "outputs": [
    {
     "data": {
      "text/plain": "231"
     },
     "execution_count": 8,
     "metadata": {},
     "output_type": "execute_result"
    }
   ],
   "source": [
    "# there are some movies with no publish date. But we can still obtain this info from the HTML file\n",
    "len(df[df.datePublished == \"\"])"
   ],
   "metadata": {
    "collapsed": false,
    "pycharm": {
     "name": "#%%\n"
    }
   }
  },
  {
   "cell_type": "code",
   "execution_count": 10,
   "outputs": [],
   "source": [
    "from bs4 import BeautifulSoup\n",
    "\n",
    "# add year and language column\n",
    "year_col = []\n",
    "lang_col = []\n",
    "\n",
    "for i in df.id:\n",
    "    with open(f\"./data/detail/{i}.html\", 'r', encoding='utf-8') as f:\n",
    "        soup = BeautifulSoup(f)\n",
    "\n",
    "    year = soup.find(\"span\", class_=\"year\").contents[0]\n",
    "    year = year.strip(\"()\")\n",
    "    year_col.append(int(year))\n",
    "\n",
    "    lang = soup.find(\"span\", string=\"语言:\")\n",
    "    lang = lang.next_sibling if lang is not None else None\n",
    "    lang_col.append(lang)\n",
    "\n",
    "df.insert(2, \"year\", year_col)\n",
    "df.insert(10, \"language\", lang_col)"
   ],
   "metadata": {
    "collapsed": false,
    "pycharm": {
     "name": "#%%\n"
    }
   }
  },
  {
   "cell_type": "code",
   "execution_count": 11,
   "outputs": [
    {
     "data": {
      "text/plain": "         id       name  year                 url  \\\n0  10344754      毒战 毒戰  2012  /subject/10344754/   \n1  10355621  粉红女郎之爱人快跑  2013  /subject/10355621/   \n2  10355633      绝命藏宝图  2012  /subject/10355633/   \n3  10416189     就是闹着玩的  2012  /subject/10416189/   \n4  10430281    七个隆咚锵咚锵  2012  /subject/10430281/   \n\n                                               image  \\\n0  https://img9.doubanio.com/view/photo/s_ratio_p...   \n1  https://img2.doubanio.com/view/photo/s_ratio_p...   \n2  https://img2.doubanio.com/view/photo/s_ratio_p...   \n3  https://img1.doubanio.com/view/photo/s_ratio_p...   \n4  https://img9.doubanio.com/view/photo/s_ratio_p...   \n\n                                            director  \\\n0  [{'@type': 'Person', 'url': '/celebrity/116018...   \n1  [{'@type': 'Person', 'url': '/celebrity/131860...   \n2  [{'@type': 'Person', 'url': '/celebrity/127456...   \n3  [{'@type': 'Person', 'url': '/celebrity/131749...   \n4  [{'@type': 'Person', 'url': '/celebrity/131737...   \n\n                                              author  \\\n0  [{'@type': 'Person', 'url': '/celebrity/101784...   \n1  [{'@type': 'Person', 'url': '/celebrity/131860...   \n2  [{'@type': 'Person', 'url': '/celebrity/127456...   \n3  [{'@type': 'Person', 'url': '/celebrity/127434...   \n4  [{'@type': 'Person', 'url': '/celebrity/131737...   \n\n                                               actor datePublished  \\\n0  [{'@type': 'Person', 'url': '/celebrity/105358...    2012-11-15   \n1  [{'@type': 'Person', 'url': '/celebrity/131445...    2013-08-23   \n2  [{'@type': 'Person', 'url': '/celebrity/127456...                 \n3  [{'@type': 'Person', 'url': '/celebrity/129000...    2012-01-23   \n4  [{'@type': 'Person', 'url': '/celebrity/131737...    2012-01-25   \n\n          genre     language duration  \\\n0  [剧情, 动作, 犯罪]   汉语普通话 / 粤语  PT1H48M   \n1      [喜剧, 爱情]        汉语普通话  PT1H41M   \n2      [动作, 悬疑]        汉语普通话  PT1H31M   \n3          [喜剧]          河南话  PT1H32M   \n4      [喜剧, 爱情]        汉语普通话  PT1H39M   \n\n                                         description  \\\n0  刚刚结束一次危险任务的津海市缉毒大队队长张雷（孙红雷 饰），在医院意外见到因车祸入院治疗的香...   \n1  为了泡到一个男朋友，结婚狂（阿雅 饰）碰见魔术师高明（锦荣 饰）后，便告诉对方自己怀了他的孩...   \n2  一对不食人间烟火的青年男女——彭少文和程雪珂狼狈地逃到余姚县城门口，他们身后有一群凶神恶煞的...   \n3  蔡家庄“鬼才”蔡有才（李易祥 饰）异想天开，竟拿起DV自拍电影，而所拍《鬼子进村》还在乡里拿...   \n4  韩峰（韩兆 饰）在一天之内丢掉了工作和恋人，一无所有的他陷入了人生的低谷之中。然而，韩峰的运...   \n\n  aggregateRating.ratingCount aggregateRating.bestRating  \\\n0                      210072                         10   \n1                        1826                         10   \n2                          78                         10   \n3                        3426                         10   \n4                         506                         10   \n\n  aggregateRating.worstRating aggregateRating.ratingValue  \n0                           2                         7.5  \n1                           2                         3.2  \n2                           2                         3.2  \n3                           2                         6.7  \n4                           2                         4.9  ",
      "text/html": "<div>\n<style scoped>\n    .dataframe tbody tr th:only-of-type {\n        vertical-align: middle;\n    }\n\n    .dataframe tbody tr th {\n        vertical-align: top;\n    }\n\n    .dataframe thead th {\n        text-align: right;\n    }\n</style>\n<table border=\"1\" class=\"dataframe\">\n  <thead>\n    <tr style=\"text-align: right;\">\n      <th></th>\n      <th>id</th>\n      <th>name</th>\n      <th>year</th>\n      <th>url</th>\n      <th>image</th>\n      <th>director</th>\n      <th>author</th>\n      <th>actor</th>\n      <th>datePublished</th>\n      <th>genre</th>\n      <th>language</th>\n      <th>duration</th>\n      <th>description</th>\n      <th>aggregateRating.ratingCount</th>\n      <th>aggregateRating.bestRating</th>\n      <th>aggregateRating.worstRating</th>\n      <th>aggregateRating.ratingValue</th>\n    </tr>\n  </thead>\n  <tbody>\n    <tr>\n      <th>0</th>\n      <td>10344754</td>\n      <td>毒战 毒戰</td>\n      <td>2012</td>\n      <td>/subject/10344754/</td>\n      <td>https://img9.doubanio.com/view/photo/s_ratio_p...</td>\n      <td>[{'@type': 'Person', 'url': '/celebrity/116018...</td>\n      <td>[{'@type': 'Person', 'url': '/celebrity/101784...</td>\n      <td>[{'@type': 'Person', 'url': '/celebrity/105358...</td>\n      <td>2012-11-15</td>\n      <td>[剧情, 动作, 犯罪]</td>\n      <td>汉语普通话 / 粤语</td>\n      <td>PT1H48M</td>\n      <td>刚刚结束一次危险任务的津海市缉毒大队队长张雷（孙红雷 饰），在医院意外见到因车祸入院治疗的香...</td>\n      <td>210072</td>\n      <td>10</td>\n      <td>2</td>\n      <td>7.5</td>\n    </tr>\n    <tr>\n      <th>1</th>\n      <td>10355621</td>\n      <td>粉红女郎之爱人快跑</td>\n      <td>2013</td>\n      <td>/subject/10355621/</td>\n      <td>https://img2.doubanio.com/view/photo/s_ratio_p...</td>\n      <td>[{'@type': 'Person', 'url': '/celebrity/131860...</td>\n      <td>[{'@type': 'Person', 'url': '/celebrity/131860...</td>\n      <td>[{'@type': 'Person', 'url': '/celebrity/131445...</td>\n      <td>2013-08-23</td>\n      <td>[喜剧, 爱情]</td>\n      <td>汉语普通话</td>\n      <td>PT1H41M</td>\n      <td>为了泡到一个男朋友，结婚狂（阿雅 饰）碰见魔术师高明（锦荣 饰）后，便告诉对方自己怀了他的孩...</td>\n      <td>1826</td>\n      <td>10</td>\n      <td>2</td>\n      <td>3.2</td>\n    </tr>\n    <tr>\n      <th>2</th>\n      <td>10355633</td>\n      <td>绝命藏宝图</td>\n      <td>2012</td>\n      <td>/subject/10355633/</td>\n      <td>https://img2.doubanio.com/view/photo/s_ratio_p...</td>\n      <td>[{'@type': 'Person', 'url': '/celebrity/127456...</td>\n      <td>[{'@type': 'Person', 'url': '/celebrity/127456...</td>\n      <td>[{'@type': 'Person', 'url': '/celebrity/127456...</td>\n      <td></td>\n      <td>[动作, 悬疑]</td>\n      <td>汉语普通话</td>\n      <td>PT1H31M</td>\n      <td>一对不食人间烟火的青年男女——彭少文和程雪珂狼狈地逃到余姚县城门口，他们身后有一群凶神恶煞的...</td>\n      <td>78</td>\n      <td>10</td>\n      <td>2</td>\n      <td>3.2</td>\n    </tr>\n    <tr>\n      <th>3</th>\n      <td>10416189</td>\n      <td>就是闹着玩的</td>\n      <td>2012</td>\n      <td>/subject/10416189/</td>\n      <td>https://img1.doubanio.com/view/photo/s_ratio_p...</td>\n      <td>[{'@type': 'Person', 'url': '/celebrity/131749...</td>\n      <td>[{'@type': 'Person', 'url': '/celebrity/127434...</td>\n      <td>[{'@type': 'Person', 'url': '/celebrity/129000...</td>\n      <td>2012-01-23</td>\n      <td>[喜剧]</td>\n      <td>河南话</td>\n      <td>PT1H32M</td>\n      <td>蔡家庄“鬼才”蔡有才（李易祥 饰）异想天开，竟拿起DV自拍电影，而所拍《鬼子进村》还在乡里拿...</td>\n      <td>3426</td>\n      <td>10</td>\n      <td>2</td>\n      <td>6.7</td>\n    </tr>\n    <tr>\n      <th>4</th>\n      <td>10430281</td>\n      <td>七个隆咚锵咚锵</td>\n      <td>2012</td>\n      <td>/subject/10430281/</td>\n      <td>https://img9.doubanio.com/view/photo/s_ratio_p...</td>\n      <td>[{'@type': 'Person', 'url': '/celebrity/131737...</td>\n      <td>[{'@type': 'Person', 'url': '/celebrity/131737...</td>\n      <td>[{'@type': 'Person', 'url': '/celebrity/131737...</td>\n      <td>2012-01-25</td>\n      <td>[喜剧, 爱情]</td>\n      <td>汉语普通话</td>\n      <td>PT1H39M</td>\n      <td>韩峰（韩兆 饰）在一天之内丢掉了工作和恋人，一无所有的他陷入了人生的低谷之中。然而，韩峰的运...</td>\n      <td>506</td>\n      <td>10</td>\n      <td>2</td>\n      <td>4.9</td>\n    </tr>\n  </tbody>\n</table>\n</div>"
     },
     "execution_count": 11,
     "metadata": {},
     "output_type": "execute_result"
    }
   ],
   "source": [
    "df.head()"
   ],
   "metadata": {
    "collapsed": false,
    "pycharm": {
     "name": "#%%\n"
    }
   }
  },
  {
   "cell_type": "code",
   "execution_count": 14,
   "outputs": [
    {
     "data": {
      "text/plain": "         id       name  year                 url  \\\n0  10344754      毒战 毒戰  2012  /subject/10344754/   \n1  10355621  粉红女郎之爱人快跑  2013  /subject/10355621/   \n2  10355633      绝命藏宝图  2012  /subject/10355633/   \n3  10416189     就是闹着玩的  2012  /subject/10416189/   \n4  10430281    七个隆咚锵咚锵  2012  /subject/10430281/   \n\n                                               image  \\\n0  https://img9.doubanio.com/view/photo/s_ratio_p...   \n1  https://img2.doubanio.com/view/photo/s_ratio_p...   \n2  https://img2.doubanio.com/view/photo/s_ratio_p...   \n3  https://img1.doubanio.com/view/photo/s_ratio_p...   \n4  https://img9.doubanio.com/view/photo/s_ratio_p...   \n\n                                            director  \\\n0  [{'@type': 'Person', 'url': '/celebrity/116018...   \n1  [{'@type': 'Person', 'url': '/celebrity/131860...   \n2  [{'@type': 'Person', 'url': '/celebrity/127456...   \n3  [{'@type': 'Person', 'url': '/celebrity/131749...   \n4  [{'@type': 'Person', 'url': '/celebrity/131737...   \n\n                                              author  \\\n0  [{'@type': 'Person', 'url': '/celebrity/101784...   \n1  [{'@type': 'Person', 'url': '/celebrity/131860...   \n2  [{'@type': 'Person', 'url': '/celebrity/127456...   \n3  [{'@type': 'Person', 'url': '/celebrity/127434...   \n4  [{'@type': 'Person', 'url': '/celebrity/131737...   \n\n                                               actor datePublished  \\\n0  [{'@type': 'Person', 'url': '/celebrity/105358...    2012-11-15   \n1  [{'@type': 'Person', 'url': '/celebrity/131445...    2013-08-23   \n2  [{'@type': 'Person', 'url': '/celebrity/127456...                 \n3  [{'@type': 'Person', 'url': '/celebrity/129000...    2012-01-23   \n4  [{'@type': 'Person', 'url': '/celebrity/131737...    2012-01-25   \n\n          genre     language duration  \\\n0  [剧情, 动作, 犯罪]   汉语普通话 / 粤语  PT1H48M   \n1      [喜剧, 爱情]        汉语普通话  PT1H41M   \n2      [动作, 悬疑]        汉语普通话  PT1H31M   \n3          [喜剧]          河南话  PT1H32M   \n4      [喜剧, 爱情]        汉语普通话  PT1H39M   \n\n                                         description ratingCount bestRating  \\\n0  刚刚结束一次危险任务的津海市缉毒大队队长张雷（孙红雷 饰），在医院意外见到因车祸入院治疗的香...      210072         10   \n1  为了泡到一个男朋友，结婚狂（阿雅 饰）碰见魔术师高明（锦荣 饰）后，便告诉对方自己怀了他的孩...        1826         10   \n2  一对不食人间烟火的青年男女——彭少文和程雪珂狼狈地逃到余姚县城门口，他们身后有一群凶神恶煞的...          78         10   \n3  蔡家庄“鬼才”蔡有才（李易祥 饰）异想天开，竟拿起DV自拍电影，而所拍《鬼子进村》还在乡里拿...        3426         10   \n4  韩峰（韩兆 饰）在一天之内丢掉了工作和恋人，一无所有的他陷入了人生的低谷之中。然而，韩峰的运...         506         10   \n\n  worstRating ratingValue  \n0           2         7.5  \n1           2         3.2  \n2           2         3.2  \n3           2         6.7  \n4           2         4.9  ",
      "text/html": "<div>\n<style scoped>\n    .dataframe tbody tr th:only-of-type {\n        vertical-align: middle;\n    }\n\n    .dataframe tbody tr th {\n        vertical-align: top;\n    }\n\n    .dataframe thead th {\n        text-align: right;\n    }\n</style>\n<table border=\"1\" class=\"dataframe\">\n  <thead>\n    <tr style=\"text-align: right;\">\n      <th></th>\n      <th>id</th>\n      <th>name</th>\n      <th>year</th>\n      <th>url</th>\n      <th>image</th>\n      <th>director</th>\n      <th>author</th>\n      <th>actor</th>\n      <th>datePublished</th>\n      <th>genre</th>\n      <th>language</th>\n      <th>duration</th>\n      <th>description</th>\n      <th>ratingCount</th>\n      <th>bestRating</th>\n      <th>worstRating</th>\n      <th>ratingValue</th>\n    </tr>\n  </thead>\n  <tbody>\n    <tr>\n      <th>0</th>\n      <td>10344754</td>\n      <td>毒战 毒戰</td>\n      <td>2012</td>\n      <td>/subject/10344754/</td>\n      <td>https://img9.doubanio.com/view/photo/s_ratio_p...</td>\n      <td>[{'@type': 'Person', 'url': '/celebrity/116018...</td>\n      <td>[{'@type': 'Person', 'url': '/celebrity/101784...</td>\n      <td>[{'@type': 'Person', 'url': '/celebrity/105358...</td>\n      <td>2012-11-15</td>\n      <td>[剧情, 动作, 犯罪]</td>\n      <td>汉语普通话 / 粤语</td>\n      <td>PT1H48M</td>\n      <td>刚刚结束一次危险任务的津海市缉毒大队队长张雷（孙红雷 饰），在医院意外见到因车祸入院治疗的香...</td>\n      <td>210072</td>\n      <td>10</td>\n      <td>2</td>\n      <td>7.5</td>\n    </tr>\n    <tr>\n      <th>1</th>\n      <td>10355621</td>\n      <td>粉红女郎之爱人快跑</td>\n      <td>2013</td>\n      <td>/subject/10355621/</td>\n      <td>https://img2.doubanio.com/view/photo/s_ratio_p...</td>\n      <td>[{'@type': 'Person', 'url': '/celebrity/131860...</td>\n      <td>[{'@type': 'Person', 'url': '/celebrity/131860...</td>\n      <td>[{'@type': 'Person', 'url': '/celebrity/131445...</td>\n      <td>2013-08-23</td>\n      <td>[喜剧, 爱情]</td>\n      <td>汉语普通话</td>\n      <td>PT1H41M</td>\n      <td>为了泡到一个男朋友，结婚狂（阿雅 饰）碰见魔术师高明（锦荣 饰）后，便告诉对方自己怀了他的孩...</td>\n      <td>1826</td>\n      <td>10</td>\n      <td>2</td>\n      <td>3.2</td>\n    </tr>\n    <tr>\n      <th>2</th>\n      <td>10355633</td>\n      <td>绝命藏宝图</td>\n      <td>2012</td>\n      <td>/subject/10355633/</td>\n      <td>https://img2.doubanio.com/view/photo/s_ratio_p...</td>\n      <td>[{'@type': 'Person', 'url': '/celebrity/127456...</td>\n      <td>[{'@type': 'Person', 'url': '/celebrity/127456...</td>\n      <td>[{'@type': 'Person', 'url': '/celebrity/127456...</td>\n      <td></td>\n      <td>[动作, 悬疑]</td>\n      <td>汉语普通话</td>\n      <td>PT1H31M</td>\n      <td>一对不食人间烟火的青年男女——彭少文和程雪珂狼狈地逃到余姚县城门口，他们身后有一群凶神恶煞的...</td>\n      <td>78</td>\n      <td>10</td>\n      <td>2</td>\n      <td>3.2</td>\n    </tr>\n    <tr>\n      <th>3</th>\n      <td>10416189</td>\n      <td>就是闹着玩的</td>\n      <td>2012</td>\n      <td>/subject/10416189/</td>\n      <td>https://img1.doubanio.com/view/photo/s_ratio_p...</td>\n      <td>[{'@type': 'Person', 'url': '/celebrity/131749...</td>\n      <td>[{'@type': 'Person', 'url': '/celebrity/127434...</td>\n      <td>[{'@type': 'Person', 'url': '/celebrity/129000...</td>\n      <td>2012-01-23</td>\n      <td>[喜剧]</td>\n      <td>河南话</td>\n      <td>PT1H32M</td>\n      <td>蔡家庄“鬼才”蔡有才（李易祥 饰）异想天开，竟拿起DV自拍电影，而所拍《鬼子进村》还在乡里拿...</td>\n      <td>3426</td>\n      <td>10</td>\n      <td>2</td>\n      <td>6.7</td>\n    </tr>\n    <tr>\n      <th>4</th>\n      <td>10430281</td>\n      <td>七个隆咚锵咚锵</td>\n      <td>2012</td>\n      <td>/subject/10430281/</td>\n      <td>https://img9.doubanio.com/view/photo/s_ratio_p...</td>\n      <td>[{'@type': 'Person', 'url': '/celebrity/131737...</td>\n      <td>[{'@type': 'Person', 'url': '/celebrity/131737...</td>\n      <td>[{'@type': 'Person', 'url': '/celebrity/131737...</td>\n      <td>2012-01-25</td>\n      <td>[喜剧, 爱情]</td>\n      <td>汉语普通话</td>\n      <td>PT1H39M</td>\n      <td>韩峰（韩兆 饰）在一天之内丢掉了工作和恋人，一无所有的他陷入了人生的低谷之中。然而，韩峰的运...</td>\n      <td>506</td>\n      <td>10</td>\n      <td>2</td>\n      <td>4.9</td>\n    </tr>\n  </tbody>\n</table>\n</div>"
     },
     "execution_count": 14,
     "metadata": {},
     "output_type": "execute_result"
    }
   ],
   "source": [
    "df.rename(columns={\"aggregateRating.ratingCount\": \"ratingCount\", \"aggregateRating.bestRating\": \"bestRating\", \"aggregateRating.worstRating\": \"worstRating\", \"aggregateRating.ratingValue\": \"ratingValue\"}, inplace=True)\n",
    "df.head()"
   ],
   "metadata": {
    "collapsed": false,
    "pycharm": {
     "name": "#%%\n"
    }
   }
  },
  {
   "cell_type": "code",
   "execution_count": 15,
   "outputs": [],
   "source": [
    "df.to_csv(\"./data/movies_df.csv\")"
   ],
   "metadata": {
    "collapsed": false,
    "pycharm": {
     "name": "#%%\n"
    }
   }
  }
 ],
 "metadata": {
  "kernelspec": {
   "display_name": "Python 3",
   "language": "python",
   "name": "python3"
  },
  "language_info": {
   "codemirror_mode": {
    "name": "ipython",
    "version": 2
   },
   "file_extension": ".py",
   "mimetype": "text/x-python",
   "name": "python",
   "nbconvert_exporter": "python",
   "pygments_lexer": "ipython2",
   "version": "2.7.6"
  }
 },
 "nbformat": 4,
 "nbformat_minor": 0
}